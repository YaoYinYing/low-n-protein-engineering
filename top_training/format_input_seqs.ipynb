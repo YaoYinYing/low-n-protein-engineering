{
 "cells": [
  {
   "cell_type": "code",
   "execution_count": 1,
   "metadata": {
    "collapsed": true
   },
   "outputs": [],
   "source": [
    "import numpy as np\n",
    "from data_utils import aa_seq_to_int, int_to_aa, bucketbatchpad"
   ]
  },
  {
   "cell_type": "code",
   "execution_count": 2,
   "metadata": {
    "collapsed": true
   },
   "outputs": [],
   "source": [
    "def is_valid_seq(seq, max_len=2000):\n",
    "    \"\"\"\n",
    "    True if seq is valid for the babbler, False otherwise.\n",
    "    \"\"\"\n",
    "    l = len(seq)\n",
    "    valid_aas = \"MRHKDESTNQCUGPAVIFYWLO\"\n",
    "    if (l < max_len) and set(seq) <= set(valid_aas):\n",
    "        return True\n",
    "    else:\n",
    "        return False\n",
    "\n",
    "def format_seq(seq,stop=False):\n",
    "    \"\"\"\n",
    "    Takes an amino acid sequence, returns a list of integers in the codex of the babbler.\n",
    "    Here, the default is to strip the stop symbol (stop=False) which would have \n",
    "    otherwise been added to the end of the sequence. If you are trying to generate\n",
    "    a rep, do not include the stop. It is probably best to ignore the stop if you are\n",
    "    co-tuning the babbler and a top model as well.\n",
    "    \"\"\"\n",
    "    if stop:\n",
    "        int_seq = aa_seq_to_int(seq.strip())\n",
    "    else:\n",
    "        int_seq = aa_seq_to_int(seq.strip())[:-1]\n",
    "    return int_seq\n",
    "\n",
    "    "
   ]
  },
  {
   "cell_type": "code",
   "execution_count": 3,
   "metadata": {
    "collapsed": true
   },
   "outputs": [],
   "source": [
    "# load fitnesses\n",
    "fitnesses = []\n",
    "with open(\"fitness.txt\", \"r\") as fitness:\n",
    "    lines = fitness.readlines()\n",
    "    for line in lines:\n",
    "        fitnesses.append(int(float(line)*2))\n",
    "        \n",
    "# load sequences (NOT in fasta format - sequences only)\n",
    "# SAVES OUTPUT SEQUENCES IN CORRECT FORMAT\n",
    "# 1ST ENTRY CORRESPONDS TO FITNESS SCORE!! MAKE SURE TO SPLICE IT OFF BEFORE TRAINING.\n",
    "with open(\"wt_mutants.txt\", \"r\") as source:\n",
    "    with open(\"wt_mutants_formatted.txt\", \"w\") as destination:\n",
    "        for i,seq in enumerate(source):\n",
    "            seq = seq.strip()\n",
    "            if is_valid_seq(seq) and len(seq) < 300: \n",
    "                formatted = \",\".join(map(str,format_seq(seq)))\n",
    "                destination.write(str(fitnesses[i]) + ',' + formatted)\n",
    "                destination.write('\\n')\n"
   ]
  },
  {
   "cell_type": "code",
   "execution_count": null,
   "metadata": {
    "collapsed": true
   },
   "outputs": [],
   "source": []
  }
 ],
 "metadata": {
  "kernelspec": {
   "display_name": "Python 3",
   "language": "python",
   "name": "python3"
  },
  "language_info": {
   "codemirror_mode": {
    "name": "ipython",
    "version": 3
   },
   "file_extension": ".py",
   "mimetype": "text/x-python",
   "name": "python",
   "nbconvert_exporter": "python",
   "pygments_lexer": "ipython3",
   "version": "3.6.1"
  }
 },
 "nbformat": 4,
 "nbformat_minor": 2
}

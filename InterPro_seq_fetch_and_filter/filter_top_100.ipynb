{
 "cells": [
  {
   "cell_type": "code",
   "execution_count": 1,
   "metadata": {
    "collapsed": true
   },
   "outputs": [],
   "source": [
    "from Bio import SeqIO\n",
    "import pandas as pd\n",
    "import re\n",
    "from Levenshtein import distance\n",
    "import numpy as np\n",
    "import matplotlib.pyplot as plt"
   ]
  },
  {
   "cell_type": "code",
   "execution_count": 2,
   "metadata": {
    "collapsed": true
   },
   "outputs": [],
   "source": [
    "# input FASTA file:\n",
    "in_fasta = 'dlh'\n",
    "\n",
    "# in and out paths\n",
    "in_path = 'inputs/' + in_fasta + '.fasta.txt'\n",
    "out_path = 'outputs/clean_' + in_fasta + '.fasta.txt'"
   ]
  },
  {
   "cell_type": "code",
   "execution_count": 3,
   "metadata": {},
   "outputs": [
    {
     "name": "stdout",
     "output_type": "stream",
     "text": [
      "Total number of input sequences: 70110\n"
     ]
    },
    {
     "data": {
      "text/html": [
       "<div>\n",
       "<style scoped>\n",
       "    .dataframe tbody tr th:only-of-type {\n",
       "        vertical-align: middle;\n",
       "    }\n",
       "\n",
       "    .dataframe tbody tr th {\n",
       "        vertical-align: top;\n",
       "    }\n",
       "\n",
       "    .dataframe thead th {\n",
       "        text-align: right;\n",
       "    }\n",
       "</style>\n",
       "<table border=\"1\" class=\"dataframe\">\n",
       "  <thead>\n",
       "    <tr style=\"text-align: right;\">\n",
       "      <th></th>\n",
       "      <th>name</th>\n",
       "      <th>sequence</th>\n",
       "    </tr>\n",
       "  </thead>\n",
       "  <tbody>\n",
       "    <tr>\n",
       "      <th>0</th>\n",
       "      <td>A0A009EPN2|IPR002925|21...241|DLH</td>\n",
       "      <td>MAAIKTREIQYTAQDGSTLIGYFAAPETDAPVAGVIVAPEWWGRND...</td>\n",
       "    </tr>\n",
       "    <tr>\n",
       "      <th>1</th>\n",
       "      <td>A0A009GF28|IPR002925|22...242|DLH</td>\n",
       "      <td>MSTAIKTREIQYTAPDGSHLIGYFAAPDSETPVAGVIVAPEWWGRN...</td>\n",
       "    </tr>\n",
       "    <tr>\n",
       "      <th>2</th>\n",
       "      <td>A0A009GFC1|IPR002925|16...232|Dienelactone</td>\n",
       "      <td>MAGQTIQIKTASGKQFSAYLATPETGKGPGVVLCQEIFGVNAAMRE...</td>\n",
       "    </tr>\n",
       "    <tr>\n",
       "      <th>3</th>\n",
       "      <td>A0A009GGE5|IPR002925|16...231|DLH</td>\n",
       "      <td>MAGQTVQIKTASGKQFSAYLATPETEKGPGVVLCQEIFGVNAAMRE...</td>\n",
       "    </tr>\n",
       "    <tr>\n",
       "      <th>4</th>\n",
       "      <td>A0A009H5J6|IPR002925|22...242|DLH</td>\n",
       "      <td>MSTAIKTREIQYTAPDGSHLIGYFAAPDSETPVAGVIVAPEWWGRN...</td>\n",
       "    </tr>\n",
       "  </tbody>\n",
       "</table>\n",
       "</div>"
      ],
      "text/plain": [
       "                                         name  \\\n",
       "0           A0A009EPN2|IPR002925|21...241|DLH   \n",
       "1           A0A009GF28|IPR002925|22...242|DLH   \n",
       "2  A0A009GFC1|IPR002925|16...232|Dienelactone   \n",
       "3           A0A009GGE5|IPR002925|16...231|DLH   \n",
       "4           A0A009H5J6|IPR002925|22...242|DLH   \n",
       "\n",
       "                                            sequence  \n",
       "0  MAAIKTREIQYTAQDGSTLIGYFAAPETDAPVAGVIVAPEWWGRND...  \n",
       "1  MSTAIKTREIQYTAPDGSHLIGYFAAPDSETPVAGVIVAPEWWGRN...  \n",
       "2  MAGQTIQIKTASGKQFSAYLATPETGKGPGVVLCQEIFGVNAAMRE...  \n",
       "3  MAGQTVQIKTASGKQFSAYLATPETEKGPGVVLCQEIFGVNAAMRE...  \n",
       "4  MSTAIKTREIQYTAPDGSHLIGYFAAPDSETPVAGVIVAPEWWGRN...  "
      ]
     },
     "execution_count": 3,
     "metadata": {},
     "output_type": "execute_result"
    }
   ],
   "source": [
    "# put sequences into a pandas dataframe\n",
    "fasta_seqs = SeqIO.parse(open(in_path),'fasta')\n",
    "data = []\n",
    "for fasta in fasta_seqs:\n",
    "    data.append([fasta.id, str(fasta.seq).strip()])\n",
    "    \n",
    "sequences_df = pd.DataFrame(data, columns = ['name', 'sequence'])\n",
    "\n",
    "print('Total number of input sequences:', len(sequences_df))\n",
    "\n",
    "sequences_df.head()"
   ]
  },
  {
   "cell_type": "code",
   "execution_count": 4,
   "metadata": {},
   "outputs": [
    {
     "name": "stdout",
     "output_type": "stream",
     "text": [
      "Total number of sequences dropped: 231\n",
      "Total number of sequences remaining: 69879\n"
     ]
    }
   ],
   "source": [
    "# remove sequences with length > 1000 AA's\n",
    "rows2drop = []\n",
    "for i in range(len(sequences_df)):\n",
    "    if (len(sequences_df.sequence[i]) > 1000):\n",
    "        rows2drop.append(i)\n",
    "\n",
    "print('Total number of sequences dropped:', len(rows2drop))\n",
    "\n",
    "sequences_df = sequences_df.drop(rows2drop).reset_index()\n",
    "\n",
    "print('Total number of sequences remaining:', len(sequences_df))\n"
   ]
  },
  {
   "cell_type": "code",
   "execution_count": 5,
   "metadata": {},
   "outputs": [
    {
     "name": "stdout",
     "output_type": "stream",
     "text": [
      "Total number of sequences dropped: 852\n",
      "Total number of sequences remaining: 69027\n"
     ]
    }
   ],
   "source": [
    "# remove sequences with invalid AA residues\n",
    "#valid_alphabet = ['F','I','W','L','V','M','Y','C','A','T','H','G','S','Q','R','K','N','E','P','D']\n",
    "\n",
    "def validate(seq, pattern=re.compile(r'^[FIWLVMYCATHGSQRKNEPD]+$')):\n",
    "    if (pattern.match(seq)):\n",
    "        return True\n",
    "    return False\n",
    "\n",
    "invalid_seqs = []\n",
    "\n",
    "for i in range(len(sequences_df)):\n",
    "    if (not validate(sequences_df.sequence[i])):\n",
    "        invalid_seqs.append(i)\n",
    "        \n",
    "print('Total number of sequences dropped:', len(invalid_seqs))\n",
    "\n",
    "sequences_df = sequences_df.drop(invalid_seqs).reset_index()\n",
    "\n",
    "print('Total number of sequences remaining:', len(sequences_df))\n"
   ]
  },
  {
   "cell_type": "code",
   "execution_count": 6,
   "metadata": {
    "collapsed": true
   },
   "outputs": [],
   "source": [
    "# save clean sequences as a .fasta.txt file\n",
    "out_file = open(out_path, \"w\")\n",
    "for i in range(len(sequences_df)):\n",
    "    out_file.write('>' + sequences_df.name[i] + '\\n')\n",
    "    out_file.write(sequences_df.sequence[i] + '\\n')\n",
    "out_file.close()\n"
   ]
  },
  {
   "cell_type": "code",
   "execution_count": 7,
   "metadata": {},
   "outputs": [
    {
     "name": "stdout",
     "output_type": "stream",
     "text": [
      "['MNFPRASRLMQAAVLGGLMAVSAAATAQTNPYARGPNPTAASLEASAGPFTVRSFTVSRPSGYGAGTVYYPTNAGGTVGAIAIVPGYTARQSSIKWWGPRLASHGFVVITIDTNSTFDYPSSRSSQQMAALRQVASLNGDSSSPIYGKVDTARMGVMGHSMGGGASLRSAANNPSLKAAIPQAPWDSQTNFSSVTVPTLIFACENDSIAPVNSHALPIYDSMSRNAKQFLEINGGSHSCANSGNSNQALIGKKGVAWMKRFMDNDTRYSTFACENPNSTAVSDFRTANCS']\n"
     ]
    }
   ],
   "source": [
    "# load target sequence\n",
    "\n",
    "target_fasta = 'duraPETase'\n",
    "target_path = 'inputs/' + target_fasta + '.fasta.txt'\n",
    "target_seqs = SeqIO.parse(open(target_path),'fasta')\n",
    "targets = []\n",
    "for target in target_seqs:\n",
    "    targets.append(str(target.seq).strip())\n",
    "    \n",
    "print(targets)\n"
   ]
  },
  {
   "cell_type": "code",
   "execution_count": 8,
   "metadata": {},
   "outputs": [
    {
     "name": "stdout",
     "output_type": "stream",
     "text": [
      "Mean Levenstein distance: 241.09273182957392\n"
     ]
    }
   ],
   "source": [
    "# calculate levenstein distance from chosen target sequence\n",
    "\n",
    "distances = []\n",
    "for i in range(len(sequences_df)):\n",
    "    distances.append(distance(targets[0], sequences_df.sequence[i]))\n",
    "distances = np.array(distances)\n",
    "\n",
    "mean_dist = np.mean(distances)\n",
    "\n",
    "print(\"Mean Levenstein distance:\", mean_dist)\n"
   ]
  },
  {
   "cell_type": "code",
   "execution_count": 9,
   "metadata": {},
   "outputs": [
    {
     "data": {
      "image/png": "[encoded data removed]",
      "text/plain": [
       "<matplotlib.figure.Figure at 0x1132e0f60>"
      ]
     },
     "metadata": {},
     "output_type": "display_data"
    }
   ],
   "source": [
    "# histogram of Levenstein distances from target sequence\n",
    "plt.clf()\n",
    "plt.hist(distances, bins=20, range=(0,350))\n",
    "plt.show()"
   ]
  },
  {
   "cell_type": "code",
   "execution_count": 10,
   "metadata": {
    "collapsed": true
   },
   "outputs": [],
   "source": [
    "# get the top 100 scores.\n",
    "k = 100\n",
    "idx = np.argpartition(distances, k)\n",
    "\n",
    "closest_100 = []\n",
    "closest_100_names = []\n",
    "for i in range(k):\n",
    "    closest_100.append(sequences_df.sequence[idx[i]])\n",
    "    closest_100_names.append(sequences_df.name[idx[i]])"
   ]
  },
  {
   "cell_type": "code",
   "execution_count": 11,
   "metadata": {},
   "outputs": [
    {
     "name": "stdout",
     "output_type": "stream",
     "text": [
      "Mean Levenstein distance of closest 100 sequences: 151.42\n"
     ]
    },
    {
     "data": {
      "image/png": "[encoded data removed]",
      "text/plain": [
       "<matplotlib.figure.Figure at 0x113ca7eb8>"
      ]
     },
     "metadata": {},
     "output_type": "display_data"
    }
   ],
   "source": [
    "# verify they are indeed the top 100 scores.\n",
    "plt.clf()\n",
    "closest_100_dists = []\n",
    "for i in range(len(closest_100)):\n",
    "    closest_100_dists.append(distance(targets[0], closest_100[i]))\n",
    "closest_100_dists = np.array(closest_100_dists)\n",
    "\n",
    "mean__closest_100_dist = np.mean(closest_100_dists)\n",
    "print(\"Mean Levenstein distance of closest 100 sequences:\", mean__closest_100_dist)\n",
    "plt.hist(closest_100_dists, bins=20, range=(0,350))\n",
    "plt.show()\n"
   ]
  },
  {
   "cell_type": "code",
   "execution_count": 12,
   "metadata": {
    "collapsed": true
   },
   "outputs": [],
   "source": [
    "# save closest 100 sequences to target as a .fasta.txt file\n",
    "\n",
    "out_path_2 = 'outputs/top_100_to_' + target_fasta + '.fasta.txt'\n",
    "\n",
    "out_file = open(out_path_2, \"w\")\n",
    "for i in range(len(closest_100)):\n",
    "    out_file.write('>' + closest_100_names[i] + '\\n')\n",
    "    out_file.write(closest_100[i] + '\\n')\n",
    "out_file.close()\n"
   ]
  },
  {
   "cell_type": "code",
   "execution_count": 13,
   "metadata": {},
   "outputs": [
    {
     "name": "stdout",
     "output_type": "stream",
     "text": [
      "['MNFPRASRLMQAAVLGGLMAVSAAATAQTNPYARGPNPTAASLEASAGPFTVRSFTVSRPSGYGAGTVYYPTNAGGTVGAIAIVPGYTARQSSIKWWGPRLASHGFVVITIDTNSTLDQPSSRSSQQMAALRQVASLNGTSSSPIYGKVDTARMGVMGWSMGGGGSLISAANNPSLKAAAPQAPWDSSTNFSSVTVPTLIFACENDSIAPVNSSALPIYDSMSRNAKQFLEINGGSHSCANSGNSNQALIGKKGVAWMKRFMDNDTRYSTFACENPNSTRVSDFRTANCS']\n"
     ]
    }
   ],
   "source": [
    "# load wild-type sequence\n",
    "\n",
    "WT_fasta = 'isPETase'\n",
    "WT_path = 'inputs/' + WT_fasta + '.fasta.txt'\n",
    "WT_seqs = SeqIO.parse(open(WT_path),'fasta')\n",
    "WTs = []\n",
    "for WT in WT_seqs:\n",
    "    WTs.append(str(WT.seq).strip())\n",
    "    \n",
    "print(WTs)\n",
    "\n",
    "\n",
    "# save output for jackHMMer search (top 100 with target appended!) \n",
    "\n",
    "out_path_3 = 'outputs/jackHMMer_input.fasta.txt'\n",
    "\n",
    "out_file = open(out_path_3, \"w\")\n",
    "out_file.write('>' + WT_fasta + '\\n')\n",
    "out_file.write(WTs[0] + '\\n')\n",
    "for i in range(len(closest_100)):\n",
    "    out_file.write('>' + closest_100_names[i] + '\\n')\n",
    "    out_file.write(closest_100[i] + '\\n')\n",
    "out_file.close()\n"
   ]
  },
  {
   "cell_type": "code",
   "execution_count": null,
   "metadata": {
    "collapsed": true
   },
   "outputs": [],
   "source": []
  }
 ],
 "metadata": {
  "kernelspec": {
   "display_name": "Python 3",
   "language": "python",
   "name": "python3"
  },
  "language_info": {
   "codemirror_mode": {
    "name": "ipython",
    "version": 3
   },
   "file_extension": ".py",
   "mimetype": "text/x-python",
   "name": "python",
   "nbconvert_exporter": "python",
   "pygments_lexer": "ipython3",
   "version": "3.6.1"
  }
 },
 "nbformat": 4,
 "nbformat_minor": 2
}

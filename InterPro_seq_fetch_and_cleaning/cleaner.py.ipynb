{
 "cells": [
  {
   "cell_type": "code",
   "execution_count": 1,
   "metadata": {
    "collapsed": true
   },
   "outputs": [],
   "source": [
    "from Bio import SeqIO\n",
    "import pandas as pd\n",
    "import re"
   ]
  },
  {
   "cell_type": "code",
   "execution_count": 2,
   "metadata": {},
   "outputs": [],
   "source": [
    "# input FASTA file:\n",
    "in_fasta = 'dlh'\n",
    "\n",
    "# in and out paths\n",
    "in_path = 'inputs/' + in_fasta + '.fasta.txt'\n",
    "out_path = 'outputs/clean_' + in_fasta + '.fasta.txt'"
   ]
  },
  {
   "cell_type": "code",
   "execution_count": 3,
   "metadata": {},
   "outputs": [
    {
     "name": "stdout",
     "output_type": "stream",
     "text": [
      "Total number of input sequences: 70110\n"
     ]
    },
    {
     "data": {
      "text/html": [
       "<div>\n",
       "<style scoped>\n",
       "    .dataframe tbody tr th:only-of-type {\n",
       "        vertical-align: middle;\n",
       "    }\n",
       "\n",
       "    .dataframe tbody tr th {\n",
       "        vertical-align: top;\n",
       "    }\n",
       "\n",
       "    .dataframe thead th {\n",
       "        text-align: right;\n",
       "    }\n",
       "</style>\n",
       "<table border=\"1\" class=\"dataframe\">\n",
       "  <thead>\n",
       "    <tr style=\"text-align: right;\">\n",
       "      <th></th>\n",
       "      <th>name</th>\n",
       "      <th>sequence</th>\n",
       "    </tr>\n",
       "  </thead>\n",
       "  <tbody>\n",
       "    <tr>\n",
       "      <th>0</th>\n",
       "      <td>A0A009EPN2|IPR002925|21...241|DLH</td>\n",
       "      <td>MAAIKTREIQYTAQDGSTLIGYFAAPETDAPVAGVIVAPEWWGRND...</td>\n",
       "    </tr>\n",
       "    <tr>\n",
       "      <th>1</th>\n",
       "      <td>A0A009GF28|IPR002925|22...242|DLH</td>\n",
       "      <td>MSTAIKTREIQYTAPDGSHLIGYFAAPDSETPVAGVIVAPEWWGRN...</td>\n",
       "    </tr>\n",
       "    <tr>\n",
       "      <th>2</th>\n",
       "      <td>A0A009GFC1|IPR002925|16...232|Dienelactone</td>\n",
       "      <td>MAGQTIQIKTASGKQFSAYLATPETGKGPGVVLCQEIFGVNAAMRE...</td>\n",
       "    </tr>\n",
       "    <tr>\n",
       "      <th>3</th>\n",
       "      <td>A0A009GGE5|IPR002925|16...231|DLH</td>\n",
       "      <td>MAGQTVQIKTASGKQFSAYLATPETEKGPGVVLCQEIFGVNAAMRE...</td>\n",
       "    </tr>\n",
       "    <tr>\n",
       "      <th>4</th>\n",
       "      <td>A0A009H5J6|IPR002925|22...242|DLH</td>\n",
       "      <td>MSTAIKTREIQYTAPDGSHLIGYFAAPDSETPVAGVIVAPEWWGRN...</td>\n",
       "    </tr>\n",
       "  </tbody>\n",
       "</table>\n",
       "</div>"
      ],
      "text/plain": [
       "                                         name  \\\n",
       "0           A0A009EPN2|IPR002925|21...241|DLH   \n",
       "1           A0A009GF28|IPR002925|22...242|DLH   \n",
       "2  A0A009GFC1|IPR002925|16...232|Dienelactone   \n",
       "3           A0A009GGE5|IPR002925|16...231|DLH   \n",
       "4           A0A009H5J6|IPR002925|22...242|DLH   \n",
       "\n",
       "                                            sequence  \n",
       "0  MAAIKTREIQYTAQDGSTLIGYFAAPETDAPVAGVIVAPEWWGRND...  \n",
       "1  MSTAIKTREIQYTAPDGSHLIGYFAAPDSETPVAGVIVAPEWWGRN...  \n",
       "2  MAGQTIQIKTASGKQFSAYLATPETGKGPGVVLCQEIFGVNAAMRE...  \n",
       "3  MAGQTVQIKTASGKQFSAYLATPETEKGPGVVLCQEIFGVNAAMRE...  \n",
       "4  MSTAIKTREIQYTAPDGSHLIGYFAAPDSETPVAGVIVAPEWWGRN...  "
      ]
     },
     "execution_count": 3,
     "metadata": {},
     "output_type": "execute_result"
    }
   ],
   "source": [
    "# put sequences into a pandas dataframe\n",
    "fasta_seqs = SeqIO.parse(open(in_path),'fasta')\n",
    "data = []\n",
    "for fasta in fasta_seqs:\n",
    "    data.append([fasta.id, str(fasta.seq).strip()])\n",
    "    \n",
    "sequences_df = pd.DataFrame(data, columns = ['name', 'sequence'])\n",
    "\n",
    "print('Total number of input sequences:', len(sequences_df))\n",
    "\n",
    "sequences_df.head()"
   ]
  },
  {
   "cell_type": "code",
   "execution_count": 4,
   "metadata": {},
   "outputs": [
    {
     "name": "stdout",
     "output_type": "stream",
     "text": [
      "Total number of sequences dropped: 231\n",
      "Total number of sequences remaining: 69879\n"
     ]
    }
   ],
   "source": [
    "# remove sequences with length > 1000 AA's\n",
    "rows2drop = []\n",
    "for i in range(len(sequences_df)):\n",
    "    if (len(sequences_df.sequence[i]) > 1000):\n",
    "        rows2drop.append(i)\n",
    "\n",
    "print('Total number of sequences dropped:', len(rows2drop))\n",
    "\n",
    "sequences_df = sequences_df.drop(rows2drop).reset_index()\n",
    "\n",
    "print('Total number of sequences remaining:', len(sequences_df))\n"
   ]
  },
  {
   "cell_type": "code",
   "execution_count": 5,
   "metadata": {},
   "outputs": [
    {
     "name": "stdout",
     "output_type": "stream",
     "text": [
      "Total number of sequences dropped: 852\n",
      "Total number of sequences remaining: 69027\n"
     ]
    }
   ],
   "source": [
    "# remove sequences with invalid AA residues\n",
    "#valid_alphabet = ['F','I','W','L','V','M','Y','C','A','T','H','G','S','Q','R','K','N','E','P','D']\n",
    "\n",
    "def validate(seq, pattern=re.compile(r'^[FIWLVMYCATHGSQRKNEPD]+$')):\n",
    "    if (pattern.match(seq)):\n",
    "        return True\n",
    "    return False\n",
    "\n",
    "invalid_seqs = []\n",
    "\n",
    "for i in range(len(sequences_df)):\n",
    "    if (not validate(sequences_df.sequence[i])):\n",
    "        invalid_seqs.append(i)\n",
    "        \n",
    "print('Total number of sequences dropped:', len(invalid_seqs))\n",
    "\n",
    "sequences_df = sequences_df.drop(invalid_seqs).reset_index()\n",
    "\n",
    "print('Total number of sequences remaining:', len(sequences_df))\n"
   ]
  },
  {
   "cell_type": "code",
   "execution_count": 6,
   "metadata": {
    "collapsed": true
   },
   "outputs": [],
   "source": [
    "out_file = open(out_path, \"w\")\n",
    "for i in range(len(sequences_df)):\n",
    "    out_file.write(sequences_df.name[i] + '\\n')\n",
    "    out_file.write(sequences_df.sequence[i] + '\\n')\n",
    "out_file.close()"
   ]
  },
  {
   "cell_type": "code",
   "execution_count": null,
   "metadata": {
    "collapsed": true
   },
   "outputs": [],
   "source": []
  }
 ],
 "metadata": {
  "kernelspec": {
   "display_name": "Python 3",
   "language": "python",
   "name": "python3"
  },
  "language_info": {
   "codemirror_mode": {
    "name": "ipython",
    "version": 3
   },
   "file_extension": ".py",
   "mimetype": "text/x-python",
   "name": "python",
   "nbconvert_exporter": "python",
   "pygments_lexer": "ipython3",
   "version": "3.6.1"
  }
 },
 "nbformat": 4,
 "nbformat_minor": 2
}

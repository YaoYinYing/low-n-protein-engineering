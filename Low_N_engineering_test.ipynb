{
  "nbformat": 4,
  "nbformat_minor": 0,
  "metadata": {
    "colab": {
      "name": "Low-N-engineering-test",
      "provenance": [],
      "collapsed_sections": [],
      "include_colab_link": true
    },
    "kernelspec": {
      "display_name": "Python 3",
      "name": "python3"
    },
    "language_info": {
      "name": "python"
    },
    "widgets": {
      "application/vnd.jupyter.widget-state+json": {
        "fb8112cf546b4a26b623f09199925586": {
          "model_module": "@jupyter-widgets/controls",
          "model_name": "HBoxModel",
          "model_module_version": "1.5.0",
          "state": {
            "_view_name": "HBoxView",
            "_dom_classes": [],
            "_model_name": "HBoxModel",
            "_view_module": "@jupyter-widgets/controls",
            "_model_module_version": "1.5.0",
            "_view_count": null,
            "_view_module_version": "1.5.0",
            "box_style": "",
            "layout": "IPY_MODEL_bd788d229ab34baa82b52f1a548a60d1",
            "_model_module": "@jupyter-widgets/controls",
            "children": [
              "IPY_MODEL_b17252b8489a4fab8f3d3ac9cee88eb6",
              "IPY_MODEL_ff7aa466de274003a4be17346871a258",
              "IPY_MODEL_a8db9ceb746b4070aabbdcd9b7405418"
            ]
          }
        },
        "bd788d229ab34baa82b52f1a548a60d1": {
          "model_module": "@jupyter-widgets/base",
          "model_name": "LayoutModel",
          "model_module_version": "1.2.0",
          "state": {
            "_view_name": "LayoutView",
            "grid_template_rows": null,
            "right": null,
            "justify_content": null,
            "_view_module": "@jupyter-widgets/base",
            "overflow": null,
            "_model_module_version": "1.2.0",
            "_view_count": null,
            "flex_flow": null,
            "width": null,
            "min_width": null,
            "border": null,
            "align_items": null,
            "bottom": null,
            "_model_module": "@jupyter-widgets/base",
            "top": null,
            "grid_column": null,
            "overflow_y": null,
            "overflow_x": null,
            "grid_auto_flow": null,
            "grid_area": null,
            "grid_template_columns": null,
            "flex": null,
            "_model_name": "LayoutModel",
            "justify_items": null,
            "grid_row": null,
            "max_height": null,
            "align_content": null,
            "visibility": null,
            "align_self": null,
            "height": null,
            "min_height": null,
            "padding": null,
            "grid_auto_rows": null,
            "grid_gap": null,
            "max_width": null,
            "order": null,
            "_view_module_version": "1.2.0",
            "grid_template_areas": null,
            "object_position": null,
            "object_fit": null,
            "grid_auto_columns": null,
            "margin": null,
            "display": null,
            "left": null
          }
        },
        "b17252b8489a4fab8f3d3ac9cee88eb6": {
          "model_module": "@jupyter-widgets/controls",
          "model_name": "HTMLModel",
          "model_module_version": "1.5.0",
          "state": {
            "_view_name": "HTMLView",
            "style": "IPY_MODEL_efc32b3fcd644ed4a4e2b487402b8bc4",
            "_dom_classes": [],
            "description": "",
            "_model_name": "HTMLModel",
            "placeholder": "​",
            "_view_module": "@jupyter-widgets/controls",
            "_model_module_version": "1.5.0",
            "value": "100%",
            "_view_count": null,
            "_view_module_version": "1.5.0",
            "description_tooltip": null,
            "_model_module": "@jupyter-widgets/controls",
            "layout": "IPY_MODEL_fed13d5a4ea24209824971b51026dced"
          }
        },
        "ff7aa466de274003a4be17346871a258": {
          "model_module": "@jupyter-widgets/controls",
          "model_name": "FloatProgressModel",
          "model_module_version": "1.5.0",
          "state": {
            "_view_name": "ProgressView",
            "style": "IPY_MODEL_d72a81819ecc410ba2cebe8e048c36b8",
            "_dom_classes": [],
            "description": "",
            "_model_name": "FloatProgressModel",
            "bar_style": "success",
            "max": 4,
            "_view_module": "@jupyter-widgets/controls",
            "_model_module_version": "1.5.0",
            "value": 4,
            "_view_count": null,
            "_view_module_version": "1.5.0",
            "orientation": "horizontal",
            "min": 0,
            "description_tooltip": null,
            "_model_module": "@jupyter-widgets/controls",
            "layout": "IPY_MODEL_eb0e7ab9fa834a2da13de2e42d7f18a3"
          }
        },
        "a8db9ceb746b4070aabbdcd9b7405418": {
          "model_module": "@jupyter-widgets/controls",
          "model_name": "HTMLModel",
          "model_module_version": "1.5.0",
          "state": {
            "_view_name": "HTMLView",
            "style": "IPY_MODEL_8116d81fa9c940d4bc44d9c5808116d2",
            "_dom_classes": [],
            "description": "",
            "_model_name": "HTMLModel",
            "placeholder": "​",
            "_view_module": "@jupyter-widgets/controls",
            "_model_module_version": "1.5.0",
            "value": " 4/4 [elapsed: 02:01 remaining: 00:00]",
            "_view_count": null,
            "_view_module_version": "1.5.0",
            "description_tooltip": null,
            "_model_module": "@jupyter-widgets/controls",
            "layout": "IPY_MODEL_d546f237654b4387b0741344fb3f5eb3"
          }
        },
        "efc32b3fcd644ed4a4e2b487402b8bc4": {
          "model_module": "@jupyter-widgets/controls",
          "model_name": "DescriptionStyleModel",
          "model_module_version": "1.5.0",
          "state": {
            "_view_name": "StyleView",
            "_model_name": "DescriptionStyleModel",
            "description_width": "",
            "_view_module": "@jupyter-widgets/base",
            "_model_module_version": "1.5.0",
            "_view_count": null,
            "_view_module_version": "1.2.0",
            "_model_module": "@jupyter-widgets/controls"
          }
        },
        "fed13d5a4ea24209824971b51026dced": {
          "model_module": "@jupyter-widgets/base",
          "model_name": "LayoutModel",
          "model_module_version": "1.2.0",
          "state": {
            "_view_name": "LayoutView",
            "grid_template_rows": null,
            "right": null,
            "justify_content": null,
            "_view_module": "@jupyter-widgets/base",
            "overflow": null,
            "_model_module_version": "1.2.0",
            "_view_count": null,
            "flex_flow": null,
            "width": null,
            "min_width": null,
            "border": null,
            "align_items": null,
            "bottom": null,
            "_model_module": "@jupyter-widgets/base",
            "top": null,
            "grid_column": null,
            "overflow_y": null,
            "overflow_x": null,
            "grid_auto_flow": null,
            "grid_area": null,
            "grid_template_columns": null,
            "flex": null,
            "_model_name": "LayoutModel",
            "justify_items": null,
            "grid_row": null,
            "max_height": null,
            "align_content": null,
            "visibility": null,
            "align_self": null,
            "height": null,
            "min_height": null,
            "padding": null,
            "grid_auto_rows": null,
            "grid_gap": null,
            "max_width": null,
            "order": null,
            "_view_module_version": "1.2.0",
            "grid_template_areas": null,
            "object_position": null,
            "object_fit": null,
            "grid_auto_columns": null,
            "margin": null,
            "display": null,
            "left": null
          }
        },
        "d72a81819ecc410ba2cebe8e048c36b8": {
          "model_module": "@jupyter-widgets/controls",
          "model_name": "ProgressStyleModel",
          "model_module_version": "1.5.0",
          "state": {
            "_view_name": "StyleView",
            "_model_name": "ProgressStyleModel",
            "description_width": "",
            "_view_module": "@jupyter-widgets/base",
            "_model_module_version": "1.5.0",
            "_view_count": null,
            "_view_module_version": "1.2.0",
            "bar_color": null,
            "_model_module": "@jupyter-widgets/controls"
          }
        },
        "eb0e7ab9fa834a2da13de2e42d7f18a3": {
          "model_module": "@jupyter-widgets/base",
          "model_name": "LayoutModel",
          "model_module_version": "1.2.0",
          "state": {
            "_view_name": "LayoutView",
            "grid_template_rows": null,
            "right": null,
            "justify_content": null,
            "_view_module": "@jupyter-widgets/base",
            "overflow": null,
            "_model_module_version": "1.2.0",
            "_view_count": null,
            "flex_flow": null,
            "width": null,
            "min_width": null,
            "border": null,
            "align_items": null,
            "bottom": null,
            "_model_module": "@jupyter-widgets/base",
            "top": null,
            "grid_column": null,
            "overflow_y": null,
            "overflow_x": null,
            "grid_auto_flow": null,
            "grid_area": null,
            "grid_template_columns": null,
            "flex": null,
            "_model_name": "LayoutModel",
            "justify_items": null,
            "grid_row": null,
            "max_height": null,
            "align_content": null,
            "visibility": null,
            "align_self": null,
            "height": null,
            "min_height": null,
            "padding": null,
            "grid_auto_rows": null,
            "grid_gap": null,
            "max_width": null,
            "order": null,
            "_view_module_version": "1.2.0",
            "grid_template_areas": null,
            "object_position": null,
            "object_fit": null,
            "grid_auto_columns": null,
            "margin": null,
            "display": null,
            "left": null
          }
        },
        "8116d81fa9c940d4bc44d9c5808116d2": {
          "model_module": "@jupyter-widgets/controls",
          "model_name": "DescriptionStyleModel",
          "model_module_version": "1.5.0",
          "state": {
            "_view_name": "StyleView",
            "_model_name": "DescriptionStyleModel",
            "description_width": "",
            "_view_module": "@jupyter-widgets/base",
            "_model_module_version": "1.5.0",
            "_view_count": null,
            "_view_module_version": "1.2.0",
            "_model_module": "@jupyter-widgets/controls"
          }
        },
        "d546f237654b4387b0741344fb3f5eb3": {
          "model_module": "@jupyter-widgets/base",
          "model_name": "LayoutModel",
          "model_module_version": "1.2.0",
          "state": {
            "_view_name": "LayoutView",
            "grid_template_rows": null,
            "right": null,
            "justify_content": null,
            "_view_module": "@jupyter-widgets/base",
            "overflow": null,
            "_model_module_version": "1.2.0",
            "_view_count": null,
            "flex_flow": null,
            "width": null,
            "min_width": null,
            "border": null,
            "align_items": null,
            "bottom": null,
            "_model_module": "@jupyter-widgets/base",
            "top": null,
            "grid_column": null,
            "overflow_y": null,
            "overflow_x": null,
            "grid_auto_flow": null,
            "grid_area": null,
            "grid_template_columns": null,
            "flex": null,
            "_model_name": "LayoutModel",
            "justify_items": null,
            "grid_row": null,
            "max_height": null,
            "align_content": null,
            "visibility": null,
            "align_self": null,
            "height": null,
            "min_height": null,
            "padding": null,
            "grid_auto_rows": null,
            "grid_gap": null,
            "max_width": null,
            "order": null,
            "_view_module_version": "1.2.0",
            "grid_template_areas": null,
            "object_position": null,
            "object_fit": null,
            "grid_auto_columns": null,
            "margin": null,
            "display": null,
            "left": null
          }
        },
        "31c62f5748c4448999127291b9b2d4d5": {
          "model_module": "@jupyter-widgets/controls",
          "model_name": "HBoxModel",
          "model_module_version": "1.5.0",
          "state": {
            "_dom_classes": [],
            "_model_module": "@jupyter-widgets/controls",
            "_model_module_version": "1.5.0",
            "_model_name": "HBoxModel",
            "_view_count": null,
            "_view_module": "@jupyter-widgets/controls",
            "_view_module_version": "1.5.0",
            "_view_name": "HBoxView",
            "box_style": "",
            "children": [
              "IPY_MODEL_ba70698ee3eb454e9bfff57f5e79608d",
              "IPY_MODEL_e33c4d3a583f44748ae8251e55cb09b9",
              "IPY_MODEL_7f677544d006423da3a88975499ab2a7"
            ],
            "layout": "IPY_MODEL_161b3456eaf34ce0b5e381130441aace"
          }
        },
        "ba70698ee3eb454e9bfff57f5e79608d": {
          "model_module": "@jupyter-widgets/controls",
          "model_name": "HTMLModel",
          "model_module_version": "1.5.0",
          "state": {
            "_dom_classes": [],
            "_model_module": "@jupyter-widgets/controls",
            "_model_module_version": "1.5.0",
            "_model_name": "HTMLModel",
            "_view_count": null,
            "_view_module": "@jupyter-widgets/controls",
            "_view_module_version": "1.5.0",
            "_view_name": "HTMLView",
            "description": "",
            "description_tooltip": null,
            "layout": "IPY_MODEL_eaf74248ea324f468b4be95c62049856",
            "placeholder": "​",
            "style": "IPY_MODEL_693f86e857074af39904836f15b49465",
            "value": "right-padding sequences: 100%"
          }
        },
        "e33c4d3a583f44748ae8251e55cb09b9": {
          "model_module": "@jupyter-widgets/controls",
          "model_name": "FloatProgressModel",
          "model_module_version": "1.5.0",
          "state": {
            "_dom_classes": [],
            "_model_module": "@jupyter-widgets/controls",
            "_model_module_version": "1.5.0",
            "_model_name": "FloatProgressModel",
            "_view_count": null,
            "_view_module": "@jupyter-widgets/controls",
            "_view_module_version": "1.5.0",
            "_view_name": "ProgressView",
            "bar_style": "success",
            "description": "",
            "description_tooltip": null,
            "layout": "IPY_MODEL_b4ac5c89b47a4be09b7b7ecd4766e7d0",
            "max": 17,
            "min": 0,
            "orientation": "horizontal",
            "style": "IPY_MODEL_000875ce3897451f9fcaea2283779edb",
            "value": 17
          }
        },
        "7f677544d006423da3a88975499ab2a7": {
          "model_module": "@jupyter-widgets/controls",
          "model_name": "HTMLModel",
          "model_module_version": "1.5.0",
          "state": {
            "_dom_classes": [],
            "_model_module": "@jupyter-widgets/controls",
            "_model_module_version": "1.5.0",
            "_model_name": "HTMLModel",
            "_view_count": null,
            "_view_module": "@jupyter-widgets/controls",
            "_view_module_version": "1.5.0",
            "_view_name": "HTMLView",
            "description": "",
            "description_tooltip": null,
            "layout": "IPY_MODEL_419c21e2b8c44ae884604f7061df43e3",
            "placeholder": "​",
            "style": "IPY_MODEL_dfc8bc5e800342fc87ed71ad993a2fd2",
            "value": " 17/17 [00:00&lt;00:00, 337.52it/s]"
          }
        },
        "161b3456eaf34ce0b5e381130441aace": {
          "model_module": "@jupyter-widgets/base",
          "model_name": "LayoutModel",
          "model_module_version": "1.2.0",
          "state": {
            "_model_module": "@jupyter-widgets/base",
            "_model_module_version": "1.2.0",
            "_model_name": "LayoutModel",
            "_view_count": null,
            "_view_module": "@jupyter-widgets/base",
            "_view_module_version": "1.2.0",
            "_view_name": "LayoutView",
            "align_content": null,
            "align_items": null,
            "align_self": null,
            "border": null,
            "bottom": null,
            "display": null,
            "flex": null,
            "flex_flow": null,
            "grid_area": null,
            "grid_auto_columns": null,
            "grid_auto_flow": null,
            "grid_auto_rows": null,
            "grid_column": null,
            "grid_gap": null,
            "grid_row": null,
            "grid_template_areas": null,
            "grid_template_columns": null,
            "grid_template_rows": null,
            "height": null,
            "justify_content": null,
            "justify_items": null,
            "left": null,
            "margin": null,
            "max_height": null,
            "max_width": null,
            "min_height": null,
            "min_width": null,
            "object_fit": null,
            "object_position": null,
            "order": null,
            "overflow": null,
            "overflow_x": null,
            "overflow_y": null,
            "padding": null,
            "right": null,
            "top": null,
            "visibility": null,
            "width": null
          }
        },
        "eaf74248ea324f468b4be95c62049856": {
          "model_module": "@jupyter-widgets/base",
          "model_name": "LayoutModel",
          "model_module_version": "1.2.0",
          "state": {
            "_model_module": "@jupyter-widgets/base",
            "_model_module_version": "1.2.0",
            "_model_name": "LayoutModel",
            "_view_count": null,
            "_view_module": "@jupyter-widgets/base",
            "_view_module_version": "1.2.0",
            "_view_name": "LayoutView",
            "align_content": null,
            "align_items": null,
            "align_self": null,
            "border": null,
            "bottom": null,
            "display": null,
            "flex": null,
            "flex_flow": null,
            "grid_area": null,
            "grid_auto_columns": null,
            "grid_auto_flow": null,
            "grid_auto_rows": null,
            "grid_column": null,
            "grid_gap": null,
            "grid_row": null,
            "grid_template_areas": null,
            "grid_template_columns": null,
            "grid_template_rows": null,
            "height": null,
            "justify_content": null,
            "justify_items": null,
            "left": null,
            "margin": null,
            "max_height": null,
            "max_width": null,
            "min_height": null,
            "min_width": null,
            "object_fit": null,
            "object_position": null,
            "order": null,
            "overflow": null,
            "overflow_x": null,
            "overflow_y": null,
            "padding": null,
            "right": null,
            "top": null,
            "visibility": null,
            "width": null
          }
        },
        "693f86e857074af39904836f15b49465": {
          "model_module": "@jupyter-widgets/controls",
          "model_name": "DescriptionStyleModel",
          "model_module_version": "1.5.0",
          "state": {
            "_model_module": "@jupyter-widgets/controls",
            "_model_module_version": "1.5.0",
            "_model_name": "DescriptionStyleModel",
            "_view_count": null,
            "_view_module": "@jupyter-widgets/base",
            "_view_module_version": "1.2.0",
            "_view_name": "StyleView",
            "description_width": ""
          }
        },
        "b4ac5c89b47a4be09b7b7ecd4766e7d0": {
          "model_module": "@jupyter-widgets/base",
          "model_name": "LayoutModel",
          "model_module_version": "1.2.0",
          "state": {
            "_model_module": "@jupyter-widgets/base",
            "_model_module_version": "1.2.0",
            "_model_name": "LayoutModel",
            "_view_count": null,
            "_view_module": "@jupyter-widgets/base",
            "_view_module_version": "1.2.0",
            "_view_name": "LayoutView",
            "align_content": null,
            "align_items": null,
            "align_self": null,
            "border": null,
            "bottom": null,
            "display": null,
            "flex": null,
            "flex_flow": null,
            "grid_area": null,
            "grid_auto_columns": null,
            "grid_auto_flow": null,
            "grid_auto_rows": null,
            "grid_column": null,
            "grid_gap": null,
            "grid_row": null,
            "grid_template_areas": null,
            "grid_template_columns": null,
            "grid_template_rows": null,
            "height": null,
            "justify_content": null,
            "justify_items": null,
            "left": null,
            "margin": null,
            "max_height": null,
            "max_width": null,
            "min_height": null,
            "min_width": null,
            "object_fit": null,
            "object_position": null,
            "order": null,
            "overflow": null,
            "overflow_x": null,
            "overflow_y": null,
            "padding": null,
            "right": null,
            "top": null,
            "visibility": null,
            "width": null
          }
        },
        "000875ce3897451f9fcaea2283779edb": {
          "model_module": "@jupyter-widgets/controls",
          "model_name": "ProgressStyleModel",
          "model_module_version": "1.5.0",
          "state": {
            "_model_module": "@jupyter-widgets/controls",
            "_model_module_version": "1.5.0",
            "_model_name": "ProgressStyleModel",
            "_view_count": null,
            "_view_module": "@jupyter-widgets/base",
            "_view_module_version": "1.2.0",
            "_view_name": "StyleView",
            "bar_color": null,
            "description_width": ""
          }
        },
        "419c21e2b8c44ae884604f7061df43e3": {
          "model_module": "@jupyter-widgets/base",
          "model_name": "LayoutModel",
          "model_module_version": "1.2.0",
          "state": {
            "_model_module": "@jupyter-widgets/base",
            "_model_module_version": "1.2.0",
            "_model_name": "LayoutModel",
            "_view_count": null,
            "_view_module": "@jupyter-widgets/base",
            "_view_module_version": "1.2.0",
            "_view_name": "LayoutView",
            "align_content": null,
            "align_items": null,
            "align_self": null,
            "border": null,
            "bottom": null,
            "display": null,
            "flex": null,
            "flex_flow": null,
            "grid_area": null,
            "grid_auto_columns": null,
            "grid_auto_flow": null,
            "grid_auto_rows": null,
            "grid_column": null,
            "grid_gap": null,
            "grid_row": null,
            "grid_template_areas": null,
            "grid_template_columns": null,
            "grid_template_rows": null,
            "height": null,
            "justify_content": null,
            "justify_items": null,
            "left": null,
            "margin": null,
            "max_height": null,
            "max_width": null,
            "min_height": null,
            "min_width": null,
            "object_fit": null,
            "object_position": null,
            "order": null,
            "overflow": null,
            "overflow_x": null,
            "overflow_y": null,
            "padding": null,
            "right": null,
            "top": null,
            "visibility": null,
            "width": null
          }
        },
        "dfc8bc5e800342fc87ed71ad993a2fd2": {
          "model_module": "@jupyter-widgets/controls",
          "model_name": "DescriptionStyleModel",
          "model_module_version": "1.5.0",
          "state": {
            "_model_module": "@jupyter-widgets/controls",
            "_model_module_version": "1.5.0",
            "_model_name": "DescriptionStyleModel",
            "_view_count": null,
            "_view_module": "@jupyter-widgets/base",
            "_view_module_version": "1.2.0",
            "_view_name": "StyleView",
            "description_width": ""
          }
        },
        "5f6d5e72d1d545969195b94bf8c7a6ed": {
          "model_module": "@jupyter-widgets/controls",
          "model_name": "HBoxModel",
          "model_module_version": "1.5.0",
          "state": {
            "_dom_classes": [],
            "_model_module": "@jupyter-widgets/controls",
            "_model_module_version": "1.5.0",
            "_model_name": "HBoxModel",
            "_view_count": null,
            "_view_module": "@jupyter-widgets/controls",
            "_view_module_version": "1.5.0",
            "_view_name": "HBoxView",
            "box_style": "",
            "children": [
              "IPY_MODEL_da0d0897cd834a439939d2ee896022f1",
              "IPY_MODEL_090cd1d9c9b5420997c48fa318abd8bd",
              "IPY_MODEL_d3ee5579e96f492498b16aab45602422"
            ],
            "layout": "IPY_MODEL_73daabcc2c3046ed9deae61136dba6cf"
          }
        },
        "da0d0897cd834a439939d2ee896022f1": {
          "model_module": "@jupyter-widgets/controls",
          "model_name": "HTMLModel",
          "model_module_version": "1.5.0",
          "state": {
            "_dom_classes": [],
            "_model_module": "@jupyter-widgets/controls",
            "_model_module_version": "1.5.0",
            "_model_name": "HTMLModel",
            "_view_count": null,
            "_view_module": "@jupyter-widgets/controls",
            "_view_module_version": "1.5.0",
            "_view_name": "HTMLView",
            "description": "",
            "description_tooltip": null,
            "layout": "IPY_MODEL_a0250a25bd1345d48ee1ea67d3544599",
            "placeholder": "​",
            "style": "IPY_MODEL_d5986badc1cd4497b175dca3ff478cc3",
            "value": "100%"
          }
        },
        "090cd1d9c9b5420997c48fa318abd8bd": {
          "model_module": "@jupyter-widgets/controls",
          "model_name": "FloatProgressModel",
          "model_module_version": "1.5.0",
          "state": {
            "_dom_classes": [],
            "_model_module": "@jupyter-widgets/controls",
            "_model_module_version": "1.5.0",
            "_model_name": "FloatProgressModel",
            "_view_count": null,
            "_view_module": "@jupyter-widgets/controls",
            "_view_module_version": "1.5.0",
            "_view_name": "ProgressView",
            "bar_style": "success",
            "description": "",
            "description_tooltip": null,
            "layout": "IPY_MODEL_a6d035e83198424caba0ceb2f168b68e",
            "max": 1,
            "min": 0,
            "orientation": "horizontal",
            "style": "IPY_MODEL_36228cbacc81488e8431d2fbe68f1b23",
            "value": 1
          }
        },
        "d3ee5579e96f492498b16aab45602422": {
          "model_module": "@jupyter-widgets/controls",
          "model_name": "HTMLModel",
          "model_module_version": "1.5.0",
          "state": {
            "_dom_classes": [],
            "_model_module": "@jupyter-widgets/controls",
            "_model_module_version": "1.5.0",
            "_model_name": "HTMLModel",
            "_view_count": null,
            "_view_module": "@jupyter-widgets/controls",
            "_view_module_version": "1.5.0",
            "_view_name": "HTMLView",
            "description": "",
            "description_tooltip": null,
            "layout": "IPY_MODEL_a2b726c30d81438f844bc69f1b32078d",
            "placeholder": "​",
            "style": "IPY_MODEL_6827d8b9b5684de7ac5b000f2b60311f",
            "value": " 1/1 [00:00&lt;00:00, 19.84it/s]"
          }
        },
        "73daabcc2c3046ed9deae61136dba6cf": {
          "model_module": "@jupyter-widgets/base",
          "model_name": "LayoutModel",
          "model_module_version": "1.2.0",
          "state": {
            "_model_module": "@jupyter-widgets/base",
            "_model_module_version": "1.2.0",
            "_model_name": "LayoutModel",
            "_view_count": null,
            "_view_module": "@jupyter-widgets/base",
            "_view_module_version": "1.2.0",
            "_view_name": "LayoutView",
            "align_content": null,
            "align_items": null,
            "align_self": null,
            "border": null,
            "bottom": null,
            "display": null,
            "flex": null,
            "flex_flow": null,
            "grid_area": null,
            "grid_auto_columns": null,
            "grid_auto_flow": null,
            "grid_auto_rows": null,
            "grid_column": null,
            "grid_gap": null,
            "grid_row": null,
            "grid_template_areas": null,
            "grid_template_columns": null,
            "grid_template_rows": null,
            "height": null,
            "justify_content": null,
            "justify_items": null,
            "left": null,
            "margin": null,
            "max_height": null,
            "max_width": null,
            "min_height": null,
            "min_width": null,
            "object_fit": null,
            "object_position": null,
            "order": null,
            "overflow": null,
            "overflow_x": null,
            "overflow_y": null,
            "padding": null,
            "right": null,
            "top": null,
            "visibility": null,
            "width": null
          }
        },
        "a0250a25bd1345d48ee1ea67d3544599": {
          "model_module": "@jupyter-widgets/base",
          "model_name": "LayoutModel",
          "model_module_version": "1.2.0",
          "state": {
            "_model_module": "@jupyter-widgets/base",
            "_model_module_version": "1.2.0",
            "_model_name": "LayoutModel",
            "_view_count": null,
            "_view_module": "@jupyter-widgets/base",
            "_view_module_version": "1.2.0",
            "_view_name": "LayoutView",
            "align_content": null,
            "align_items": null,
            "align_self": null,
            "border": null,
            "bottom": null,
            "display": null,
            "flex": null,
            "flex_flow": null,
            "grid_area": null,
            "grid_auto_columns": null,
            "grid_auto_flow": null,
            "grid_auto_rows": null,
            "grid_column": null,
            "grid_gap": null,
            "grid_row": null,
            "grid_template_areas": null,
            "grid_template_columns": null,
            "grid_template_rows": null,
            "height": null,
            "justify_content": null,
            "justify_items": null,
            "left": null,
            "margin": null,
            "max_height": null,
            "max_width": null,
            "min_height": null,
            "min_width": null,
            "object_fit": null,
            "object_position": null,
            "order": null,
            "overflow": null,
            "overflow_x": null,
            "overflow_y": null,
            "padding": null,
            "right": null,
            "top": null,
            "visibility": null,
            "width": null
          }
        },
        "d5986badc1cd4497b175dca3ff478cc3": {
          "model_module": "@jupyter-widgets/controls",
          "model_name": "DescriptionStyleModel",
          "model_module_version": "1.5.0",
          "state": {
            "_model_module": "@jupyter-widgets/controls",
            "_model_module_version": "1.5.0",
            "_model_name": "DescriptionStyleModel",
            "_view_count": null,
            "_view_module": "@jupyter-widgets/base",
            "_view_module_version": "1.2.0",
            "_view_name": "StyleView",
            "description_width": ""
          }
        },
        "a6d035e83198424caba0ceb2f168b68e": {
          "model_module": "@jupyter-widgets/base",
          "model_name": "LayoutModel",
          "model_module_version": "1.2.0",
          "state": {
            "_model_module": "@jupyter-widgets/base",
            "_model_module_version": "1.2.0",
            "_model_name": "LayoutModel",
            "_view_count": null,
            "_view_module": "@jupyter-widgets/base",
            "_view_module_version": "1.2.0",
            "_view_name": "LayoutView",
            "align_content": null,
            "align_items": null,
            "align_self": null,
            "border": null,
            "bottom": null,
            "display": null,
            "flex": null,
            "flex_flow": null,
            "grid_area": null,
            "grid_auto_columns": null,
            "grid_auto_flow": null,
            "grid_auto_rows": null,
            "grid_column": null,
            "grid_gap": null,
            "grid_row": null,
            "grid_template_areas": null,
            "grid_template_columns": null,
            "grid_template_rows": null,
            "height": null,
            "justify_content": null,
            "justify_items": null,
            "left": null,
            "margin": null,
            "max_height": null,
            "max_width": null,
            "min_height": null,
            "min_width": null,
            "object_fit": null,
            "object_position": null,
            "order": null,
            "overflow": null,
            "overflow_x": null,
            "overflow_y": null,
            "padding": null,
            "right": null,
            "top": null,
            "visibility": null,
            "width": null
          }
        },
        "36228cbacc81488e8431d2fbe68f1b23": {
          "model_module": "@jupyter-widgets/controls",
          "model_name": "ProgressStyleModel",
          "model_module_version": "1.5.0",
          "state": {
            "_model_module": "@jupyter-widgets/controls",
            "_model_module_version": "1.5.0",
            "_model_name": "ProgressStyleModel",
            "_view_count": null,
            "_view_module": "@jupyter-widgets/base",
            "_view_module_version": "1.2.0",
            "_view_name": "StyleView",
            "bar_color": null,
            "description_width": ""
          }
        },
        "a2b726c30d81438f844bc69f1b32078d": {
          "model_module": "@jupyter-widgets/base",
          "model_name": "LayoutModel",
          "model_module_version": "1.2.0",
          "state": {
            "_model_module": "@jupyter-widgets/base",
            "_model_module_version": "1.2.0",
            "_model_name": "LayoutModel",
            "_view_count": null,
            "_view_module": "@jupyter-widgets/base",
            "_view_module_version": "1.2.0",
            "_view_name": "LayoutView",
            "align_content": null,
            "align_items": null,
            "align_self": null,
            "border": null,
            "bottom": null,
            "display": null,
            "flex": null,
            "flex_flow": null,
            "grid_area": null,
            "grid_auto_columns": null,
            "grid_auto_flow": null,
            "grid_auto_rows": null,
            "grid_column": null,
            "grid_gap": null,
            "grid_row": null,
            "grid_template_areas": null,
            "grid_template_columns": null,
            "grid_template_rows": null,
            "height": null,
            "justify_content": null,
            "justify_items": null,
            "left": null,
            "margin": null,
            "max_height": null,
            "max_width": null,
            "min_height": null,
            "min_width": null,
            "object_fit": null,
            "object_position": null,
            "order": null,
            "overflow": null,
            "overflow_x": null,
            "overflow_y": null,
            "padding": null,
            "right": null,
            "top": null,
            "visibility": null,
            "width": null
          }
        },
        "6827d8b9b5684de7ac5b000f2b60311f": {
          "model_module": "@jupyter-widgets/controls",
          "model_name": "DescriptionStyleModel",
          "model_module_version": "1.5.0",
          "state": {
            "_model_module": "@jupyter-widgets/controls",
            "_model_module_version": "1.5.0",
            "_model_name": "DescriptionStyleModel",
            "_view_count": null,
            "_view_module": "@jupyter-widgets/base",
            "_view_module_version": "1.2.0",
            "_view_name": "StyleView",
            "description_width": ""
          }
        },
        "61751e2ed4784d5480f9361e2eec5024": {
          "model_module": "@jupyter-widgets/controls",
          "model_name": "HBoxModel",
          "model_module_version": "1.5.0",
          "state": {
            "_dom_classes": [],
            "_model_module": "@jupyter-widgets/controls",
            "_model_module_version": "1.5.0",
            "_model_name": "HBoxModel",
            "_view_count": null,
            "_view_module": "@jupyter-widgets/controls",
            "_view_module_version": "1.5.0",
            "_view_name": "HBoxView",
            "box_style": "",
            "children": [
              "IPY_MODEL_76eb459005de4f1283d1efd64e1c9283",
              "IPY_MODEL_78233af67f7a49c4b4c60e1d434e7791",
              "IPY_MODEL_642e1b1b2c854b57b052b8bce0d2bc20"
            ],
            "layout": "IPY_MODEL_d289e7e03c7744849a21e1fefd05fc5a"
          }
        },
        "76eb459005de4f1283d1efd64e1c9283": {
          "model_module": "@jupyter-widgets/controls",
          "model_name": "HTMLModel",
          "model_module_version": "1.5.0",
          "state": {
            "_dom_classes": [],
            "_model_module": "@jupyter-widgets/controls",
            "_model_module_version": "1.5.0",
            "_model_name": "HTMLModel",
            "_view_count": null,
            "_view_module": "@jupyter-widgets/controls",
            "_view_module_version": "1.5.0",
            "_view_name": "HTMLView",
            "description": "",
            "description_tooltip": null,
            "layout": "IPY_MODEL_f34b89fb7ab44865b7a100b243816a35",
            "placeholder": "​",
            "style": "IPY_MODEL_68cb791bf3274fa6a86c49e466bdf951",
            "value": "Iteration: 100%"
          }
        },
        "78233af67f7a49c4b4c60e1d434e7791": {
          "model_module": "@jupyter-widgets/controls",
          "model_name": "FloatProgressModel",
          "model_module_version": "1.5.0",
          "state": {
            "_dom_classes": [],
            "_model_module": "@jupyter-widgets/controls",
            "_model_module_version": "1.5.0",
            "_model_name": "FloatProgressModel",
            "_view_count": null,
            "_view_module": "@jupyter-widgets/controls",
            "_view_module_version": "1.5.0",
            "_view_name": "ProgressView",
            "bar_style": "success",
            "description": "",
            "description_tooltip": null,
            "layout": "IPY_MODEL_6a7e7c70906441afaebc6cc7e6dc4f7f",
            "max": 1,
            "min": 0,
            "orientation": "horizontal",
            "style": "IPY_MODEL_c494a22ed319467995ccc99d7752cfa0",
            "value": 1
          }
        },
        "642e1b1b2c854b57b052b8bce0d2bc20": {
          "model_module": "@jupyter-widgets/controls",
          "model_name": "HTMLModel",
          "model_module_version": "1.5.0",
          "state": {
            "_dom_classes": [],
            "_model_module": "@jupyter-widgets/controls",
            "_model_module_version": "1.5.0",
            "_model_name": "HTMLModel",
            "_view_count": null,
            "_view_module": "@jupyter-widgets/controls",
            "_view_module_version": "1.5.0",
            "_view_name": "HTMLView",
            "description": "",
            "description_tooltip": null,
            "layout": "IPY_MODEL_a1b9dbad95c942cbb34f44abed3af8c2",
            "placeholder": "​",
            "style": "IPY_MODEL_8626e6f944ba4be28b17bcfbc0a2d248",
            "value": " 1/1 [00:36&lt;00:00, 36.06s/it]"
          }
        },
        "d289e7e03c7744849a21e1fefd05fc5a": {
          "model_module": "@jupyter-widgets/base",
          "model_name": "LayoutModel",
          "model_module_version": "1.2.0",
          "state": {
            "_model_module": "@jupyter-widgets/base",
            "_model_module_version": "1.2.0",
            "_model_name": "LayoutModel",
            "_view_count": null,
            "_view_module": "@jupyter-widgets/base",
            "_view_module_version": "1.2.0",
            "_view_name": "LayoutView",
            "align_content": null,
            "align_items": null,
            "align_self": null,
            "border": null,
            "bottom": null,
            "display": null,
            "flex": null,
            "flex_flow": null,
            "grid_area": null,
            "grid_auto_columns": null,
            "grid_auto_flow": null,
            "grid_auto_rows": null,
            "grid_column": null,
            "grid_gap": null,
            "grid_row": null,
            "grid_template_areas": null,
            "grid_template_columns": null,
            "grid_template_rows": null,
            "height": null,
            "justify_content": null,
            "justify_items": null,
            "left": null,
            "margin": null,
            "max_height": null,
            "max_width": null,
            "min_height": null,
            "min_width": null,
            "object_fit": null,
            "object_position": null,
            "order": null,
            "overflow": null,
            "overflow_x": null,
            "overflow_y": null,
            "padding": null,
            "right": null,
            "top": null,
            "visibility": null,
            "width": null
          }
        },
        "f34b89fb7ab44865b7a100b243816a35": {
          "model_module": "@jupyter-widgets/base",
          "model_name": "LayoutModel",
          "model_module_version": "1.2.0",
          "state": {
            "_model_module": "@jupyter-widgets/base",
            "_model_module_version": "1.2.0",
            "_model_name": "LayoutModel",
            "_view_count": null,
            "_view_module": "@jupyter-widgets/base",
            "_view_module_version": "1.2.0",
            "_view_name": "LayoutView",
            "align_content": null,
            "align_items": null,
            "align_self": null,
            "border": null,
            "bottom": null,
            "display": null,
            "flex": null,
            "flex_flow": null,
            "grid_area": null,
            "grid_auto_columns": null,
            "grid_auto_flow": null,
            "grid_auto_rows": null,
            "grid_column": null,
            "grid_gap": null,
            "grid_row": null,
            "grid_template_areas": null,
            "grid_template_columns": null,
            "grid_template_rows": null,
            "height": null,
            "justify_content": null,
            "justify_items": null,
            "left": null,
            "margin": null,
            "max_height": null,
            "max_width": null,
            "min_height": null,
            "min_width": null,
            "object_fit": null,
            "object_position": null,
            "order": null,
            "overflow": null,
            "overflow_x": null,
            "overflow_y": null,
            "padding": null,
            "right": null,
            "top": null,
            "visibility": null,
            "width": null
          }
        },
        "68cb791bf3274fa6a86c49e466bdf951": {
          "model_module": "@jupyter-widgets/controls",
          "model_name": "DescriptionStyleModel",
          "model_module_version": "1.5.0",
          "state": {
            "_model_module": "@jupyter-widgets/controls",
            "_model_module_version": "1.5.0",
            "_model_name": "DescriptionStyleModel",
            "_view_count": null,
            "_view_module": "@jupyter-widgets/base",
            "_view_module_version": "1.2.0",
            "_view_name": "StyleView",
            "description_width": ""
          }
        },
        "6a7e7c70906441afaebc6cc7e6dc4f7f": {
          "model_module": "@jupyter-widgets/base",
          "model_name": "LayoutModel",
          "model_module_version": "1.2.0",
          "state": {
            "_model_module": "@jupyter-widgets/base",
            "_model_module_version": "1.2.0",
            "_model_name": "LayoutModel",
            "_view_count": null,
            "_view_module": "@jupyter-widgets/base",
            "_view_module_version": "1.2.0",
            "_view_name": "LayoutView",
            "align_content": null,
            "align_items": null,
            "align_self": null,
            "border": null,
            "bottom": null,
            "display": null,
            "flex": null,
            "flex_flow": null,
            "grid_area": null,
            "grid_auto_columns": null,
            "grid_auto_flow": null,
            "grid_auto_rows": null,
            "grid_column": null,
            "grid_gap": null,
            "grid_row": null,
            "grid_template_areas": null,
            "grid_template_columns": null,
            "grid_template_rows": null,
            "height": null,
            "justify_content": null,
            "justify_items": null,
            "left": null,
            "margin": null,
            "max_height": null,
            "max_width": null,
            "min_height": null,
            "min_width": null,
            "object_fit": null,
            "object_position": null,
            "order": null,
            "overflow": null,
            "overflow_x": null,
            "overflow_y": null,
            "padding": null,
            "right": null,
            "top": null,
            "visibility": null,
            "width": null
          }
        },
        "c494a22ed319467995ccc99d7752cfa0": {
          "model_module": "@jupyter-widgets/controls",
          "model_name": "ProgressStyleModel",
          "model_module_version": "1.5.0",
          "state": {
            "_model_module": "@jupyter-widgets/controls",
            "_model_module_version": "1.5.0",
            "_model_name": "ProgressStyleModel",
            "_view_count": null,
            "_view_module": "@jupyter-widgets/base",
            "_view_module_version": "1.2.0",
            "_view_name": "StyleView",
            "bar_color": null,
            "description_width": ""
          }
        },
        "a1b9dbad95c942cbb34f44abed3af8c2": {
          "model_module": "@jupyter-widgets/base",
          "model_name": "LayoutModel",
          "model_module_version": "1.2.0",
          "state": {
            "_model_module": "@jupyter-widgets/base",
            "_model_module_version": "1.2.0",
            "_model_name": "LayoutModel",
            "_view_count": null,
            "_view_module": "@jupyter-widgets/base",
            "_view_module_version": "1.2.0",
            "_view_name": "LayoutView",
            "align_content": null,
            "align_items": null,
            "align_self": null,
            "border": null,
            "bottom": null,
            "display": null,
            "flex": null,
            "flex_flow": null,
            "grid_area": null,
            "grid_auto_columns": null,
            "grid_auto_flow": null,
            "grid_auto_rows": null,
            "grid_column": null,
            "grid_gap": null,
            "grid_row": null,
            "grid_template_areas": null,
            "grid_template_columns": null,
            "grid_template_rows": null,
            "height": null,
            "justify_content": null,
            "justify_items": null,
            "left": null,
            "margin": null,
            "max_height": null,
            "max_width": null,
            "min_height": null,
            "min_width": null,
            "object_fit": null,
            "object_position": null,
            "order": null,
            "overflow": null,
            "overflow_x": null,
            "overflow_y": null,
            "padding": null,
            "right": null,
            "top": null,
            "visibility": null,
            "width": null
          }
        },
        "8626e6f944ba4be28b17bcfbc0a2d248": {
          "model_module": "@jupyter-widgets/controls",
          "model_name": "DescriptionStyleModel",
          "model_module_version": "1.5.0",
          "state": {
            "_model_module": "@jupyter-widgets/controls",
            "_model_module_version": "1.5.0",
            "_model_name": "DescriptionStyleModel",
            "_view_count": null,
            "_view_module": "@jupyter-widgets/base",
            "_view_module_version": "1.2.0",
            "_view_name": "StyleView",
            "description_width": ""
          }
        }
      }
    }
  },
  "cells": [
    {
      "cell_type": "markdown",
      "metadata": {
        "id": "view-in-github",
        "colab_type": "text"
      },
      "source": [
        "<a href=\"https://colab.research.google.com/github/YaoYinYing/low-n-protein-engineering/blob/master/Low_N_engineering_test.ipynb\" target=\"_parent\"><img src=\"https://colab.research.google.com/assets/colab-badge.svg\" alt=\"Open In Colab\"/></a>"
      ]
    },
    {
      "cell_type": "code",
      "metadata": {
        "colab": {
          "base_uri": "https://localhost:8080/",
          "height": 49,
          "referenced_widgets": [
            "fb8112cf546b4a26b623f09199925586",
            "bd788d229ab34baa82b52f1a548a60d1",
            "b17252b8489a4fab8f3d3ac9cee88eb6",
            "ff7aa466de274003a4be17346871a258",
            "a8db9ceb746b4070aabbdcd9b7405418",
            "efc32b3fcd644ed4a4e2b487402b8bc4",
            "fed13d5a4ea24209824971b51026dced",
            "d72a81819ecc410ba2cebe8e048c36b8",
            "eb0e7ab9fa834a2da13de2e42d7f18a3",
            "8116d81fa9c940d4bc44d9c5808116d2",
            "d546f237654b4387b0741344fb3f5eb3"
          ]
        },
        "id": "zGH1AnVJYguR",
        "cellView": "form",
        "outputId": "2cffe47a-9e5f-4cb5-ad1b-5b8d85058137"
      },
      "source": [
        "#@title Install softwares\n",
        "import os\n",
        "import glob\n",
        "import pathlib\n",
        "import sys\n",
        "import time\n",
        "import traceback\n",
        "import pickle\n",
        "import re\n",
        "from IPython.utils import io\n",
        "import subprocess\n",
        "import tqdm.notebook\n",
        "import urllib3\n",
        "import gzip\n",
        "\n",
        "\n",
        "try:\n",
        "  from google.colab import files\n",
        "  IN_COLAB = True\n",
        "except:\n",
        "  IN_COLAB = False\n",
        "\n",
        "TQDM_BAR_FORMAT = '{l_bar}{bar}| {n_fmt}/{total_fmt} [elapsed: {elapsed} remaining: {remaining}]'\n",
        "\n",
        "JAX_UNIREP_REPO='https://github.com/ElArkk/jax-unirep.git'\n",
        "\n",
        "DOWNLOAD_PFAM_SCRIPT='https://raw.githubusercontent.com/xqding/PEVAE_Paper/master/pfam_msa/script/download_MSA.py'\n",
        "\n",
        "TMP_DIR = \"tmp\"\n",
        "SCRIPTS_DIR=f'{TMP_DIR}/scripts'\n",
        "FLAG_DIR=f'{TMP_DIR}/flag'\n",
        "WEIGHTS_DIR=f'{TMP_DIR}/weights'\n",
        "\n",
        "JOBS_DIR='jobs'\n",
        "RES_DIR='results'\n",
        "RES_DIR_MSA=f\"{RES_DIR}/MSA\"\n",
        "RES_DIR_SEQ_OUT=f\"{RES_DIR}/sequence_out\"\n",
        "RES_DIR_PICKLE=f'{RES_DIR}/pickle'\n",
        "RES_DIR_REPORT=f'{RES_DIR}/report'\n",
        "RES_DIR_FEATURE=f'{RES_DIR}/feature'\n",
        "RES_DIR_FIGURE=f'{RES_DIR}/figure'\n",
        "CONDA_PATH='/opt/miniconda'\n",
        "\n",
        "# if not already installed\n",
        "total = 4\n",
        "with tqdm.notebook.tqdm(total=total, bar_format=TQDM_BAR_FORMAT) as pbar:\n",
        "  for dir in [TMP_DIR,FLAG_DIR,WEIGHTS_DIR,SCRIPTS_DIR,\n",
        "              JOBS_DIR,RES_DIR,RES_DIR_MSA,RES_DIR_SEQ_OUT,RES_DIR_PICKLE,RES_DIR_REPORT,RES_DIR_FEATURE,RES_DIR_FIGURE]:\n",
        "    os.makedirs(dir, exist_ok=True)\n",
        "  pbar.update(1)\n",
        "\n",
        "  # jax-unirep\n",
        "  os.system(f'if [ ! -f {FLAG_DIR}/JAX_UNIREP_READY ]; then pip install git+{JAX_UNIREP_REPO};touch {FLAG_DIR}/JAX_UNIREP_READY; fi')\n",
        "  pbar.update(1)\n",
        "\n",
        "  \n",
        "  os.system('pip install awscli')\n",
        "  os.system('pip install optuna')\n",
        "  os.system('pip install biopython')\n",
        "  os.system('pip install seaborn')\n",
        "  os.system('pip install python-Levenshtein')\n",
        "  \n",
        "  # weights\n",
        "  os.system(f'if [ ! -f {FLAG_DIR}/WEIGHT_READY ]; then cd {WEIGHTS_DIR}; for i in 1900_weights/ 256_weights/ 64_weights/ 1900_weights_random/ 256_weights_random/ 64_weights_random/ evotuned/unirep/ evotuned/random_init/; do echo $i; aws s3 sync --no-sign-request s3://unirep-public/$i $i; done;touch {pathlib.Path(FLAG_DIR).resolve()}/WEIGHT_READY;fi')\n",
        "  pbar.update(1)\n",
        "\n",
        "  os.system(f\"wget -qnc {DOWNLOAD_PFAM_SCRIPT} -P {SCRIPTS_DIR}/\")\n",
        "\n",
        "\n",
        "  from Bio import SeqIO,Seq\n",
        "  pbar.update(1)\n",
        "  \n",
        "\n",
        "  \n",
        "  '''\n",
        "  if f\"{pathlib.Path(TMP_DIR).resolve()}/bin/ps_scan/\" not in os.environ['PATH']:\n",
        "    os.environ['PATH'] += f\":{TMP_DIR}/bin/ps_scan\"\n",
        "  pbar.update(1)\n",
        "  '''\n",
        "\n",
        "\n",
        "def download_pfam(pfam_id):\n",
        "  '''\n",
        "  https://github.com/xqding/PEVAE_Paper/blob/master/pfam_msa/script/download_MSA.py\n",
        "  '''\n",
        "  print(f\"Downloading the full multiple sequence alignment for Pfam: {pfam_id} ......\")\n",
        "  http = urllib3.PoolManager()\n",
        "  r = http.request('GET', f'http://pfam.xfam.org/family/{pfam_id}/alignment/long/gzipped')\n",
        "  data = gzip.decompress(r.data)\n",
        "  data = data.decode()\n",
        "\n",
        "  with open(f\"{RES_DIR_MSA}/{pfam_id}_full.fasta\", 'w') as file_handle:\n",
        "    file_handle.write(data)\n",
        "    \n",
        "  print(f\"MSA_downloaded: {pfam_id}\")\n",
        "\n"
      ],
      "execution_count": 1,
      "outputs": [
        {
          "output_type": "display_data",
          "data": {
            "application/vnd.jupyter.widget-view+json": {
              "model_id": "fb8112cf546b4a26b623f09199925586",
              "version_minor": 0,
              "version_major": 2
            },
            "text/plain": [
              "  0%|          | 0/4 [elapsed: 00:00 remaining: ?]"
            ]
          },
          "metadata": {}
        }
      ]
    },
    {
      "cell_type": "code",
      "metadata": {
        "colab": {
          "base_uri": "https://localhost:8080/"
        },
        "id": "Flien3L2inz2",
        "outputId": "079e972e-08b9-4c88-e55c-6f35fe36c805"
      },
      "source": [
        "pfam_id='PF00067'\n",
        "download_pfam(pfam_id)"
      ],
      "execution_count": null,
      "outputs": [
        {
          "name": "stdout",
          "output_type": "stream",
          "text": [
            "Downloading the full multiple sequence alignment for Pfam: PF00067 ......\n",
            "MSA_downloaded: PF00067\n"
          ]
        }
      ]
    },
    {
      "cell_type": "code",
      "metadata": {
        "colab": {
          "base_uri": "https://localhost:8080/"
        },
        "id": "unRo_YP-DKkl",
        "outputId": "7434541b-f167-44f1-dcea-a159924041ed"
      },
      "source": [
        "os.system(f'cd {RES_DIR_MSA};tar jcvf {pfam_id}.stockholm.tar.bz2 {pfam_id}_full.txt' )"
      ],
      "execution_count": null,
      "outputs": [
        {
          "data": {
            "text/plain": [
              "0"
            ]
          },
          "execution_count": 63,
          "metadata": {},
          "output_type": "execute_result"
        }
      ]
    },
    {
      "cell_type": "code",
      "metadata": {
        "id": "96UHYFU3R-sy",
        "cellView": "form"
      },
      "source": [
        "#@title Sequence Mutator\n",
        "\n",
        "\n",
        "def generate_mutant(wt_fasta,mutations,sep=''):\n",
        "\n",
        "  def mutate(sequence, mutations, list_or_string='string'):\n",
        "  # WTF? Why not Mutable sequence?\n",
        "    if (list_or_string == 'string'):\n",
        "        mutations = mutations.split(sep)\n",
        "    mut_sequence = list(sequence)\n",
        "    for mut in mutations:\n",
        "        curr_res = mut[0]\n",
        "        mut_res = mut[-1]\n",
        "        mut_pos = mut[1:-1]\n",
        "        mut_sequence[int(mut_pos)-1] = mut_res\n",
        "    return ''.join(mut_sequence)\n",
        "    \n",
        "  print( str(type(mutations)))\n",
        "  if str(type(mutations))==\"<class 'list'>\":\n",
        "    mutations_string='-'.join(mutations)\n",
        "    mutations_list=mutations\n",
        "  elif str(type(mutations))==\"<class 'str'>\":\n",
        "    mutations_string=mutations\n",
        "    mutations_list=mutations.split(sep)\n",
        "  else:\n",
        "    raise TypeError(f'type(mutations)={ str(type(mutations))}')\n",
        "  print(mutations_list)\n",
        "  in_path=pathlib.Path(wt_fasta).resolve()\n",
        "  out_path=pathlib.Path(f'{in_path.stem}_{mutations_string}.{in_path.suffix}')\n",
        "  fasta_seqs = SeqIO.parse(open(in_path),'fasta')\n",
        "  out_file = open(out_path, \"w\")\n",
        "  for fasta in fasta_seqs:\n",
        "    name, sequence = fasta.id, str(fasta.seq)\n",
        "    out_file.write('>' + mutations_string + '_' + name + '\\n')\n",
        "    mut_seq = mutate(sequence,mutations_string, 'string')\n",
        "    out_file.write(mut_seq)\n",
        "\n",
        "  out_file.close()"
      ],
      "execution_count": null,
      "outputs": []
    },
    {
      "cell_type": "code",
      "metadata": {
        "colab": {
          "base_uri": "https://localhost:8080/"
        },
        "id": "Q3HA8Cg7rIaQ",
        "outputId": "827332cb-53c6-4866-87e4-40df1c447919"
      },
      "source": [
        "generate_mutant(\"./890.fasta\",\"I46L_L109F_F113L_E286A_C343Y\",sep='_')"
      ],
      "execution_count": null,
      "outputs": [
        {
          "name": "stdout",
          "output_type": "stream",
          "text": [
            "<class 'str'>\n",
            "['I46L', 'L109F', 'F113L', 'E286A', 'C343Y']\n"
          ]
        }
      ]
    },
    {
      "cell_type": "code",
      "metadata": {
        "id": "u_McY7bpvEc1",
        "cellView": "form"
      },
      "source": [
        "#@title Generate Inputs for Evotuning eUniRep for P450 family\n",
        "# https://github.com/ivanjayapurna/low-n-protein-engineering/blob/master/pre-evotuning/generate_evotune_inputs_2MS2.ipynb\n",
        "\n",
        "from Bio import SeqIO\n",
        "import pandas as pd\n",
        "import re\n",
        "from Levenshtein import distance\n",
        "import numpy as np\n",
        "import matplotlib.pyplot as plt\n",
        "\n",
        "\n",
        " # Functions:\n",
        "\n",
        "# read FASTA file:\n",
        "# input: file name\n",
        "# output: names and sequences in the file as an array of dim-2 arrays [name, sequence].\n",
        "def read_fasta(name):\n",
        "    # Yinying edited here bcs pfam provides stockholm formated file. \n",
        "    # PFam use stockholm while InterPro use fasta\n",
        "    \n",
        "    fasta_seqs = SeqIO.parse(open( name ), name.suffix.replace(\".\",''))\n",
        "    data = []\n",
        "    for fasta in fasta_seqs:\n",
        "        data.append([fasta.id, str(fasta.seq).strip()])\n",
        "    return data\n",
        "\n",
        "\n",
        "# write FASTA file:\n",
        "# input: file name; df to write\n",
        "def write_fasta(name, seqs_df):\n",
        "    out_file = open(f'{RES_DIR_SEQ_OUT}/{name}_out.fasta', \"w\")\n",
        "    for i in range(len(seqs_df)):\n",
        "        out_file.write('>' + seqs_df.name[i] + '\\n')\n",
        "        out_file.write(seqs_df.sequence[i] + '\\n')\n",
        "    out_file.close()\n",
        "\n",
        "\n",
        "# input: takes in a sequence\n",
        "# output: True if a sequence contains only standard amino acids, returns False if contains non-standard ones.\n",
        "def validate(seq, pattern=re.compile(r'^[FIWLVMYCATHGSQRKNEPD]+$')):\n",
        "    if (pattern.match(seq)):\n",
        "        return True\n",
        "    return False\n",
        "\n",
        "    \n",
        "# Remove sequences longer than k residues and with non-standard residues\n",
        "# inputs: seqs_df = dataframe of name, sequence; k = max lenght of residues to keep\n",
        "# output: cleaned dataframe\n",
        "def clean(seqs_df, k):\n",
        "    # remove sequences with length > 1000 AA's\n",
        "    rows2drop = []\n",
        "    for i in range(len(seqs_df)):\n",
        "        if (len(seqs_df.sequence[i]) > k):\n",
        "            rows2drop.append(i)\n",
        "\n",
        "    print('Total number of sequences dropped due to length >', k, ':', len(rows2drop))\n",
        "\n",
        "    seqs_df = seqs_df.drop(rows2drop).reset_index().drop('index', axis=1)\n",
        "\n",
        "    print('Total number of sequences remaining:', len(seqs_df))\n",
        "    \n",
        "    # remove sequences with invalid AA residues\n",
        "    # valid_alphabet = ['F','I','W','L','V','M','Y','C','A','T','H','G','S','Q','R','K','N','E','P','D']\n",
        "    invalid_seqs = []\n",
        "\n",
        "    for i in range(len(seqs_df)):\n",
        "        if (not validate(seqs_df.sequence[i])):\n",
        "            invalid_seqs.append(i)\n",
        "\n",
        "    print('Total number of invalid sequences dropped:', len(invalid_seqs))\n",
        "\n",
        "    seqs_df = seqs_df.drop(invalid_seqs).reset_index().drop('index', axis=1)\n",
        "\n",
        "    print('Total number of valid sequences remaining:', len(seqs_df))\n",
        "    \n",
        "    \n",
        "    seqs_df = seqs_df.drop_duplicates(subset='sequence').reset_index().drop('index', axis=1)\n",
        "\n",
        "    print('Total sequences remaining after duplicate removal', len(seqs_df))\n",
        "\n",
        "    \n",
        "    return seqs_df\n",
        "\n",
        "\n",
        "# calculate the Levenstein distance of mulitple sequences to a target sequence\n",
        "# also plots a histogram of distances\n",
        "# inputs: t_seq = target sequence; seqs_df = dataframe of sequences;\n",
        "# num_bins = bins for histogram; hist_range = range for histogram\n",
        "# outputs: numpy array of distances\n",
        "def lev_dist(t_seq, seqs_df, num_bins=20, hist_range=(0,350)):\n",
        "    distances = []\n",
        "    for i in range(len(seqs_df)):\n",
        "        distances.append(distance(t_seq, seqs_df.sequence[i]))\n",
        "    distances = np.array(distances)\n",
        "\n",
        "    mean_dist = np.mean(distances)\n",
        "    median_dist = np.median(distances)\n",
        "    min_dist = np.min(distances)\n",
        "    max_dist = np.max(distances)\n",
        "    \n",
        "    print(\"Mean Levenstein distance:\", mean_dist)\n",
        "    print(\"Median Levenstein distance:\", mean_dist)\n",
        "    print(\"Min Levenstein distance:\", min_dist)\n",
        "    print(\"Max Levenstein distance:\", max_dist)\n",
        "\n",
        "    \n",
        "    # histogram of Levenstein distances from target sequence\n",
        "    plt.clf()\n",
        "    plt.hist(distances, bins=num_bins, range=hist_range)\n",
        "    plt.show()\n",
        "    \n",
        "    return distances\n",
        "\n",
        "\n",
        "\n",
        "\"\"\"\n",
        "File formatting note.\n",
        "Data should be preprocessed as a sequence of comma-seperated ints with\n",
        "sequences  /n seperated\n",
        "\"\"\"\n",
        "\n",
        "# Lookup tables\n",
        "aa_to_int = {\n",
        "    'M':1,\n",
        "    'R':2,\n",
        "    'H':3,\n",
        "    'K':4,\n",
        "    'D':5,\n",
        "    'E':6,\n",
        "    'S':7,\n",
        "    'T':8,\n",
        "    'N':9,\n",
        "    'Q':10,\n",
        "    'C':11,\n",
        "    'U':12,\n",
        "    'G':13,\n",
        "    'P':14,\n",
        "    'A':15,\n",
        "    'V':16,\n",
        "    'I':17,\n",
        "    'F':18,\n",
        "    'Y':19,\n",
        "    'W':20,\n",
        "    'L':21,\n",
        "    'O':22, #Pyrrolysine\n",
        "    'X':23, # Unknown\n",
        "    'Z':23, # Glutamic acid or GLutamine\n",
        "    'B':23, # Asparagine or aspartic acid\n",
        "    'J':23, # Leucine or isoleucine\n",
        "    'start':24,\n",
        "    'stop':25,\n",
        "}\n",
        "\n",
        "int_to_aa = {value:key for key, value in aa_to_int.items()}\n",
        "\n",
        "def get_aa_to_int():\n",
        "    \"\"\"\n",
        "    Get the lookup table (for easy import)\n",
        "    \"\"\"\n",
        "    return aa_to_int\n",
        "\n",
        "def get_int_to_aa():\n",
        "    \"\"\"\n",
        "    Get the lookup table (for easy import)\n",
        "    \"\"\"\n",
        "    return int_to_aa\n",
        "    \n",
        "def aa_seq_to_int(s):\n",
        "    \"\"\"\n",
        "    Return the int sequence as a list for a given string of amino acids\n",
        "    \"\"\"\n",
        "    return [24] + [aa_to_int[a] for a in s] + [25]\n",
        "\n",
        "def int_seq_to_aa(s):\n",
        "    \"\"\"\n",
        "    Return the int sequence as a list for a given string of amino acids\n",
        "    \"\"\"\n",
        "    return \"\".join([int_to_aa[i] for i in s])\n",
        "\n",
        "    \n",
        "def format_seq(seq,stop=False):\n",
        "    \"\"\"\n",
        "    Takes an amino acid sequence, returns a list of integers in the codex of the babbler.\n",
        "    Here, the default is to strip the stop symbol (stop=False) which would have \n",
        "    otherwise been added to the end of the sequence. If you are trying to generate\n",
        "    a rep, do not include the stop. It is probably best to ignore the stop if you are\n",
        "    co-tuning the babbler and a top model as well.\n",
        "    \"\"\"\n",
        "    if stop:\n",
        "        int_seq = aa_seq_to_int(seq.strip())\n",
        "    else:\n",
        "        int_seq = aa_seq_to_int(seq.strip())[:-1]\n",
        "    return int_seq\n",
        "\n",
        "def is_valid_seq(seq, max_len=2000):\n",
        "    \"\"\"\n",
        "    True if seq is valid for the babbler, False otherwise.\n",
        "    \"\"\"\n",
        "    l = len(seq)\n",
        "    valid_aas = \"MRHKDESTNQCUGPAVIFYWLO\"\n",
        "    if (l < max_len) and set(seq) <= set(valid_aas):\n",
        "        return True\n",
        "    else:\n",
        "        return False\n",
        "\n",
        "def fasta_to_input(in_path):\n",
        "    source = SeqIO.parse(in_path + '.fasta.txt','fasta')\n",
        "    with open(in_path + \"_formatted.fasta.txt\", \"w\") as destination:\n",
        "        for seq in fasta_seqs:\n",
        "            seq = seq.strip()\n",
        "            if is_valid_seq(seq) and len(seq) < 275: \n",
        "                formatted = \",\".join(map(str,format_seq(seq)))\n",
        "                destination.write(formatted)\n",
        "                destination.write('\\n')\n",
        "\n",
        "def seqs_to_input(name, in_seqs, stop=False):\n",
        "    with open('outputs/' + name + \"_formatted.fasta.txt\", \"w\") as destination:\n",
        "        for seq in in_seqs:\n",
        "            seq = seq.strip()\n",
        "            if is_valid_seq(seq): \n",
        "                formatted = \",\".join(map(str,format_seq(seq, stop=stop)))\n",
        "                destination.write(formatted)\n",
        "                destination.write('\\n')"
      ],
      "execution_count": null,
      "outputs": []
    },
    {
      "cell_type": "code",
      "metadata": {
        "id": "D8oQMq2D8Er4",
        "cellView": "form"
      },
      "source": [
        "#@title Fetch InterPro\n",
        "# standard library modules\n",
        "import json, ssl\n",
        "from urllib import request\n",
        "from urllib.error import HTTPError\n",
        "from time import sleep\n",
        "\n",
        "def download_interpro(interpro_id):\n",
        "    BASE_URL = f\"https://www.ebi.ac.uk:443/interpro/api/protein/UniProt/entry/InterPro/{interpro_id}/?page_size=200&extra_fields=sequence\"\n",
        "    \n",
        "    HEADER_SEPARATOR = \"|\"\n",
        "    LINE_LENGTH = 80\n",
        "\n",
        "    with open(f'{RES_DIR_MSA}/{interpro_id}.fasta', 'w') as fasta_file_handle:\n",
        "        # disable SSL verification to avoid config issues\n",
        "        context = ssl._create_unverified_context()\n",
        "        \n",
        "        next = BASE_URL\n",
        "        last_page = False\n",
        "        \n",
        "        attempts = 0\n",
        "        while next:\n",
        "            try:\n",
        "                req = request.Request(next, headers={\"Accept\": \"application/json\"})\n",
        "                res = request.urlopen(req, context=context)\n",
        "                # If the API times out due a long running query\n",
        "                if res.status == 408:\n",
        "                    # wait just over a minute\n",
        "                    print(f'wasting life for res.status: {res.status}')\n",
        "                    sleep(7)\n",
        "                    # then continue this loop with the same URL\n",
        "                    continue\n",
        "                elif res.status == 204:\n",
        "                    # no data so leave loop\n",
        "                    break\n",
        "                payload = json.loads(res.read().decode())\n",
        "                next = payload[\"next\"]\n",
        "                attempts = 0\n",
        "                if not next:\n",
        "                    last_page = True\n",
        "            except HTTPError as e:\n",
        "                if e.code == 408:\n",
        "                    print(f'wasting life for e.code: {e.code}')\n",
        "                    sleep(31)\n",
        "                    continue\n",
        "                else:\n",
        "                    # If there is a different HTTP error, it wil re-try 3 times before failing\n",
        "                    if attempts < 3000:\n",
        "                        attempts += 1\n",
        "                        print(f'wasting life for attempts: {attempts}')\n",
        "                        sleep(13)\n",
        "                        continue\n",
        "                    else:\n",
        "                        print(\"LAST URL: \" + next)\n",
        "                        raise e\n",
        "\n",
        "            for i, item in enumerate(payload[\"results\"]):\n",
        "                \n",
        "                if (\"entries\" in item):\n",
        "                    for entry in item[\"entries\"]:\n",
        "                        for locations in entry[\"entry_protein_locations\"]:\n",
        "                            for fragment in locations[\"fragments\"]:\n",
        "                                start = fragment[\"start\"]\n",
        "                                end = fragment[\"end\"]\n",
        "                                fasta_file_handle.write(\">\" + item[\"metadata\"][\"accession\"] + HEADER_SEPARATOR\n",
        "                                                        + entry[\"accession\"] + HEADER_SEPARATOR\n",
        "                                                        + str(start) + \"...\" + str(end) + HEADER_SEPARATOR\n",
        "                                                        + item[\"metadata\"][\"name\"] + \"\\n\")\n",
        "                                seq = item[\"extra_fields\"][\"sequence\"]\n",
        "                                fastaSeqFragments = [seq[0 + i:LINE_LENGTH + i] for i in range(0, len(seq), LINE_LENGTH)]\n",
        "                                for fastaSeqFragment in fastaSeqFragments:\n",
        "                                    fasta_file_handle.write(fastaSeqFragment + \"\\n\")\n",
        "                else:\n",
        "                    fasta_file_handle.write(\n",
        "                        \">\" + item[\"metadata\"][\"accession\"] + HEADER_SEPARATOR + item[\"metadata\"][\"name\"] + \"\\n\")\n",
        "                    seq = item[\"extra_fields\"][\"sequence\"]\n",
        "                    fastaSeqFragments = [seq[0 + i:LINE_LENGTH + i] for i in range(0, len(seq), LINE_LENGTH)]\n",
        "                    for fastaSeqFragment in fastaSeqFragments:\n",
        "                        fasta_file_handle.write(fastaSeqFragment + \"\\n\")\n",
        "\n",
        "                # Don't overload the server, give it time before asking for more\n",
        "            if next:\n",
        "                sleep(2)\n"
      ],
      "execution_count": null,
      "outputs": []
    },
    {
      "cell_type": "code",
      "metadata": {
        "colab": {
          "background_save": true
        },
        "id": "_7FTtzRshGk8"
      },
      "source": [
        "download_interpro(\"IPR001128\")\n",
        "\n",
        "'''\n",
        "for i in [\n",
        "          'IPR017972',\n",
        "          'IPR002403',\n",
        "          #'IPR001128', skipped\n",
        "          'IPR036396']:\n",
        "  download_interpro(i)\n",
        "'''"
      ],
      "execution_count": null,
      "outputs": []
    },
    {
      "cell_type": "code",
      "metadata": {
        "id": "6ON0JHgYUB1O"
      },
      "source": [
        "! cd {RES_DIR_MSA}; gzip IPR001128.fasta "
      ],
      "execution_count": null,
      "outputs": []
    },
    {
      "cell_type": "markdown",
      "metadata": {
        "id": "rEOFqaX3OxFm"
      },
      "source": [
        ""
      ]
    },
    {
      "cell_type": "code",
      "metadata": {
        "colab": {
          "base_uri": "https://localhost:8080/"
        },
        "id": "rGk50PMQmqsk",
        "outputId": "1c9c2d54-8ae2-4811-b675-d0781f5d902c"
      },
      "source": [
        "import glob\n",
        "\n",
        "# input FASTA files:\n",
        "in_fastas = [pathlib.Path(x).resolve() for x in glob.glob(f\"{RES_DIR_MSA}/*\")]\n",
        "\n",
        "# put sequences into a pandas dataframes\n",
        "sequences_df = pd.concat([pd.DataFrame(read_fasta(in_fastas[i]), columns = ['name', 'sequence']) for i in range(len(in_fastas))], axis=0).reset_index().drop('index', axis=1)\n",
        "\n",
        "print('Total number of input sequences:', len(sequences_df))\n",
        "\n",
        "# clean the sequences:\n",
        "# the number here is the AA length we want - set to 350\n",
        "clean_seqs_df = clean(sequences_df, 1000)\n",
        "\n",
        "# save clean sequences as a .fasta.txt file\n",
        "write_fasta('P450_all_sequences_clean', clean_seqs_df)"
      ],
      "execution_count": null,
      "outputs": [
        {
          "name": "stdout",
          "output_type": "stream",
          "text": [
            "Total number of input sequences: 228771\n",
            "Total number of sequences dropped due to length > 1000 : 6714\n",
            "Total number of sequences remaining: 222057\n",
            "Total number of invalid sequences dropped: 3150\n",
            "Total number of valid sequences remaining: 218907\n",
            "Total sequences remaining after duplicate removal 192283\n"
          ]
        }
      ]
    },
    {
      "cell_type": "code",
      "metadata": {
        "colab": {
          "base_uri": "https://localhost:8080/",
          "height": 204
        },
        "id": "81daol__wnNz",
        "outputId": "572de5e8-2ff2-4353-b8f0-c1398a5919ee"
      },
      "source": [
        "sequences_df.head()"
      ],
      "execution_count": null,
      "outputs": [
        {
          "data": {
            "text/html": [
              "<div>\n",
              "<style scoped>\n",
              "    .dataframe tbody tr th:only-of-type {\n",
              "        vertical-align: middle;\n",
              "    }\n",
              "\n",
              "    .dataframe tbody tr th {\n",
              "        vertical-align: top;\n",
              "    }\n",
              "\n",
              "    .dataframe thead th {\n",
              "        text-align: right;\n",
              "    }\n",
              "</style>\n",
              "<table border=\"1\" class=\"dataframe\">\n",
              "  <thead>\n",
              "    <tr style=\"text-align: right;\">\n",
              "      <th></th>\n",
              "      <th>name</th>\n",
              "      <th>sequence</th>\n",
              "    </tr>\n",
              "  </thead>\n",
              "  <tbody>\n",
              "    <tr>\n",
              "      <th>0</th>\n",
              "      <td>A0A009JPS9|IPR001128|197...300|Cytochrome</td>\n",
              "      <td>MFIAMDPPKHDVQRQAVQDVVAPKNLKELEGLIRLRVQEVLDQLPT...</td>\n",
              "    </tr>\n",
              "    <tr>\n",
              "      <th>1</th>\n",
              "      <td>A0A010PZX0|IPR001128|227...483|Ent-kaurene</td>\n",
              "      <td>MSLSWSGWPATLEPQQSALGLLFVVLSLTLAYISIPGRHDHLPYIN...</td>\n",
              "    </tr>\n",
              "    <tr>\n",
              "      <th>2</th>\n",
              "      <td>A0A010PZY6|IPR001128|296...495|Prostacyclin</td>\n",
              "      <td>MADSSSAAATAVATLLERFSSTSSVKLIASAVALVVTVLMVIDKFV...</td>\n",
              "    </tr>\n",
              "    <tr>\n",
              "      <th>3</th>\n",
              "      <td>A0A010Q013|IPR001128|153...528|Cytochrome</td>\n",
              "      <td>MAPISQLLPPVASLSGVGLLALGSIALLYIISRVFLSIPYPKDIPL...</td>\n",
              "    </tr>\n",
              "    <tr>\n",
              "      <th>4</th>\n",
              "      <td>A0A010Q0Z9|IPR001128|248...438|Uncharacterized</td>\n",
              "      <td>MLREILYAFTGLALLAYAADFFYSTGDDPNEPVRIRSRFPLIGHVL...</td>\n",
              "    </tr>\n",
              "  </tbody>\n",
              "</table>\n",
              "</div>"
            ],
            "text/plain": [
              "                                             name                                           sequence\n",
              "0       A0A009JPS9|IPR001128|197...300|Cytochrome  MFIAMDPPKHDVQRQAVQDVVAPKNLKELEGLIRLRVQEVLDQLPT...\n",
              "1      A0A010PZX0|IPR001128|227...483|Ent-kaurene  MSLSWSGWPATLEPQQSALGLLFVVLSLTLAYISIPGRHDHLPYIN...\n",
              "2     A0A010PZY6|IPR001128|296...495|Prostacyclin  MADSSSAAATAVATLLERFSSTSSVKLIASAVALVVTVLMVIDKFV...\n",
              "3       A0A010Q013|IPR001128|153...528|Cytochrome  MAPISQLLPPVASLSGVGLLALGSIALLYIISRVFLSIPYPKDIPL...\n",
              "4  A0A010Q0Z9|IPR001128|248...438|Uncharacterized  MLREILYAFTGLALLAYAADFFYSTGDDPNEPVRIRSRFPLIGHVL..."
            ]
          },
          "execution_count": 18,
          "metadata": {},
          "output_type": "execute_result"
        }
      ]
    },
    {
      "cell_type": "code",
      "metadata": {
        "colab": {
          "base_uri": "https://localhost:8080/"
        },
        "id": "3Xqkt9J8ElxT",
        "outputId": "d01afa9e-1924-49ce-8667-d638dc982390"
      },
      "source": [
        "# load target sequence\n",
        "target_fasta = f'{JOBS_DIR}/890.fasta'\n",
        "target_fasta=pathlib.Path(target_fasta).resolve()\n",
        "job_name=target_fasta.name\n",
        "targets = read_fasta(target_fasta)\n",
        "print(targets[0][0])\n",
        "print(targets[0][1])"
      ],
      "execution_count": null,
      "outputs": [
        {
          "name": "stdout",
          "output_type": "stream",
          "text": [
            "NP_001289636.1\n",
            "MWTILLGLATLAIAYYIHWVNKWKDSKFNGVLPPGTMGLPLIGETIQLSRPSDSLDVHPFIQRKVKRYGPIFKTCLAGRPVVVSTDAEFNHYIMLQEGRAVEMWYLDTLSKFFGLDTEWLKALGLIHKYIRSITLNHFGAESLRERFLPRIEESARETLHYWSTQTSVEVKESAAAMVFRTSIVKMFSEDSSKLLTEGLTKKFTGLLGGFLTLPLNLPGTTYHKCIKDMKQIQKKLKDILEERLAKGVKIDEDFLGQAIKDKESQQFISEEFIIQLLFSISFASFESISTTLTLILNFLADHPDVVKELEAEHEAIRKARADPDGPITWEEYKSMNFTLNVICETLRLGSVTPALLRKTTKEIQIKGYTIPEGWTVMLVTASRHRDPEVYKDPDTFNPWRWKELDSITIQKNFMPFGGGLRHCAGAEYSKVYLCTFLHILFTKYRWRKLKGGKIARAHILRFEDGLYVNFTPKE\n"
          ]
        }
      ]
    },
    {
      "cell_type": "code",
      "metadata": {
        "colab": {
          "base_uri": "https://localhost:8080/",
          "height": 333
        },
        "id": "JJUEOFVdE8NK",
        "outputId": "083f3723-a353-4984-d35a-76bb70c13164"
      },
      "source": [
        "# calculate levenstein distance from chosen target sequence\n",
        "distances = lev_dist(targets[0][1], clean_seqs_df, 30, (0,300))"
      ],
      "execution_count": null,
      "outputs": [
        {
          "name": "stdout",
          "output_type": "stream",
          "text": [
            "Mean Levenstein distance: 390.18818616310335\n",
            "Median Levenstein distance: 390.18818616310335\n",
            "Min Levenstein distance: 0\n",
            "Max Levenstein distance: 804\n"
          ]
        },
        {
          "data": {
            "image/png": "[encoded data removed]",
            "text/plain": [
              "<Figure size 432x288 with 1 Axes>"
            ]
          },
          "metadata": {},
          "output_type": "display_data"
        }
      ]
    },
    {
      "cell_type": "code",
      "metadata": {
        "colab": {
          "base_uri": "https://localhost:8080/",
          "height": 683
        },
        "id": "U8s4B4C0E_SC",
        "outputId": "4c7ea1a3-480d-4e01-f14a-5492889425ef"
      },
      "source": [
        "# partition into the training and 2 validation sets:\n",
        "\n",
        "clean_seqs_df_copy = clean_seqs_df.copy()\n",
        "out_domain_val_set = clean_seqs_df_copy.sample(frac=0.1, weights=distances**4, random_state=17)\n",
        "remainder_df = clean_seqs_df_copy.drop(out_domain_val_set.index)\n",
        "#train_set = remainder_df.sample(frac=0.889, random_state=17)\n",
        "#in_domain_val_set = remainder_df.drop(train_set.index)\n",
        "\n",
        "# set check sizes and levenstein distances\n",
        "print('Out of domain validation set size:', len(out_domain_val_set))\n",
        "out_dom_distances = lev_dist(targets[0][1], out_domain_val_set.reset_index().drop('index', axis=1), 30, (0,300))\n",
        "\n",
        "#print('In domain validation set size:', len(in_domain_val_set))\n",
        "\n",
        "print('Training set size:', len(remainder_df))\n",
        "training_distances = lev_dist(targets[0][1], remainder_df.reset_index().drop('index', axis=1), 30, (0,300))"
      ],
      "execution_count": null,
      "outputs": [
        {
          "name": "stdout",
          "output_type": "stream",
          "text": [
            "Out of domain validation set size: 19228\n",
            "Mean Levenstein distance: 415.26690243395046\n",
            "Median Levenstein distance: 415.26690243395046\n",
            "Min Levenstein distance: 275\n",
            "Max Levenstein distance: 804\n"
          ]
        },
        {
          "data": {
            "image/png": "[encoded data removed]",
            "text/plain": [
              "<Figure size 432x288 with 1 Axes>"
            ]
          },
          "metadata": {},
          "output_type": "display_data"
        },
        {
          "name": "stdout",
          "output_type": "stream",
          "text": [
            "Training set size: 173055\n",
            "Mean Levenstein distance: 387.4017104388778\n",
            "Median Levenstein distance: 387.4017104388778\n",
            "Min Levenstein distance: 0\n",
            "Max Levenstein distance: 788\n"
          ]
        },
        {
          "data": {
            "image/png": "[encoded data removed]",
            "text/plain": [
              "<Figure size 432x288 with 1 Axes>"
            ]
          },
          "metadata": {},
          "output_type": "display_data"
        }
      ]
    },
    {
      "cell_type": "code",
      "metadata": {
        "id": "DGJwmzFxFINn"
      },
      "source": [
        "# save to fasta file formats:\n",
        "\n",
        "write_fasta(f'{job_name}_train_set', remainder_df.reset_index().drop('index', axis=1))\n",
        "write_fasta(f'{job_name}_out_domain_val_set', out_domain_val_set.reset_index().drop('index', axis=1))\n",
        "#write_fasta('in_domain_val_set', in_domain_val_set.reset_index().drop('index', axis=1))"
      ],
      "execution_count": null,
      "outputs": []
    },
    {
      "cell_type": "code",
      "metadata": {
        "colab": {
          "base_uri": "https://localhost:8080/",
          "height": 1000,
          "referenced_widgets": [
            "31c62f5748c4448999127291b9b2d4d5",
            "ba70698ee3eb454e9bfff57f5e79608d",
            "e33c4d3a583f44748ae8251e55cb09b9",
            "7f677544d006423da3a88975499ab2a7",
            "161b3456eaf34ce0b5e381130441aace",
            "eaf74248ea324f468b4be95c62049856",
            "693f86e857074af39904836f15b49465",
            "b4ac5c89b47a4be09b7b7ecd4766e7d0",
            "000875ce3897451f9fcaea2283779edb",
            "419c21e2b8c44ae884604f7061df43e3",
            "dfc8bc5e800342fc87ed71ad993a2fd2",
            "5f6d5e72d1d545969195b94bf8c7a6ed",
            "da0d0897cd834a439939d2ee896022f1",
            "090cd1d9c9b5420997c48fa318abd8bd",
            "d3ee5579e96f492498b16aab45602422",
            "73daabcc2c3046ed9deae61136dba6cf",
            "a0250a25bd1345d48ee1ea67d3544599",
            "d5986badc1cd4497b175dca3ff478cc3",
            "a6d035e83198424caba0ceb2f168b68e",
            "36228cbacc81488e8431d2fbe68f1b23",
            "a2b726c30d81438f844bc69f1b32078d",
            "6827d8b9b5684de7ac5b000f2b60311f",
            "61751e2ed4784d5480f9361e2eec5024",
            "76eb459005de4f1283d1efd64e1c9283",
            "78233af67f7a49c4b4c60e1d434e7791",
            "642e1b1b2c854b57b052b8bce0d2bc20",
            "d289e7e03c7744849a21e1fefd05fc5a",
            "f34b89fb7ab44865b7a100b243816a35",
            "68cb791bf3274fa6a86c49e466bdf951",
            "6a7e7c70906441afaebc6cc7e6dc4f7f",
            "c494a22ed319467995ccc99d7752cfa0",
            "a1b9dbad95c942cbb34f44abed3af8c2",
            "8626e6f944ba4be28b17bcfbc0a2d248",
            "3b81818d390345cdb7c9ee8765bedb3e",
            "38decf50e39946059e6c816ba1b3fd29",
            "560772a963914e87b26aa58720bd4c62",
            "21c9ca4a8d9b4e37a5ba50b067d365cf",
            "878952743d9548348f3b470e374d8dc7",
            "45e9f339089b449db78074417a1dd2a2",
            "8364d5b2c8da48f9854a17f7cd0d9921",
            "305269dda16c4ae1adf02870abf15e3e",
            "54da38b43c434f71bea3165662e30718",
            "997d67894f2449f487f8f6fdd5458134",
            "d5e4454fe558471aa015544537f6181c",
            "ce8b45f12dc748c0af51d4d3490713fa",
            "3edefccd08e94a928eed71f02c9837bf",
            "93a50f3acc7e40e59e9ec355e846a93c",
            "d66c5abb0acd4d7585d1fc83c529bebb",
            "1b1906fbcb194c53b0086c013541193d",
            "5109c0ea10084cb6be0d78e656b62284",
            "bad11b6201b6454d89549f1900fc979c"
          ]
        },
        "id": "Lc1nrYdrGP-U",
        "cellView": "form",
        "outputId": "66745769-938d-4c8e-9706-5bc173feeae4"
      },
      "source": [
        "#@title Evotuning\n",
        "# https://github.com/ElArkk/jax-unirep/blob/master/examples/evotuning.py\n",
        "\"\"\"Evotuning two ways!\"\"\"\n",
        "\n",
        "from pathlib import Path\n",
        "\n",
        "from jax.random import PRNGKey\n",
        "\n",
        "from jax_unirep import evotune\n",
        "from jax_unirep.evotuning_models import mlstm64\n",
        "from jax_unirep.utils import dump_params\n",
        "\n",
        "# Test sequences:\n",
        "sequences = [\"HASTA\", \"VISTA\", \"ALAVA\", \"LIMED\", \"HAST\", \"HAS\", \"HASVASTA\"] * 5\n",
        "holdout_sequences = [\n",
        "    \"HASTA\",\n",
        "    \"VISTA\",\n",
        "    \"ALAVA\",\n",
        "    \"LIMED\",\n",
        "    \"HAST\",\n",
        "    \"HASVALTA\",\n",
        "] * 5\n",
        "PROJECT_NAME = \"evotuning_temp\"\n",
        "\n",
        "init_fun, apply_fun = mlstm64()\n",
        "性·\n",
        "# The input_shape is always going to be (-1, 26),\n",
        "# because that is the number of unique AA, one-hot encoded.\n",
        "_, inital_params = init_fun(PRNGKey(42), input_shape=(-1, 26))\n",
        "\n",
        "# 1. Evotuning with Optuna\n",
        "n_epochs_config = {\"low\": 1, \"high\": 1}\n",
        "lr_config = {\"low\": 1e-5, \"high\": 1e-3}\n",
        "study, evotuned_params = evotune(\n",
        "    sequences=sequences,\n",
        "    model_func=apply_fun,\n",
        "    params=inital_params,\n",
        "    out_dom_seqs=holdout_sequences,\n",
        "    n_trials=2,\n",
        "    n_splits=2,\n",
        "    n_epochs_config=n_epochs_config,\n",
        "    learning_rate_config=lr_config,\n",
        ")\n",
        "\n",
        "dump_params(evotuned_params, Path(PROJECT_NAME))\n",
        "print(\"Evotuning done! Find output weights in\", PROJECT_NAME)\n",
        "print(study.trials_dataframe())"
      ],
      "execution_count": null,
      "outputs": [
        {
          "name": "stderr",
          "output_type": "stream",
          "text": [
            "/usr/local/lib/python3.7/dist-packages/requests/__init__.py:91: RequestsDependencyWarning:\n",
            "\n",
            "urllib3 (1.26.7) or chardet (3.0.4) doesn't match a supported version!\n",
            "\n",
            "WARNING:absl:No GPU/TPU found, falling back to CPU. (Set TF_CPP_MIN_LOG_LEVEL=0 and rerun for more info.)\n",
            "\u001b[32m[I 2021-10-14 14:51:32,474]\u001b[0m A new study created in memory with name: no-name-720dbe81-13a8-4659-b99e-079bd0fb69c3\u001b[0m\n"
          ]
        },
        {
          "data": {
            "application/vnd.jupyter.widget-view+json": {
              "model_id": "31c62f5748c4448999127291b9b2d4d5",
              "version_major": 2,
              "version_minor": 0
            },
            "text/plain": [
              "right-padding sequences:   0%|          | 0/17 [00:00<?, ?it/s]"
            ]
          },
          "metadata": {},
          "output_type": "display_data"
        },
        {
          "data": {
            "application/vnd.jupyter.widget-view+json": {
              "model_id": "5f6d5e72d1d545969195b94bf8c7a6ed",
              "version_major": 2,
              "version_minor": 0
            },
            "text/plain": [
              "  0%|          | 0/1 [00:00<?, ?it/s]"
            ]
          },
          "metadata": {},
          "output_type": "display_data"
        },
        {
          "name": "stderr",
          "output_type": "stream",
          "text": [
            "INFO:evotuning:Random batching done: All sequences padded to max sequence length of 8\n"
          ]
        },
        {
          "data": {
            "application/vnd.jupyter.widget-view+json": {
              "model_id": "61751e2ed4784d5480f9361e2eec5024",
              "version_major": 2,
              "version_minor": 0
            },
            "text/plain": [
              "Iteration:   0%|          | 0/1 [00:00<?, ?it/s]"
            ]
          },
          "metadata": {},
          "output_type": "display_data"
        },
        {
          "name": "stderr",
          "output_type": "stream",
          "text": [
            "INFO:evotuning:Calculations for training set:\n",
            "INFO:evotuning:Epoch 0: Estimated average loss: 0.15366443991661072. \n"
          ]
        },
        {
          "name": "stdout",
          "output_type": "stream",
          "text": [
            "created directory at temp\n"
          ]
        },
        {
          "data": {
            "application/vnd.jupyter.widget-view+json": {
              "model_id": "3b81818d390345cdb7c9ee8765bedb3e",
              "version_major": 2,
              "version_minor": 0
            },
            "text/plain": [
              "  0%|          | 0/4 [00:00<?, ?it/s]"
            ]
          },
          "metadata": {},
          "output_type": "display_data"
        },
        {
          "name": "stderr",
          "output_type": "stream",
          "text": [
            "INFO:evotuning:Split #1\n"
          ]
        },
        {
          "data": {
            "application/vnd.jupyter.widget-view+json": {
              "model_id": "38decf50e39946059e6c816ba1b3fd29",
              "version_major": 2,
              "version_minor": 0
            },
            "text/plain": [
              "right-padding sequences:   0%|          | 0/18 [00:00<?, ?it/s]"
            ]
          },
          "metadata": {},
          "output_type": "display_data"
        },
        {
          "data": {
            "application/vnd.jupyter.widget-view+json": {
              "model_id": "560772a963914e87b26aa58720bd4c62",
              "version_major": 2,
              "version_minor": 0
            },
            "text/plain": [
              "  0%|          | 0/1 [00:00<?, ?it/s]"
            ]
          },
          "metadata": {},
          "output_type": "display_data"
        },
        {
          "name": "stderr",
          "output_type": "stream",
          "text": [
            "INFO:evotuning:Random batching done: All sequences padded to max sequence length of 8\n"
          ]
        },
        {
          "data": {
            "application/vnd.jupyter.widget-view+json": {
              "model_id": "21c9ca4a8d9b4e37a5ba50b067d365cf",
              "version_major": 2,
              "version_minor": 0
            },
            "text/plain": [
              "Iteration:   0%|          | 0/1 [00:00<?, ?it/s]"
            ]
          },
          "metadata": {},
          "output_type": "display_data"
        },
        {
          "name": "stderr",
          "output_type": "stream",
          "text": [
            "INFO:evotuning:Calculations for training set:\n",
            "INFO:evotuning:Epoch 0: Estimated average loss: 0.15366889536380768. \n"
          ]
        },
        {
          "data": {
            "application/vnd.jupyter.widget-view+json": {
              "model_id": "878952743d9548348f3b470e374d8dc7",
              "version_major": 2,
              "version_minor": 0
            },
            "text/plain": [
              "  0%|          | 0/4 [00:00<?, ?it/s]"
            ]
          },
          "metadata": {},
          "output_type": "display_data"
        },
        {
          "name": "stderr",
          "output_type": "stream",
          "text": [
            "\u001b[32m[I 2021-10-14 14:53:16,114]\u001b[0m Trial 0 finished with value: 0.14552806317806244 and parameters: {'n_epochs': 1.0, 'learning_rate': 1.2987031127456044e-05}. Best is trial 0 with value: 0.14552806317806244.\u001b[0m\n",
            "INFO:evotuning:Trying out 1.0 epochs with learning rate 0.00010415012482287577.\n",
            "INFO:evotuning:Split #0\n"
          ]
        },
        {
          "data": {
            "application/vnd.jupyter.widget-view+json": {
              "model_id": "45e9f339089b449db78074417a1dd2a2",
              "version_major": 2,
              "version_minor": 0
            },
            "text/plain": [
              "right-padding sequences:   0%|          | 0/17 [00:00<?, ?it/s]"
            ]
          },
          "metadata": {},
          "output_type": "display_data"
        },
        {
          "data": {
            "application/vnd.jupyter.widget-view+json": {
              "model_id": "8364d5b2c8da48f9854a17f7cd0d9921",
              "version_major": 2,
              "version_minor": 0
            },
            "text/plain": [
              "  0%|          | 0/1 [00:00<?, ?it/s]"
            ]
          },
          "metadata": {},
          "output_type": "display_data"
        },
        {
          "name": "stderr",
          "output_type": "stream",
          "text": [
            "INFO:evotuning:Random batching done: All sequences padded to max sequence length of 8\n"
          ]
        },
        {
          "data": {
            "application/vnd.jupyter.widget-view+json": {
              "model_id": "305269dda16c4ae1adf02870abf15e3e",
              "version_major": 2,
              "version_minor": 0
            },
            "text/plain": [
              "Iteration:   0%|          | 0/1 [00:00<?, ?it/s]"
            ]
          },
          "metadata": {},
          "output_type": "display_data"
        },
        {
          "name": "stderr",
          "output_type": "stream",
          "text": [
            "INFO:evotuning:Calculations for training set:\n",
            "INFO:evotuning:Epoch 0: Estimated average loss: 0.15367752313613892. \n"
          ]
        },
        {
          "data": {
            "application/vnd.jupyter.widget-view+json": {
              "model_id": "54da38b43c434f71bea3165662e30718",
              "version_major": 2,
              "version_minor": 0
            },
            "text/plain": [
              "  0%|          | 0/4 [00:00<?, ?it/s]"
            ]
          },
          "metadata": {},
          "output_type": "display_data"
        },
        {
          "name": "stderr",
          "output_type": "stream",
          "text": [
            "INFO:evotuning:Split #1\n"
          ]
        },
        {
          "data": {
            "application/vnd.jupyter.widget-view+json": {
              "model_id": "997d67894f2449f487f8f6fdd5458134",
              "version_major": 2,
              "version_minor": 0
            },
            "text/plain": [
              "right-padding sequences:   0%|          | 0/18 [00:00<?, ?it/s]"
            ]
          },
          "metadata": {},
          "output_type": "display_data"
        },
        {
          "data": {
            "application/vnd.jupyter.widget-view+json": {
              "model_id": "d5e4454fe558471aa015544537f6181c",
              "version_major": 2,
              "version_minor": 0
            },
            "text/plain": [
              "  0%|          | 0/1 [00:00<?, ?it/s]"
            ]
          },
          "metadata": {},
          "output_type": "display_data"
        },
        {
          "name": "stderr",
          "output_type": "stream",
          "text": [
            "INFO:evotuning:Random batching done: All sequences padded to max sequence length of 8\n"
          ]
        },
        {
          "data": {
            "application/vnd.jupyter.widget-view+json": {
              "model_id": "ce8b45f12dc748c0af51d4d3490713fa",
              "version_major": 2,
              "version_minor": 0
            },
            "text/plain": [
              "Iteration:   0%|          | 0/1 [00:00<?, ?it/s]"
            ]
          },
          "metadata": {},
          "output_type": "display_data"
        },
        {
          "name": "stderr",
          "output_type": "stream",
          "text": [
            "INFO:evotuning:Calculations for training set:\n",
            "INFO:evotuning:Epoch 0: Estimated average loss: 0.15365655720233917. \n"
          ]
        },
        {
          "data": {
            "application/vnd.jupyter.widget-view+json": {
              "model_id": "3edefccd08e94a928eed71f02c9837bf",
              "version_major": 2,
              "version_minor": 0
            },
            "text/plain": [
              "  0%|          | 0/4 [00:00<?, ?it/s]"
            ]
          },
          "metadata": {},
          "output_type": "display_data"
        },
        {
          "name": "stderr",
          "output_type": "stream",
          "text": [
            "\u001b[32m[I 2021-10-14 14:54:59,294]\u001b[0m Trial 1 finished with value: 0.14552950859069824 and parameters: {'n_epochs': 1.0, 'learning_rate': 0.00010415012482287577}. Best is trial 0 with value: 0.14552806317806244.\u001b[0m\n",
            "INFO:evotuning:Optuna done, starting tuning with learning rate=1.2987031127456044e-05, \n"
          ]
        },
        {
          "data": {
            "application/vnd.jupyter.widget-view+json": {
              "model_id": "93a50f3acc7e40e59e9ec355e846a93c",
              "version_major": 2,
              "version_minor": 0
            },
            "text/plain": [
              "right-padding sequences:   0%|          | 0/35 [00:00<?, ?it/s]"
            ]
          },
          "metadata": {},
          "output_type": "display_data"
        },
        {
          "data": {
            "application/vnd.jupyter.widget-view+json": {
              "model_id": "d66c5abb0acd4d7585d1fc83c529bebb",
              "version_major": 2,
              "version_minor": 0
            },
            "text/plain": [
              "right-padding sequences:   0%|          | 0/30 [00:00<?, ?it/s]"
            ]
          },
          "metadata": {},
          "output_type": "display_data"
        },
        {
          "data": {
            "application/vnd.jupyter.widget-view+json": {
              "model_id": "1b1906fbcb194c53b0086c013541193d",
              "version_major": 2,
              "version_minor": 0
            },
            "text/plain": [
              "  0%|          | 0/1 [00:00<?, ?it/s]"
            ]
          },
          "metadata": {},
          "output_type": "display_data"
        },
        {
          "data": {
            "application/vnd.jupyter.widget-view+json": {
              "model_id": "5109c0ea10084cb6be0d78e656b62284",
              "version_major": 2,
              "version_minor": 0
            },
            "text/plain": [
              "  0%|          | 0/1 [00:00<?, ?it/s]"
            ]
          },
          "metadata": {},
          "output_type": "display_data"
        },
        {
          "name": "stderr",
          "output_type": "stream",
          "text": [
            "INFO:evotuning:Random batching done: All sequences padded to max sequence length of 8\n"
          ]
        },
        {
          "data": {
            "application/vnd.jupyter.widget-view+json": {
              "model_id": "bad11b6201b6454d89549f1900fc979c",
              "version_major": 2,
              "version_minor": 0
            },
            "text/plain": [
              "Iteration:   0%|          | 0/1 [00:00<?, ?it/s]"
            ]
          },
          "metadata": {},
          "output_type": "display_data"
        },
        {
          "name": "stderr",
          "output_type": "stream",
          "text": [
            "INFO:evotuning:Calculations for training set:\n",
            "INFO:evotuning:Epoch 0: Estimated average loss: 0.1536792665719986. \n",
            "INFO:evotuning:Calculations for holdout set:\n",
            "INFO:evotuning:Epoch 0: Estimated average loss: 0.15366806089878082. \n"
          ]
        },
        {
          "name": "stdout",
          "output_type": "stream",
          "text": [
            "created directory at evotuning_temp\n",
            "Evotuning done! Find output weights in evotuning_temp\n",
            "   number     value  ... params_n_epochs     state\n",
            "0       0  0.145528  ...             1.0  COMPLETE\n",
            "1       1  0.145530  ...             1.0  COMPLETE\n",
            "\n",
            "[2 rows x 8 columns]\n"
          ]
        }
      ]
    }
  ]
}
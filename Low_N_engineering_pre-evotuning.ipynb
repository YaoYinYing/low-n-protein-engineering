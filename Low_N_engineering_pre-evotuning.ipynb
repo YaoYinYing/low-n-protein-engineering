{
  "nbformat": 4,
  "nbformat_minor": 0,
  "metadata": {
    "colab": {
      "name": "Low-N-engineering-test",
      "provenance": [],
      "collapsed_sections": [],
      "include_colab_link": true
    },
    "kernelspec": {
      "display_name": "Python 3",
      "name": "python3"
    },
    "language_info": {
      "name": "python"
    },
    "widgets": {
      "application/vnd.jupyter.widget-state+json": {
        "e68d85a744754953b0e02c3ae8638fd6": {
          "model_module": "@jupyter-widgets/controls",
          "model_name": "HBoxModel",
          "model_module_version": "1.5.0",
          "state": {
            "_view_name": "HBoxView",
            "_dom_classes": [],
            "_model_name": "HBoxModel",
            "_view_module": "@jupyter-widgets/controls",
            "_model_module_version": "1.5.0",
            "_view_count": null,
            "_view_module_version": "1.5.0",
            "box_style": "",
            "layout": "IPY_MODEL_4e31a18d753f485ea070ff9a6756b9f3",
            "_model_module": "@jupyter-widgets/controls",
            "children": [
              "IPY_MODEL_014c65184324447f8aa413187a08e01a",
              "IPY_MODEL_cd9e71a9e27b4f298f571900de248819",
              "IPY_MODEL_ae78bca02c3d443e9a8158a3d3f0d56d"
            ]
          }
        },
        "4e31a18d753f485ea070ff9a6756b9f3": {
          "model_module": "@jupyter-widgets/base",
          "model_name": "LayoutModel",
          "model_module_version": "1.2.0",
          "state": {
            "_view_name": "LayoutView",
            "grid_template_rows": null,
            "right": null,
            "justify_content": null,
            "_view_module": "@jupyter-widgets/base",
            "overflow": null,
            "_model_module_version": "1.2.0",
            "_view_count": null,
            "flex_flow": null,
            "width": null,
            "min_width": null,
            "border": null,
            "align_items": null,
            "bottom": null,
            "_model_module": "@jupyter-widgets/base",
            "top": null,
            "grid_column": null,
            "overflow_y": null,
            "overflow_x": null,
            "grid_auto_flow": null,
            "grid_area": null,
            "grid_template_columns": null,
            "flex": null,
            "_model_name": "LayoutModel",
            "justify_items": null,
            "grid_row": null,
            "max_height": null,
            "align_content": null,
            "visibility": null,
            "align_self": null,
            "height": null,
            "min_height": null,
            "padding": null,
            "grid_auto_rows": null,
            "grid_gap": null,
            "max_width": null,
            "order": null,
            "_view_module_version": "1.2.0",
            "grid_template_areas": null,
            "object_position": null,
            "object_fit": null,
            "grid_auto_columns": null,
            "margin": null,
            "display": null,
            "left": null
          }
        },
        "014c65184324447f8aa413187a08e01a": {
          "model_module": "@jupyter-widgets/controls",
          "model_name": "HTMLModel",
          "model_module_version": "1.5.0",
          "state": {
            "_view_name": "HTMLView",
            "style": "IPY_MODEL_5b8e86560d234d62bf7c0521bab1418e",
            "_dom_classes": [],
            "description": "",
            "_model_name": "HTMLModel",
            "placeholder": "​",
            "_view_module": "@jupyter-widgets/controls",
            "_model_module_version": "1.5.0",
            "value": "100%",
            "_view_count": null,
            "_view_module_version": "1.5.0",
            "description_tooltip": null,
            "_model_module": "@jupyter-widgets/controls",
            "layout": "IPY_MODEL_a34b819eb5ad4bd58550e81513cc3cda"
          }
        },
        "cd9e71a9e27b4f298f571900de248819": {
          "model_module": "@jupyter-widgets/controls",
          "model_name": "FloatProgressModel",
          "model_module_version": "1.5.0",
          "state": {
            "_view_name": "ProgressView",
            "style": "IPY_MODEL_4c982593cacf4441be070c7ae7889a01",
            "_dom_classes": [],
            "description": "",
            "_model_name": "FloatProgressModel",
            "bar_style": "success",
            "max": 5,
            "_view_module": "@jupyter-widgets/controls",
            "_model_module_version": "1.5.0",
            "value": 5,
            "_view_count": null,
            "_view_module_version": "1.5.0",
            "orientation": "horizontal",
            "min": 0,
            "description_tooltip": null,
            "_model_module": "@jupyter-widgets/controls",
            "layout": "IPY_MODEL_c54a61afa12d4d11b1c7884955ed9a3b"
          }
        },
        "ae78bca02c3d443e9a8158a3d3f0d56d": {
          "model_module": "@jupyter-widgets/controls",
          "model_name": "HTMLModel",
          "model_module_version": "1.5.0",
          "state": {
            "_view_name": "HTMLView",
            "style": "IPY_MODEL_2794584f6134410182f87828c861b8d8",
            "_dom_classes": [],
            "description": "",
            "_model_name": "HTMLModel",
            "placeholder": "​",
            "_view_module": "@jupyter-widgets/controls",
            "_model_module_version": "1.5.0",
            "value": " 5/5 [elapsed: 01:09 remaining: 00:00]",
            "_view_count": null,
            "_view_module_version": "1.5.0",
            "description_tooltip": null,
            "_model_module": "@jupyter-widgets/controls",
            "layout": "IPY_MODEL_c72242495dd54730ae4dfb8d85609783"
          }
        },
        "5b8e86560d234d62bf7c0521bab1418e": {
          "model_module": "@jupyter-widgets/controls",
          "model_name": "DescriptionStyleModel",
          "model_module_version": "1.5.0",
          "state": {
            "_view_name": "StyleView",
            "_model_name": "DescriptionStyleModel",
            "description_width": "",
            "_view_module": "@jupyter-widgets/base",
            "_model_module_version": "1.5.0",
            "_view_count": null,
            "_view_module_version": "1.2.0",
            "_model_module": "@jupyter-widgets/controls"
          }
        },
        "a34b819eb5ad4bd58550e81513cc3cda": {
          "model_module": "@jupyter-widgets/base",
          "model_name": "LayoutModel",
          "model_module_version": "1.2.0",
          "state": {
            "_view_name": "LayoutView",
            "grid_template_rows": null,
            "right": null,
            "justify_content": null,
            "_view_module": "@jupyter-widgets/base",
            "overflow": null,
            "_model_module_version": "1.2.0",
            "_view_count": null,
            "flex_flow": null,
            "width": null,
            "min_width": null,
            "border": null,
            "align_items": null,
            "bottom": null,
            "_model_module": "@jupyter-widgets/base",
            "top": null,
            "grid_column": null,
            "overflow_y": null,
            "overflow_x": null,
            "grid_auto_flow": null,
            "grid_area": null,
            "grid_template_columns": null,
            "flex": null,
            "_model_name": "LayoutModel",
            "justify_items": null,
            "grid_row": null,
            "max_height": null,
            "align_content": null,
            "visibility": null,
            "align_self": null,
            "height": null,
            "min_height": null,
            "padding": null,
            "grid_auto_rows": null,
            "grid_gap": null,
            "max_width": null,
            "order": null,
            "_view_module_version": "1.2.0",
            "grid_template_areas": null,
            "object_position": null,
            "object_fit": null,
            "grid_auto_columns": null,
            "margin": null,
            "display": null,
            "left": null
          }
        },
        "4c982593cacf4441be070c7ae7889a01": {
          "model_module": "@jupyter-widgets/controls",
          "model_name": "ProgressStyleModel",
          "model_module_version": "1.5.0",
          "state": {
            "_view_name": "StyleView",
            "_model_name": "ProgressStyleModel",
            "description_width": "",
            "_view_module": "@jupyter-widgets/base",
            "_model_module_version": "1.5.0",
            "_view_count": null,
            "_view_module_version": "1.2.0",
            "bar_color": null,
            "_model_module": "@jupyter-widgets/controls"
          }
        },
        "c54a61afa12d4d11b1c7884955ed9a3b": {
          "model_module": "@jupyter-widgets/base",
          "model_name": "LayoutModel",
          "model_module_version": "1.2.0",
          "state": {
            "_view_name": "LayoutView",
            "grid_template_rows": null,
            "right": null,
            "justify_content": null,
            "_view_module": "@jupyter-widgets/base",
            "overflow": null,
            "_model_module_version": "1.2.0",
            "_view_count": null,
            "flex_flow": null,
            "width": null,
            "min_width": null,
            "border": null,
            "align_items": null,
            "bottom": null,
            "_model_module": "@jupyter-widgets/base",
            "top": null,
            "grid_column": null,
            "overflow_y": null,
            "overflow_x": null,
            "grid_auto_flow": null,
            "grid_area": null,
            "grid_template_columns": null,
            "flex": null,
            "_model_name": "LayoutModel",
            "justify_items": null,
            "grid_row": null,
            "max_height": null,
            "align_content": null,
            "visibility": null,
            "align_self": null,
            "height": null,
            "min_height": null,
            "padding": null,
            "grid_auto_rows": null,
            "grid_gap": null,
            "max_width": null,
            "order": null,
            "_view_module_version": "1.2.0",
            "grid_template_areas": null,
            "object_position": null,
            "object_fit": null,
            "grid_auto_columns": null,
            "margin": null,
            "display": null,
            "left": null
          }
        },
        "2794584f6134410182f87828c861b8d8": {
          "model_module": "@jupyter-widgets/controls",
          "model_name": "DescriptionStyleModel",
          "model_module_version": "1.5.0",
          "state": {
            "_view_name": "StyleView",
            "_model_name": "DescriptionStyleModel",
            "description_width": "",
            "_view_module": "@jupyter-widgets/base",
            "_model_module_version": "1.5.0",
            "_view_count": null,
            "_view_module_version": "1.2.0",
            "_model_module": "@jupyter-widgets/controls"
          }
        },
        "c72242495dd54730ae4dfb8d85609783": {
          "model_module": "@jupyter-widgets/base",
          "model_name": "LayoutModel",
          "model_module_version": "1.2.0",
          "state": {
            "_view_name": "LayoutView",
            "grid_template_rows": null,
            "right": null,
            "justify_content": null,
            "_view_module": "@jupyter-widgets/base",
            "overflow": null,
            "_model_module_version": "1.2.0",
            "_view_count": null,
            "flex_flow": null,
            "width": null,
            "min_width": null,
            "border": null,
            "align_items": null,
            "bottom": null,
            "_model_module": "@jupyter-widgets/base",
            "top": null,
            "grid_column": null,
            "overflow_y": null,
            "overflow_x": null,
            "grid_auto_flow": null,
            "grid_area": null,
            "grid_template_columns": null,
            "flex": null,
            "_model_name": "LayoutModel",
            "justify_items": null,
            "grid_row": null,
            "max_height": null,
            "align_content": null,
            "visibility": null,
            "align_self": null,
            "height": null,
            "min_height": null,
            "padding": null,
            "grid_auto_rows": null,
            "grid_gap": null,
            "max_width": null,
            "order": null,
            "_view_module_version": "1.2.0",
            "grid_template_areas": null,
            "object_position": null,
            "object_fit": null,
            "grid_auto_columns": null,
            "margin": null,
            "display": null,
            "left": null
          }
        }
      }
    },
    "accelerator": "GPU"
  },
  "cells": [
    {
      "cell_type": "markdown",
      "metadata": {
        "id": "view-in-github",
        "colab_type": "text"
      },
      "source": [
        "<a href=\"https://colab.research.google.com/github/YaoYinYing/low-n-protein-engineering/blob/master/Low_N_engineering_pre-evotuning.ipynb\" target=\"_parent\"><img src=\"https://colab.research.google.com/assets/colab-badge.svg\" alt=\"Open In Colab\"/></a>"
      ]
    },
    {
      "cell_type": "code",
      "metadata": {
        "colab": {
          "base_uri": "https://localhost:8080/"
        },
        "id": "jXw1JyoiMCUT",
        "cellView": "form",
        "outputId": "93fd8f13-c76b-4f85-9dff-6310748c8393"
      },
      "source": [
        "#@title Mount Gdrive\n",
        "from google.colab import drive\n",
        "drive.mount('/gdrive')"
      ],
      "execution_count": null,
      "outputs": [
        {
          "output_type": "stream",
          "name": "stdout",
          "text": [
            "Mounted at /gdrive\n"
          ]
        }
      ]
    },
    {
      "cell_type": "code",
      "metadata": {
        "colab": {
          "base_uri": "https://localhost:8080/",
          "height": 236,
          "referenced_widgets": [
            "e68d85a744754953b0e02c3ae8638fd6",
            "4e31a18d753f485ea070ff9a6756b9f3",
            "014c65184324447f8aa413187a08e01a",
            "cd9e71a9e27b4f298f571900de248819",
            "ae78bca02c3d443e9a8158a3d3f0d56d",
            "5b8e86560d234d62bf7c0521bab1418e",
            "a34b819eb5ad4bd58550e81513cc3cda",
            "4c982593cacf4441be070c7ae7889a01",
            "c54a61afa12d4d11b1c7884955ed9a3b",
            "2794584f6134410182f87828c861b8d8",
            "c72242495dd54730ae4dfb8d85609783"
          ]
        },
        "id": "zGH1AnVJYguR",
        "cellView": "form",
        "outputId": "2e0ca228-9b53-4677-9b56-6cdbef20814b"
      },
      "source": [
        "#@title Install softwares\n",
        "import os\n",
        "import glob\n",
        "import pathlib\n",
        "import sys\n",
        "import time\n",
        "import traceback\n",
        "import pickle\n",
        "import re\n",
        "from IPython.utils import io\n",
        "import subprocess\n",
        "import tqdm.notebook\n",
        "import urllib3\n",
        "import gzip\n",
        "\n",
        "\n",
        "try:\n",
        "  from google.colab import files\n",
        "  IN_COLAB = True\n",
        "except:\n",
        "  IN_COLAB = False\n",
        "\n",
        "TQDM_BAR_FORMAT = '{l_bar}{bar}| {n_fmt}/{total_fmt} [elapsed: {elapsed} remaining: {remaining}]'\n",
        "\n",
        "JAX_UNIREP_REPO='https://github.com/ElArkk/jax-unirep.git'\n",
        "DOWNLOAD_PFAM_SCRIPT='https://raw.githubusercontent.com/xqding/PEVAE_Paper/master/pfam_msa/script/download_MSA.py'\n",
        "ENTREZ_URL='ftp://ftp.ncbi.nlm.nih.gov/entrez/entrezdirect//install-edirect.sh'\n",
        "\n",
        "ROOT_DIR='/gdrive/MyDrive/low-n-data'\n",
        "TMP_DIR = f\"{ROOT_DIR}/tmp\"\n",
        "\n",
        "SCRIPTS_DIR=f'{TMP_DIR}/scripts'\n",
        "FLAG_DIR=f'{TMP_DIR}/flag'\n",
        "WEIGHTS_DIR=f'{TMP_DIR}/weights'\n",
        "\n",
        "JOBS_DIR=f'{ROOT_DIR}/jobs'\n",
        "\n",
        "RES_DIR=f'{ROOT_DIR}/results'\n",
        "RES_DIR_MSA=f\"{RES_DIR}/MSA\"\n",
        "RES_DIR_BLAST=f\"{RES_DIR}/MSA/blast\"\n",
        "RES_DIR_FITNESS=f\"{RES_DIR}/fitness\"\n",
        "RES_DIR_SEQ_OUT=f\"{RES_DIR}/sequence_out\"\n",
        "RES_DIR_PICKLE=f'{RES_DIR}/pickle'\n",
        "RES_DIR_REPORT=f'{RES_DIR}/report'\n",
        "RES_DIR_FEATURE=f'{RES_DIR}/feature'\n",
        "RES_DIR_FIGURE=f'{RES_DIR}/figure'\n",
        "\n",
        "CONDA_PATH='/opt/miniconda'\n",
        "\n",
        "# if not already installed\n",
        "total = 5\n",
        "with tqdm.notebook.tqdm(total=total, bar_format=TQDM_BAR_FORMAT) as pbar:\n",
        "  for dir in [ROOT_DIR,\n",
        "              TMP_DIR,FLAG_DIR,WEIGHTS_DIR,SCRIPTS_DIR,\n",
        "              JOBS_DIR,\n",
        "              RES_DIR,RES_DIR_MSA,RES_DIR_BLAST,RES_DIR_FITNESS,RES_DIR_SEQ_OUT,RES_DIR_PICKLE,RES_DIR_REPORT,RES_DIR_FEATURE,RES_DIR_FIGURE]:\n",
        "    os.makedirs(dir, exist_ok=True)\n",
        "  pbar.update(1)\n",
        "\n",
        "  # jax-unirep\n",
        "  try:\n",
        "    from jax_unirep import evotune\n",
        "  except:\n",
        "    os.system(f'pip install git+{JAX_UNIREP_REPO}')\n",
        "    os.system('pip install biopython')\n",
        "    os.system('pip install awscli')\n",
        "    os.system('pip install optuna')\n",
        "    os.system('pip install seaborn')\n",
        "    os.system('pip install python-Levenshtein')\n",
        "    os.system('apt install expect -y')\n",
        "    os.system(f'wget -qnc {ENTREZ_URL} -P .')\n",
        "  pbar.update(1)\n",
        "\n",
        "\n",
        "  # weights\n",
        "  os.system(f'if [ ! -f {FLAG_DIR}/WEIGHT_READY ]; then cd {WEIGHTS_DIR}; for i in 1900_weights/ 256_weights/ 64_weights/ 1900_weights_random/ 256_weights_random/ 64_weights_random/ evotuned/unirep/ evotuned/random_init/; do echo $i; aws s3 sync --no-sign-request s3://unirep-public/$i $i; done;touch {pathlib.Path(FLAG_DIR).resolve()}/WEIGHT_READY;fi')\n",
        "  pbar.update(1)\n",
        "\n",
        "  !chmod +x ./install-edirect.sh && expect -c 'spawn ./install-edirect.sh; expect { \"[y/N]\" {send \"y\\n\" }}'\n",
        "  pbar.update(1)\n",
        "  \n",
        "\n",
        "  if f\"{pathlib.Path('/root/edirect').resolve()}\" not in os.environ['PATH']:\n",
        "    os.environ['PATH'] += f\":{pathlib.Path('/root/edirect').resolve()}\"\n",
        "  pbar.update(1)\n",
        "\n",
        "\n"
      ],
      "execution_count": null,
      "outputs": [
        {
          "output_type": "display_data",
          "data": {
            "application/vnd.jupyter.widget-view+json": {
              "model_id": "e68d85a744754953b0e02c3ae8638fd6",
              "version_minor": 0,
              "version_major": 2
            },
            "text/plain": [
              "  0%|          | 0/5 [elapsed: 00:00 remaining: ?]"
            ]
          },
          "metadata": {}
        },
        {
          "output_type": "stream",
          "name": "stdout",
          "text": [
            "spawn ./install-edirect.sh\n",
            "\n",
            "Entrez Direct has been successfully downloaded and installed.\n",
            "\n",
            "In order to complete the configuration process, please execute the following:\n",
            "\n",
            "  echo \"export PATH=\\${PATH}:\" >> $HOME/.bashrc\n",
            "\n",
            "or manually edit the PATH variable assignment in your .bashrc file.\n",
            "\n",
            "Would you like to do that automatically now? [y/N]\n"
          ]
        }
      ]
    },
    {
      "cell_type": "code",
      "metadata": {
        "cellView": "form",
        "id": "Bv-BY4QfkHwq"
      },
      "source": [
        "#@title Goto GPU part if all data were collected."
      ],
      "execution_count": null,
      "outputs": []
    },
    {
      "cell_type": "code",
      "metadata": {
        "id": "Flien3L2inz2",
        "cellView": "form"
      },
      "source": [
        "#@title PFam sucked when fetching full sequence archive. \n",
        "'''\n",
        "def download_pfam(pfam_id):\n",
        "  \n",
        "  #https://github.com/xqding/PEVAE_Paper/blob/master/pfam_msa/script/download_MSA.py\n",
        "  \n",
        "  print(f\"Downloading the full multiple sequence alignment for Pfam: {pfam_id} ......\")\n",
        "  http = urllib3.PoolManager()\n",
        "  r = http.request('GET', f'http://pfam.xfam.org/family/{pfam_id}/alignment/long/gzipped')\n",
        "  data = gzip.decompress(r.data)\n",
        "  data = data.decode()\n",
        "\n",
        "  with open(f\"{RES_DIR_MSA}/{pfam_id}_full.fasta\", 'w') as file_handle:\n",
        "    file_handle.write(data)\n",
        "    \n",
        "  print(f\"MSA_downloaded: {pfam_id}\")\n",
        "\n",
        "\n",
        "pfam_id='PF00067'\n",
        "download_pfam(pfam_id)\n",
        "os.system(f'cd {RES_DIR_MSA};tar jcvf {pfam_id}.stockholm.tar.bz2 {pfam_id}_full.txt' )\n",
        "'''"
      ],
      "execution_count": null,
      "outputs": []
    },
    {
      "cell_type": "code",
      "metadata": {
        "id": "D8oQMq2D8Er4",
        "cellView": "form"
      },
      "source": [
        "#@title Function: Fetch InterPro data in full sequence fasta\n",
        "# standard library modules\n",
        "import json, ssl\n",
        "from urllib import request\n",
        "from urllib.error import HTTPError\n",
        "from time import sleep\n",
        "\n",
        "def download_interpro(interpro_id):\n",
        "    BASE_URL = f\"https://www.ebi.ac.uk:443/interpro/api/protein/UniProt/entry/InterPro/{interpro_id}/?page_size=200&extra_fields=sequence\"\n",
        "    \n",
        "    HEADER_SEPARATOR = \"|\"\n",
        "    LINE_LENGTH = 80\n",
        "\n",
        "    with open(f'{RES_DIR_MSA}/{interpro_id}.fasta', 'w') as fasta_file_handle:\n",
        "        # disable SSL verification to avoid config issues\n",
        "        context = ssl._create_unverified_context()\n",
        "        \n",
        "        next = BASE_URL\n",
        "        last_page = False\n",
        "        \n",
        "        attempts = 0\n",
        "        while next:\n",
        "            try:\n",
        "                req = request.Request(next, headers={\"Accept\": \"application/json\"})\n",
        "                res = request.urlopen(req, context=context)\n",
        "                # If the API times out due a long running query\n",
        "                if res.status == 408:\n",
        "                    # wait just over a minute\n",
        "                    print(f'wasting life for res.status: {res.status}')\n",
        "                    sleep(7)\n",
        "                    # then continue this loop with the same URL\n",
        "                    continue\n",
        "                elif res.status == 204:\n",
        "                    # no data so leave loop\n",
        "                    break\n",
        "                payload = json.loads(res.read().decode())\n",
        "                next = payload[\"next\"]\n",
        "                attempts = 0\n",
        "                if not next:\n",
        "                    last_page = True\n",
        "            except HTTPError as e:\n",
        "                if e.code == 408:\n",
        "                    print(f'wasting life for e.code: {e.code}')\n",
        "                    sleep(31)\n",
        "                    continue\n",
        "                else:\n",
        "                    # If there is a different HTTP error, it wil re-try 3 times before failing\n",
        "                    if attempts < 3000:\n",
        "                        attempts += 1\n",
        "                        print(f'wasting life for attempts: {attempts}')\n",
        "                        sleep(13)\n",
        "                        continue\n",
        "                    else:\n",
        "                        print(\"LAST URL: \" + next)\n",
        "                        raise e\n",
        "\n",
        "            for i, item in enumerate(payload[\"results\"]):\n",
        "                \n",
        "                if (\"entries\" in item):\n",
        "                    for entry in item[\"entries\"]:\n",
        "                        for locations in entry[\"entry_protein_locations\"]:\n",
        "                            for fragment in locations[\"fragments\"]:\n",
        "                                start = fragment[\"start\"]\n",
        "                                end = fragment[\"end\"]\n",
        "                                fasta_file_handle.write(\">\" + item[\"metadata\"][\"accession\"] + HEADER_SEPARATOR\n",
        "                                                        + entry[\"accession\"] + HEADER_SEPARATOR\n",
        "                                                        + str(start) + \"...\" + str(end) + HEADER_SEPARATOR\n",
        "                                                        + item[\"metadata\"][\"name\"] + \"\\n\")\n",
        "                                seq = item[\"extra_fields\"][\"sequence\"]\n",
        "                                fastaSeqFragments = [seq[0 + i:LINE_LENGTH + i] for i in range(0, len(seq), LINE_LENGTH)]\n",
        "                                for fastaSeqFragment in fastaSeqFragments:\n",
        "                                    fasta_file_handle.write(fastaSeqFragment + \"\\n\")\n",
        "                else:\n",
        "                    fasta_file_handle.write(\n",
        "                        \">\" + item[\"metadata\"][\"accession\"] + HEADER_SEPARATOR + item[\"metadata\"][\"name\"] + \"\\n\")\n",
        "                    seq = item[\"extra_fields\"][\"sequence\"]\n",
        "                    fastaSeqFragments = [seq[0 + i:LINE_LENGTH + i] for i in range(0, len(seq), LINE_LENGTH)]\n",
        "                    for fastaSeqFragment in fastaSeqFragments:\n",
        "                        fasta_file_handle.write(fastaSeqFragment + \"\\n\")\n",
        "\n",
        "                # Don't overload the server, give it time before asking for more\n",
        "            if next:\n",
        "                sleep(2)\n"
      ],
      "execution_count": null,
      "outputs": []
    },
    {
      "cell_type": "code",
      "metadata": {
        "id": "_7FTtzRshGk8",
        "cellView": "form"
      },
      "source": [
        "#@title Download sequences from InterPro (skip this part! Upload fasta file instead)\n",
        "# download your sequences anywhere else! Its a timekiller!\n",
        "\n",
        "download_interpro(\"IPR001128\") \n",
        "\n",
        "'''\n",
        "for i in [\n",
        "          'IPR017972',\n",
        "          'IPR002403',\n",
        "          #'IPR001128', skipped\n",
        "          'IPR036396']:\n",
        "  download_interpro(i)\n",
        "'''"
      ],
      "execution_count": null,
      "outputs": []
    },
    {
      "cell_type": "code",
      "metadata": {
        "id": "-x6FFAJAoNt3"
      },
      "source": [
        "\n",
        "target_fasta = f'{JOBS_DIR}/890.fasta'\n",
        "target_fasta=pathlib.Path(target_fasta).resolve()\n",
        "job_name=target_fasta.name"
      ],
      "execution_count": null,
      "outputs": []
    },
    {
      "cell_type": "code",
      "metadata": {
        "cellView": "form",
        "id": "U2-EL6nTQUBu"
      },
      "source": [
        "#@title Function: Run BLAST for homologs searching\n",
        "from Bio.Blast import NCBIWWW\n",
        "from Bio import SeqIO\n",
        "from Bio.Blast import NCBIXML\n",
        "from Bio import Entrez\n",
        "\n",
        "def low_n_blast(input_fasta):\n",
        "  input_fasta=pathlib.Path(input_fasta).resolve()\n",
        "  record = SeqIO.read(input_fasta, format=str(input_fasta.suffix).replace(\".\",\"\"))\n",
        "\n",
        "  # blast configs\n",
        "  jobname=input_fasta.name\n",
        "  blast_program=  [\"blastp\"]*3\n",
        "  dbs=            ['swissprot','refseq_protein','nr']\n",
        "  max_hit_num=    [50000]*3\n",
        "  print(f'Doing online BLAST for {jobname}')\n",
        "  for p,db,h in zip(blast_program,dbs,max_hit_num):\n",
        "    \n",
        "    print(\"-\"*45)\n",
        "    print(f'program:      {p}')\n",
        "    print(f'db:           {db}')\n",
        "    print(f'max_hit_num:  {h}')\n",
        "    result_handle = NCBIWWW.qblast(p, db, record.seq,hitlist_size=h)\n",
        "    with open(f\"{RES_DIR_REPORT}/blast_{jobname}_program-{p}_db-{db}_hitnum-{h}.xml\", \"w\") as out_handle:\n",
        "      out_handle.write(result_handle.read())\n",
        "    result_handle.close()\n",
        "    print(\"-\"*45)\n",
        "  print(f'Online BLAST searching: Done.)"
      ],
      "execution_count": null,
      "outputs": []
    },
    {
      "cell_type": "code",
      "metadata": {
        "cellView": "form",
        "id": "sS6_wM12R7eg"
      },
      "source": [
        "#@title Function: Read accessions from BLAST result\n",
        "import glob\n",
        "import re\n",
        "import xml.etree.ElementTree as ET\n",
        "\n",
        "def get_blast_accession():\n",
        "  blast_reports=glob.glob(f'{RES_DIR_REPORT}/blast_*.xml')\n",
        "  #blast_reports=glob.glob(f'*.xml')\n",
        "  acs=[]\n",
        "  for report in blast_reports:\n",
        "    #print(f'Reading {report} ... ')\n",
        "    report_=pathlib.Path(report).resolve()\n",
        "\n",
        "    with open(report_) as result_handle:\n",
        "      res_=result_handle.read()\n",
        "      #db=re.findall(r'<BlastOutput_db>([\\w]+)</BlastOutput_db>',res_)[0]\n",
        "      acs_=re.findall(r'<Hit_accession>([\\w]+)</Hit_accession>',res_)\n",
        "      print(f'Find {len(acs_)} in {report} . ')\n",
        "    acs +=acs_\n",
        "  acs=list(set(acs))\n",
        "  print(f\"Total number of accession fetched: {len(acs)}\")\n",
        "  return acs"
      ],
      "execution_count": null,
      "outputs": []
    },
    {
      "cell_type": "code",
      "metadata": {
        "id": "AZkvCWcUTwWM",
        "cellView": "form"
      },
      "source": [
        "#@title Function: Download sequences from NCBI\n",
        "import os\n",
        "from Bio import SeqIO\n",
        "from Bio import Entrez\n",
        "import traceback\n",
        "from time import sleep\n",
        "import random\n",
        "\n",
        "Entrez.email = email  # Always tell NCBI who you are\n",
        "def get_ncbi_seq( accession):\n",
        "  filename = f\"{RES_DIR_BLAST}/{accession}.fasta\"\n",
        "  is_downloaded=False\n",
        "  retry_count=6\n",
        "  while not is_downloaded:\n",
        "    try:\n",
        "      if not os.path.isfile(filename):\n",
        "        retry_count -=1\n",
        "        # Downloading...\n",
        "        sleep(random.randint(1,3))\n",
        "        net_handle = Entrez.efetch(\n",
        "              db='protein', id=accession, rettype=\"fasta\", retmode=\"text\"\n",
        "          )\n",
        "        out_handle = open(filename, \"w\")\n",
        "        out_handle.write(net_handle.read())\n",
        "        out_handle.close()\n",
        "        net_handle.close()\n",
        "        sleep(random.randint(1,2))\n",
        "      else:\n",
        "        #downloaded already\n",
        "        return None\n",
        "      is_downloaded=True\n",
        "    except Exception as e:\n",
        "      print(f'{accession}: {e}')\n",
        "      if \"Bad Request\" in str(e):\n",
        "        # no result, stop the thread.\n",
        "        return None\n",
        "      elif \"Too Many Requests\" in str(e):\n",
        "        # have a rest and take another try!\n",
        "        sleep(random.randint(1,3))\n",
        "    finally:\n",
        "      if retry_count ==0:\n",
        "        # max retry reached, abored.\n",
        "        print(f'max retry reached: {accession}')\n",
        "        return None \n",
        "      sleep(.001)\n",
        "      \n",
        "def minibatches(inputs_data, batch_size):\n",
        "    # fix data losing with minibatches\n",
        "    for start_idx in range(0, len(inputs_data) - batch_size + batch_size, batch_size):\n",
        "        if len(inputs_data[start_idx:])>batch_size:\n",
        "            excerpt = slice(start_idx, start_idx + batch_size)\n",
        "            #print(\"yielding data len: %s\" % len(inputs_data[excerpt]))\n",
        "            yield inputs_data[excerpt]\n",
        "        else:\n",
        "            #print(\"yielding final data len: %s\" % len(inputs_data[start_idx:]))\n",
        "            yield inputs_data[start_idx:]\n",
        "\n",
        "def save_acs_list(acs,size=1000):\n",
        "  count=0\n",
        "  for sub_batch_acs in minibatches(acs, size):\n",
        "    with open(f'{RES_DIR_REPORT}/blast-accessions-{count}-{len(sub_batch_acs)}.txt','w') as accession_list_handle:\n",
        "      accession_list_handle.write('\\n'.join(sub_batch_acs))\n",
        "      count+=1"
      ],
      "execution_count": null,
      "outputs": []
    },
    {
      "cell_type": "code",
      "metadata": {
        "colab": {
          "base_uri": "https://localhost:8080/"
        },
        "id": "NC73xUl1lEgg",
        "cellView": "form",
        "outputId": "d7059d25-cdd7-490b-b869-d58659ffef38"
      },
      "source": [
        "#@title Do BLAST seaching against non-redundant protein sequence database.\n",
        "#@markdown This is still a Timekiller! That's why we need Gdrive to save everything!\n",
        "\n",
        "\n",
        "#@markdown **DOWNLOAD W/ CPU SESSION ONLY!**\n",
        "low_n_blast(target_fasta)"
      ],
      "execution_count": null,
      "outputs": [
        {
          "output_type": "stream",
          "name": "stdout",
          "text": [
            "Doing online BLAST for 890.fasta\n",
            "---------------------------------------------\n",
            "program:      blastp\n",
            "db:           swissprot\n",
            "max_hit_num:  50000\n",
            "---------------------------------------------\n",
            "Doing online BLAST for 890.fasta\n",
            "---------------------------------------------\n",
            "program:      blastp\n",
            "db:           refseq_protein\n",
            "max_hit_num:  50000\n",
            "---------------------------------------------\n",
            "Doing online BLAST for 890.fasta\n",
            "---------------------------------------------\n",
            "program:      blastp\n",
            "db:           nr\n",
            "max_hit_num:  50000\n",
            "---------------------------------------------\n"
          ]
        }
      ]
    },
    {
      "cell_type": "code",
      "metadata": {
        "id": "uwAWyeeOzo7M",
        "cellView": "form"
      },
      "source": [
        "#@title Fetching Sequences in BLAST results\n",
        "\n",
        "#@markdown **DOWNLOAD W/ CPU SESSION ONLY!**\n",
        "acs=get_blast_accession()\n",
        "email=\"yaoyy.hi@gmail.com\"\n",
        "from concurrent.futures import ThreadPoolExecutor\n",
        "import time\n",
        "executor = ThreadPoolExecutor(max_workers=5)\n",
        "with tqdm.notebook.tqdm(total=len(acs), bar_format=TQDM_BAR_FORMAT) as pbar:\n",
        "  for result in executor.map(get_ncbi_seq, acs):\n",
        "    pbar.update(1)\n",
        "\n",
        "os.system(f'cat {RES_DIR_BLAST}/*.fasta > ../blast-homologs_{job_name}.fasta')\n"
      ],
      "execution_count": null,
      "outputs": []
    },
    {
      "cell_type": "code",
      "metadata": {
        "cellView": "form",
        "id": "iSHgQff0weSF"
      },
      "source": [
        "#@title Archive BLAST results xml and download a backup\n",
        "os.system(f'cd {RES_DIR_REPORT};tar jvcf blast-res_{job_name}_.tar.bz2 blast_*.xml; mv blast-res_{job_name}_.tar.bz2 ../../')\n",
        "\n",
        "from google.colab import files\n",
        "files.download(f'blast-res_{job_name}_.tar.bz2')"
      ],
      "execution_count": null,
      "outputs": []
    },
    {
      "cell_type": "code",
      "metadata": {
        "cellView": "form",
        "id": "F1VMSGvmOo_l"
      },
      "source": [
        "#@title Skip this shit\n",
        "accession_excluded=[x for x in open(f'{RES_DIR_REPORT}/blast-exclusive_id.txt','r').read().split('\\n')]\n",
        "save_acs_list([x for x in acs if x not in accession_excluded],size=100)"
      ],
      "execution_count": null,
      "outputs": []
    },
    {
      "cell_type": "code",
      "metadata": {
        "id": "_idPXEOcdTIs"
      },
      "source": [
        "os.system(f'tar xjcv MSAs_{job_name}_blast.tar.bz2 {RES_DIR_MSA} --exclude IPR001128.fasta')\n",
        "files.download(f'MSAs_{job_name}_blast.tar.bz2')\n"
      ],
      "execution_count": null,
      "outputs": []
    },
    {
      "cell_type": "code",
      "metadata": {
        "id": "96UHYFU3R-sy",
        "cellView": "form"
      },
      "source": [
        "#@title Sequence Mutator\n",
        "\n",
        "\n",
        "def generate_mutant(wt_fasta,mutations,sep=''):\n",
        "\n",
        "  def mutate(sequence, mutations, list_or_string='string'):\n",
        "  # WTF? Why not Mutable sequence?\n",
        "    if (list_or_string == 'string'):\n",
        "        mutations = mutations.split(sep)\n",
        "    mut_sequence = list(sequence)\n",
        "    for mut in mutations:\n",
        "        curr_res = mut[0]\n",
        "        mut_res = mut[-1]\n",
        "        mut_pos = mut[1:-1]\n",
        "        mut_sequence[int(mut_pos)-1] = mut_res\n",
        "    return ''.join(mut_sequence)\n",
        "    \n",
        "  print( str(type(mutations)))\n",
        "  if str(type(mutations))==\"<class 'list'>\":\n",
        "    mutations_string='-'.join(mutations)\n",
        "    mutations_list=mutations\n",
        "  elif str(type(mutations))==\"<class 'str'>\":\n",
        "    mutations_string=mutations\n",
        "    mutations_list=mutations.split(sep)\n",
        "  else:\n",
        "    raise TypeError(f'type(mutations)={ str(type(mutations))}')\n",
        "  print(mutations_list)\n",
        "  in_path=pathlib.Path(wt_fasta).resolve()\n",
        "  out_path=pathlib.Path(f'{in_path.stem}_{mutations_string}.{in_path.suffix}')\n",
        "  fasta_seqs = SeqIO.parse(open(in_path),'fasta')\n",
        "  out_file = open(out_path, \"w\")\n",
        "  for fasta in fasta_seqs:\n",
        "    name, sequence = fasta.id, str(fasta.seq)\n",
        "    out_file.write('>' + mutations_string + '_' + name + '\\n')\n",
        "    mut_seq = mutate(sequence,mutations_string, 'string')\n",
        "    out_file.write(mut_seq)\n",
        "\n",
        "  out_file.close()"
      ],
      "execution_count": null,
      "outputs": []
    },
    {
      "cell_type": "code",
      "metadata": {
        "id": "Q3HA8Cg7rIaQ"
      },
      "source": [
        "generate_mutant(\"./890.fasta\",\"I46L_L109F_F113L_E286A_C343Y\",sep='_')"
      ],
      "execution_count": null,
      "outputs": []
    },
    {
      "cell_type": "code",
      "metadata": {
        "id": "6mr4k4TgvQqF",
        "cellView": "form"
      },
      "source": [
        "#@title GPU PART!\n",
        "'''\n",
        "! cp -r /gdrive/MyDrive/low-n-data/* .\n",
        "\n",
        "\n",
        "ROOT_DIR='.'\n",
        "TMP_DIR = f\"{ROOT_DIR}/tmp\"\n",
        "\n",
        "SCRIPTS_DIR=f'{TMP_DIR}/scripts'\n",
        "FLAG_DIR=f'{TMP_DIR}/flag'\n",
        "WEIGHTS_DIR=f'{TMP_DIR}/weights'\n",
        "\n",
        "JOBS_DIR=f'{ROOT_DIR}/jobs'\n",
        "\n",
        "RES_DIR=f'{ROOT_DIR}/results'\n",
        "RES_DIR_MSA=f\"{RES_DIR}/MSA\"\n",
        "RES_DIR_FITNESS=f\"{RES_DIR}/fitness\"\n",
        "RES_DIR_SEQ_OUT=f\"{RES_DIR}/sequence_out\"\n",
        "RES_DIR_PICKLE=f'{RES_DIR}/pickle'\n",
        "RES_DIR_REPORT=f'{RES_DIR}/report'\n",
        "RES_DIR_FEATURE=f'{RES_DIR}/feature'\n",
        "RES_DIR_FIGURE=f'{RES_DIR}/figure'\n",
        "'''\n",
        "\n",
        "target_fasta = f'{JOBS_DIR}/890.fasta'\n",
        "target_fasta=pathlib.Path(target_fasta).resolve()\n",
        "job_name=target_fasta.name\n"
      ],
      "execution_count": null,
      "outputs": []
    },
    {
      "cell_type": "code",
      "metadata": {
        "id": "t4Xy-4mxuF1n",
        "colab": {
          "base_uri": "https://localhost:8080/"
        },
        "outputId": "db58b2c5-8cb4-4c35-db66-66318852f563"
      },
      "source": [
        "#@title Fetching P450 data(210 MB for InterPro ?Did we fetch all the data?)\n",
        "\n",
        "P450_FASTA_URL=\"https://raw.githubusercontent.com/YaoYinYing/low-n-protein-engineering/eb41191248895405aa47da6e70458d529fbe836a/data/IPR001128.fasta.tar.bz2\"\n",
        "os.system(f'wget -qnc {P450_FASTA_URL} -P {RES_DIR_MSA}')\n",
        "os.system(f'cd {RES_DIR_MSA}; tar xjvf IPR001128.fasta.tar.bz2; mv IPR001128.fasta.tar.bz2 ..')\n",
        "\n",
        "\n",
        "P450_TARGET_URL='https://raw.githubusercontent.com/YaoYinYing/low-n-protein-engineering/eb41191248895405aa47da6e70458d529fbe836a/data/890.fasta'\n",
        "os.system(f'wget -qnc {P450_TARGET_URL} -P {JOBS_DIR}')\n",
        "\n",
        "P450_BLAST_RES_URL='https://github.com/YaoYinYing/low-n-protein-engineering/raw/master/data/blast_res_890.fasta.tar.bz2'\n",
        "os.system(f'wget -qnc {P450_BLAST_RES_URL} -P {RES_DIR_MSA} && cd {RES_DIR_MSA} &&  tar xvjf blast_res_890.fasta.tar.bz2')\n",
        "\n",
        "\n",
        "P450_EXPERI_DATA_URL='https://github.com/YaoYinYing/low-n-protein-engineering/raw/master/data/P450_experi_data_encoded.csv'\n",
        "os.system(f'wget -qnc {P450_EXPERI_DATA_URL} -P {RES_DIR_FITNESS}' )"
      ],
      "execution_count": null,
      "outputs": [
        {
          "output_type": "execute_result",
          "data": {
            "text/plain": [
              "0"
            ]
          },
          "metadata": {},
          "execution_count": 4
        }
      ]
    },
    {
      "cell_type": "code",
      "metadata": {
        "id": "u_McY7bpvEc1",
        "cellView": "form"
      },
      "source": [
        "#@title Generate Inputs for Evotuning eUniRep for P450 family\n",
        "# https://github.com/ivanjayapurna/low-n-protein-engineering/blob/master/pre-evotuning/generate_evotune_inputs_2MS2.ipynb\n",
        "\n",
        "from Bio import SeqIO\n",
        "import pandas as pd\n",
        "import re\n",
        "from Levenshtein import distance\n",
        "import numpy as np\n",
        "import matplotlib.pyplot as plt\n",
        "\n",
        "\n",
        " # Functions:\n",
        "\n",
        "# read FASTA file:\n",
        "# input: file name\n",
        "# output: names and sequences in the file as an array of dim-2 arrays [name, sequence].\n",
        "def read_fasta(name):\n",
        "    # Yinying edited here bcs pfam provides stockholm formated file. \n",
        "    # PFam use stockholm while InterPro use fasta\n",
        "    \n",
        "    fasta_seqs = SeqIO.parse(open( name ), name.suffix.replace(\".\",''))\n",
        "    data = []\n",
        "    for fasta in fasta_seqs:\n",
        "        data.append([fasta.id, str(fasta.seq).strip()])\n",
        "    return data\n",
        "\n",
        "\n",
        "# write FASTA file:\n",
        "# input: file name; df to write\n",
        "def write_fasta(name, seqs_df):\n",
        "    out_file = open(f'{RES_DIR_SEQ_OUT}/{name}_out.fasta', \"w\")\n",
        "    for i in range(len(seqs_df)):\n",
        "        out_file.write('>' + seqs_df.name[i] + '\\n')\n",
        "        out_file.write(seqs_df.sequence[i] + '\\n')\n",
        "    out_file.close()\n",
        "\n",
        "\n",
        "# input: takes in a sequence\n",
        "# output: True if a sequence contains only standard amino acids, returns False if contains non-standard ones.\n",
        "def validate(seq, pattern=re.compile(r'^[FIWLVMYCATHGSQRKNEPD]+$')):\n",
        "    if (pattern.match(seq)):\n",
        "        return True\n",
        "    return False\n",
        "\n",
        "    \n",
        "# Remove sequences longer than k residues and with non-standard residues\n",
        "# inputs: seqs_df = dataframe of name, sequence; k = max lenght of residues to keep\n",
        "# output: cleaned dataframe\n",
        "def clean(seqs_df, k):\n",
        "    # remove sequences with length > 1000 AA's\n",
        "    rows2drop = []\n",
        "    for i in range(len(seqs_df)):\n",
        "        if (len(seqs_df.sequence[i]) > k):\n",
        "            rows2drop.append(i)\n",
        "\n",
        "    print('Total number of sequences dropped due to length >', k, ':', len(rows2drop))\n",
        "\n",
        "    seqs_df = seqs_df.drop(rows2drop).reset_index().drop('index', axis=1)\n",
        "\n",
        "    print('Total number of sequences remaining:', len(seqs_df))\n",
        "    \n",
        "    # remove sequences with invalid AA residues\n",
        "    # valid_alphabet = ['F','I','W','L','V','M','Y','C','A','T','H','G','S','Q','R','K','N','E','P','D']\n",
        "    invalid_seqs = []\n",
        "\n",
        "    for i in range(len(seqs_df)):\n",
        "        if (not validate(seqs_df.sequence[i])):\n",
        "            invalid_seqs.append(i)\n",
        "\n",
        "    print('Total number of invalid sequences dropped:', len(invalid_seqs))\n",
        "\n",
        "    seqs_df = seqs_df.drop(invalid_seqs).reset_index().drop('index', axis=1)\n",
        "\n",
        "    print('Total number of valid sequences remaining:', len(seqs_df))\n",
        "    \n",
        "    \n",
        "    seqs_df = seqs_df.drop_duplicates(subset='sequence').reset_index().drop('index', axis=1)\n",
        "\n",
        "    print('Total sequences remaining after duplicate removal', len(seqs_df))\n",
        "\n",
        "    \n",
        "    return seqs_df\n",
        "\n",
        "\n",
        "# calculate the Levenstein distance of mulitple sequences to a target sequence\n",
        "# also plots a histogram of distances\n",
        "# inputs: t_seq = target sequence; seqs_df = dataframe of sequences;\n",
        "# num_bins = bins for histogram; hist_range = range for histogram\n",
        "# outputs: numpy array of distances\n",
        "def lev_dist(t_seq, seqs_df, num_bins=20, hist_range=(0,350)):\n",
        "    distances = []\n",
        "    for i in range(len(seqs_df)):\n",
        "        distances.append(distance(t_seq, seqs_df.sequence[i]))\n",
        "    distances = np.array(distances)\n",
        "\n",
        "    mean_dist = np.mean(distances)\n",
        "    median_dist = np.median(distances)\n",
        "    min_dist = np.min(distances)\n",
        "    max_dist = np.max(distances)\n",
        "    \n",
        "    print(\"Mean Levenstein distance:\", mean_dist)\n",
        "    print(\"Median Levenstein distance:\", mean_dist)\n",
        "    print(\"Min Levenstein distance:\", min_dist)\n",
        "    print(\"Max Levenstein distance:\", max_dist)\n",
        "\n",
        "    \n",
        "    # histogram of Levenstein distances from target sequence\n",
        "    plt.clf()\n",
        "    plt.hist(distances, bins=num_bins, range=hist_range)\n",
        "    plt.show()\n",
        "    \n",
        "    return distances\n",
        "\n",
        "\n",
        "\n",
        "\"\"\"\n",
        "File formatting note.\n",
        "Data should be preprocessed as a sequence of comma-seperated ints with\n",
        "sequences  /n seperated\n",
        "\"\"\"\n",
        "\n",
        "# Lookup tables\n",
        "aa_to_int = {\n",
        "    'M':1,\n",
        "    'R':2,\n",
        "    'H':3,\n",
        "    'K':4,\n",
        "    'D':5,\n",
        "    'E':6,\n",
        "    'S':7,\n",
        "    'T':8,\n",
        "    'N':9,\n",
        "    'Q':10,\n",
        "    'C':11,\n",
        "    'U':12,\n",
        "    'G':13,\n",
        "    'P':14,\n",
        "    'A':15,\n",
        "    'V':16,\n",
        "    'I':17,\n",
        "    'F':18,\n",
        "    'Y':19,\n",
        "    'W':20,\n",
        "    'L':21,\n",
        "    'O':22, #Pyrrolysine\n",
        "    'X':23, # Unknown\n",
        "    'Z':23, # Glutamic acid or GLutamine\n",
        "    'B':23, # Asparagine or aspartic acid\n",
        "    'J':23, # Leucine or isoleucine\n",
        "    'start':24,\n",
        "    'stop':25,\n",
        "}\n",
        "\n",
        "int_to_aa = {value:key for key, value in aa_to_int.items()}\n",
        "\n",
        "def get_aa_to_int():\n",
        "    \"\"\"\n",
        "    Get the lookup table (for easy import)\n",
        "    \"\"\"\n",
        "    return aa_to_int\n",
        "\n",
        "def get_int_to_aa():\n",
        "    \"\"\"\n",
        "    Get the lookup table (for easy import)\n",
        "    \"\"\"\n",
        "    return int_to_aa\n",
        "    \n",
        "def aa_seq_to_int(s):\n",
        "    \"\"\"\n",
        "    Return the int sequence as a list for a given string of amino acids\n",
        "    \"\"\"\n",
        "    return [24] + [aa_to_int[a] for a in s] + [25]\n",
        "\n",
        "def int_seq_to_aa(s):\n",
        "    \"\"\"\n",
        "    Return the int sequence as a list for a given string of amino acids\n",
        "    \"\"\"\n",
        "    return \"\".join([int_to_aa[i] for i in s])\n",
        "\n",
        "    \n",
        "def format_seq(seq,stop=False):\n",
        "    \"\"\"\n",
        "    Takes an amino acid sequence, returns a list of integers in the codex of the babbler.\n",
        "    Here, the default is to strip the stop symbol (stop=False) which would have \n",
        "    otherwise been added to the end of the sequence. If you are trying to generate\n",
        "    a rep, do not include the stop. It is probably best to ignore the stop if you are\n",
        "    co-tuning the babbler and a top model as well.\n",
        "    \"\"\"\n",
        "    if stop:\n",
        "        int_seq = aa_seq_to_int(seq.strip())\n",
        "    else:\n",
        "        int_seq = aa_seq_to_int(seq.strip())[:-1]\n",
        "    return int_seq\n",
        "\n",
        "def is_valid_seq(seq, max_len=2000):\n",
        "    \"\"\"\n",
        "    True if seq is valid for the babbler, False otherwise.\n",
        "    \"\"\"\n",
        "    l = len(seq)\n",
        "    valid_aas = \"MRHKDESTNQCUGPAVIFYWLO\"\n",
        "    if (l < max_len) and set(seq) <= set(valid_aas):\n",
        "        return True\n",
        "    else:\n",
        "        return False\n",
        "\n",
        "def fasta_to_input(in_path):\n",
        "    source = SeqIO.parse(in_path + '.fasta.txt','fasta')\n",
        "    with open(in_path + \"_formatted.fasta.txt\", \"w\") as destination:\n",
        "        for seq in fasta_seqs:\n",
        "            seq = seq.strip()\n",
        "            if is_valid_seq(seq) and len(seq) < 275: \n",
        "                formatted = \",\".join(map(str,format_seq(seq)))\n",
        "                destination.write(formatted)\n",
        "                destination.write('\\n')\n",
        "\n",
        "def seqs_to_input(name, in_seqs, stop=False):\n",
        "    with open('outputs/' + name + \"_formatted.fasta.txt\", \"w\") as destination:\n",
        "        for seq in in_seqs:\n",
        "            seq = seq.strip()\n",
        "            if is_valid_seq(seq): \n",
        "                formatted = \",\".join(map(str,format_seq(seq, stop=stop)))\n",
        "                destination.write(formatted)\n",
        "                destination.write('\\n')"
      ],
      "execution_count": null,
      "outputs": []
    },
    {
      "cell_type": "code",
      "metadata": {
        "id": "rGk50PMQmqsk",
        "colab": {
          "base_uri": "https://localhost:8080/"
        },
        "cellView": "form",
        "outputId": "fd5beaa7-c69e-4772-b37e-f93390e30e73"
      },
      "source": [
        "#@title Read protein family and clean the data for evotuning.\n",
        "import glob\n",
        "\n",
        "\n",
        "# input FASTA files:\n",
        "in_fastas = [pathlib.Path(x).resolve() for x in glob.glob(f\"{RES_DIR_MSA}/*\") if x.endswith('.fasta')]\n",
        "\n",
        "# put sequences into a pandas dataframes\n",
        "sequences_df = pd.concat([pd.DataFrame(read_fasta(in_fastas[i]), columns = ['name', 'sequence']) for i in range(len(in_fastas))], axis=0).reset_index().drop('index', axis=1)\n",
        "\n",
        "print('Total number of input sequences:', len(sequences_df))\n",
        "\n",
        "# clean the sequences:\n",
        "# the number here is the AA length we want - set to 350\n",
        "clean_seqs_df = clean(sequences_df, 600)\n",
        "\n",
        "# save clean sequences as a .fasta.txt file\n",
        "write_fasta('P450_all_sequences_clean', clean_seqs_df)"
      ],
      "execution_count": null,
      "outputs": [
        {
          "output_type": "stream",
          "name": "stdout",
          "text": [
            "Total number of input sequences: 501743\n",
            "Total number of sequences dropped due to length > 600 : 27667\n",
            "Total number of sequences remaining: 474076\n",
            "Total number of invalid sequences dropped: 6277\n",
            "Total number of valid sequences remaining: 467799\n",
            "Total sequences remaining after duplicate removal 382060\n"
          ]
        }
      ]
    },
    {
      "cell_type": "code",
      "metadata": {
        "id": "81daol__wnNz",
        "colab": {
          "base_uri": "https://localhost:8080/",
          "height": 204
        },
        "cellView": "form",
        "outputId": "93e647c7-a19c-4ffc-93fa-cccccca3ede0"
      },
      "source": [
        "#@title Check P450 sequences\n",
        "sequences_df.head()"
      ],
      "execution_count": null,
      "outputs": [
        {
          "output_type": "execute_result",
          "data": {
            "text/html": [
              "<div>\n",
              "<style scoped>\n",
              "    .dataframe tbody tr th:only-of-type {\n",
              "        vertical-align: middle;\n",
              "    }\n",
              "\n",
              "    .dataframe tbody tr th {\n",
              "        vertical-align: top;\n",
              "    }\n",
              "\n",
              "    .dataframe thead th {\n",
              "        text-align: right;\n",
              "    }\n",
              "</style>\n",
              "<table border=\"1\" class=\"dataframe\">\n",
              "  <thead>\n",
              "    <tr style=\"text-align: right;\">\n",
              "      <th></th>\n",
              "      <th>name</th>\n",
              "      <th>sequence</th>\n",
              "    </tr>\n",
              "  </thead>\n",
              "  <tbody>\n",
              "    <tr>\n",
              "      <th>0</th>\n",
              "      <td>A0A009JPS9|IPR001128|197...300|Cytochrome</td>\n",
              "      <td>MFIAMDPPKHDVQRQAVQDVVAPKNLKELEGLIRLRVQEVLDQLPT...</td>\n",
              "    </tr>\n",
              "    <tr>\n",
              "      <th>1</th>\n",
              "      <td>A0A010PZX0|IPR001128|227...483|Ent-kaurene</td>\n",
              "      <td>MSLSWSGWPATLEPQQSALGLLFVVLSLTLAYISIPGRHDHLPYIN...</td>\n",
              "    </tr>\n",
              "    <tr>\n",
              "      <th>2</th>\n",
              "      <td>A0A010PZY6|IPR001128|296...495|Prostacyclin</td>\n",
              "      <td>MADSSSAAATAVATLLERFSSTSSVKLIASAVALVVTVLMVIDKFV...</td>\n",
              "    </tr>\n",
              "    <tr>\n",
              "      <th>3</th>\n",
              "      <td>A0A010Q013|IPR001128|153...528|Cytochrome</td>\n",
              "      <td>MAPISQLLPPVASLSGVGLLALGSIALLYIISRVFLSIPYPKDIPL...</td>\n",
              "    </tr>\n",
              "    <tr>\n",
              "      <th>4</th>\n",
              "      <td>A0A010Q0Z9|IPR001128|248...438|Uncharacterized</td>\n",
              "      <td>MLREILYAFTGLALLAYAADFFYSTGDDPNEPVRIRSRFPLIGHVL...</td>\n",
              "    </tr>\n",
              "  </tbody>\n",
              "</table>\n",
              "</div>"
            ],
            "text/plain": [
              "                                             name                                           sequence\n",
              "0       A0A009JPS9|IPR001128|197...300|Cytochrome  MFIAMDPPKHDVQRQAVQDVVAPKNLKELEGLIRLRVQEVLDQLPT...\n",
              "1      A0A010PZX0|IPR001128|227...483|Ent-kaurene  MSLSWSGWPATLEPQQSALGLLFVVLSLTLAYISIPGRHDHLPYIN...\n",
              "2     A0A010PZY6|IPR001128|296...495|Prostacyclin  MADSSSAAATAVATLLERFSSTSSVKLIASAVALVVTVLMVIDKFV...\n",
              "3       A0A010Q013|IPR001128|153...528|Cytochrome  MAPISQLLPPVASLSGVGLLALGSIALLYIISRVFLSIPYPKDIPL...\n",
              "4  A0A010Q0Z9|IPR001128|248...438|Uncharacterized  MLREILYAFTGLALLAYAADFFYSTGDDPNEPVRIRSRFPLIGHVL..."
            ]
          },
          "metadata": {},
          "execution_count": 7
        }
      ]
    },
    {
      "cell_type": "code",
      "metadata": {
        "id": "3Xqkt9J8ElxT",
        "colab": {
          "base_uri": "https://localhost:8080/"
        },
        "cellView": "form",
        "outputId": "2a22c8fa-4d70-46df-b752-5256a53ef7ee"
      },
      "source": [
        "#@title load target sequence\n",
        "\n",
        "targets = read_fasta(target_fasta)\n",
        "print(targets[0][0])\n",
        "print(targets[0][1])"
      ],
      "execution_count": null,
      "outputs": [
        {
          "output_type": "stream",
          "name": "stdout",
          "text": [
            "NP_001289636.1\n",
            "MWTILLGLATLAIAYYIHWVNKWKDSKFNGVLPPGTMGLPLIGETIQLSRPSDSLDVHPFIQRKVKRYGPIFKTCLAGRPVVVSTDAEFNHYIMLQEGRAVEMWYLDTLSKFFGLDTEWLKALGLIHKYIRSITLNHFGAESLRERFLPRIEESARETLHYWSTQTSVEVKESAAAMVFRTSIVKMFSEDSSKLLTEGLTKKFTGLLGGFLTLPLNLPGTTYHKCIKDMKQIQKKLKDILEERLAKGVKIDEDFLGQAIKDKESQQFISEEFIIQLLFSISFASFESISTTLTLILNFLADHPDVVKELEAEHEAIRKARADPDGPITWEEYKSMNFTLNVICETLRLGSVTPALLRKTTKEIQIKGYTIPEGWTVMLVTASRHRDPEVYKDPDTFNPWRWKELDSITIQKNFMPFGGGLRHCAGAEYSKVYLCTFLHILFTKYRWRKLKGGKIARAHILRFEDGLYVNFTPKE\n"
          ]
        }
      ]
    },
    {
      "cell_type": "code",
      "metadata": {
        "id": "JJUEOFVdE8NK",
        "colab": {
          "base_uri": "https://localhost:8080/",
          "height": 333
        },
        "cellView": "form",
        "outputId": "396ab623-b7a1-4926-b061-ba034083a6bc"
      },
      "source": [
        "#@title calculate levenstein distance from chosen target sequence\n",
        "distances = lev_dist(targets[0][1], clean_seqs_df, 30, (0,300))"
      ],
      "execution_count": null,
      "outputs": [
        {
          "output_type": "stream",
          "name": "stdout",
          "text": [
            "Mean Levenstein distance: 383.4109354551641\n",
            "Median Levenstein distance: 383.4109354551641\n",
            "Min Levenstein distance: 0\n",
            "Max Levenstein distance: 477\n"
          ]
        },
        {
          "output_type": "display_data",
          "data": {
            "image/png": "[encoded data removed]",
            "text/plain": [
              "<Figure size 432x288 with 1 Axes>"
            ]
          },
          "metadata": {
            "needs_background": "light"
          }
        }
      ]
    },
    {
      "cell_type": "code",
      "metadata": {
        "id": "U8s4B4C0E_SC",
        "colab": {
          "base_uri": "https://localhost:8080/",
          "height": 683
        },
        "cellView": "form",
        "outputId": "842b719e-7b94-4f7d-c439-904bed703c88"
      },
      "source": [
        "#@title partition into the training and 2 validation sets:\n",
        "\n",
        "clean_seqs_df_copy = clean_seqs_df.copy()\n",
        "out_domain_val_set = clean_seqs_df_copy.sample(frac=0.1, weights=distances**4, random_state=17)\n",
        "remainder_df = clean_seqs_df_copy.drop(out_domain_val_set.index)\n",
        "#train_set = remainder_df.sample(frac=0.889, random_state=17)\n",
        "#in_domain_val_set = remainder_df.drop(train_set.index)\n",
        "\n",
        "# set check sizes and levenstein distances\n",
        "print('Out of domain validation set size:', len(out_domain_val_set))\n",
        "out_dom_distances = lev_dist(targets[0][1], out_domain_val_set.reset_index().drop('index', axis=1), 30, (0,300))\n",
        "\n",
        "#print('In domain validation set size:', len(in_domain_val_set))\n",
        "\n",
        "print('Training set size:', len(remainder_df))\n",
        "training_distances = lev_dist(targets[0][1], remainder_df.reset_index().drop('index', axis=1), 30, (0,300))"
      ],
      "execution_count": null,
      "outputs": [
        {
          "output_type": "stream",
          "name": "stdout",
          "text": [
            "Out of domain validation set size: 38206\n",
            "Mean Levenstein distance: 388.084018217034\n",
            "Median Levenstein distance: 388.084018217034\n",
            "Min Levenstein distance: 226\n",
            "Max Levenstein distance: 475\n"
          ]
        },
        {
          "output_type": "display_data",
          "data": {
            "image/png": "[encoded data removed]",
            "text/plain": [
              "<Figure size 432x288 with 1 Axes>"
            ]
          },
          "metadata": {
            "needs_background": "light"
          }
        },
        {
          "output_type": "stream",
          "name": "stdout",
          "text": [
            "Training set size: 343854\n",
            "Mean Levenstein distance: 382.89170403717856\n",
            "Median Levenstein distance: 382.89170403717856\n",
            "Min Levenstein distance: 0\n",
            "Max Levenstein distance: 477\n"
          ]
        },
        {
          "output_type": "display_data",
          "data": {
            "image/png": "[encoded data removed]",
            "text/plain": [
              "<Figure size 432x288 with 1 Axes>"
            ]
          },
          "metadata": {
            "needs_background": "light"
          }
        }
      ]
    },
    {
      "cell_type": "code",
      "metadata": {
        "id": "DGJwmzFxFINn",
        "cellView": "form"
      },
      "source": [
        "#@title save to fasta file formats:\n",
        "\n",
        "write_fasta(f'{job_name}_train_set', remainder_df.reset_index().drop('index', axis=1))\n",
        "write_fasta(f'{job_name}_out_domain_val_set', out_domain_val_set.reset_index().drop('index', axis=1))\n",
        "#write_fasta('in_domain_val_set', in_domain_val_set.reset_index().drop('index', axis=1))"
      ],
      "execution_count": null,
      "outputs": []
    }
  ]
}
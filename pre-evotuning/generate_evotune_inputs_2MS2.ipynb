{
 "cells": [
  {
   "cell_type": "markdown",
   "metadata": {},
   "source": [
    "# Generate Inputs for Evotuning eUniRep for 2MS2 (RNA Bacteriophage capsid coat proteins) \n",
    "\n",
    "PDB: 2MS2\n",
    "\n",
    "1. Get input FASTA files from doing PFAM search on wild type protein, and found the family is \"levivirus coat protein\" and in the clan: \"Levi_coat\" (CL0626). However this clan only had 374 proteins.\n",
    "\n",
    "2. A jackHMMer search (to convergence) only gave an additional 18 protiens, so this was also not a viable method.\n",
    "\n",
    "3. New method to find local domain proteins is to use the \"search\" function of InterPro and type in the key words \"RNA\", \"Bacteriophage\", \"capsid\", \"coat\". Through this several families were found and manually downloaded.\n",
    "\n",
    "4. Clean the inputs by removing sequences with non-standard residues, anything with length greater than k (in this case k = 600), remove duplicate sequences.\n",
    "\n",
    "5. Calculate levenstein distances from highly desired mutant (i.e. duraPETase) on all clean sequences.\n",
    "\n",
    "6. Generate training, in_domain validation and out_domain validation sets. out_domain validation set is generated first uusing a distribution proportional to distances^4 - taking 10% of the total sequences. Then 10% of the total (11.1% of the remainder) is taken for the in_domain validation set, with the remaining 80% of original = the training set.\n",
    "\n",
    "7. Convert resulting split set of sequences into input format required by UniRep and output to a .fasta.txt file "
   ]
  },
  {
   "cell_type": "code",
   "execution_count": 1,
   "metadata": {
    "collapsed": true
   },
   "outputs": [],
   "source": [
    "from Bio import SeqIO\n",
    "import pandas as pd\n",
    "import re\n",
    "from Levenshtein import distance\n",
    "import numpy as np\n",
    "import matplotlib.pyplot as plt"
   ]
  },
  {
   "cell_type": "code",
   "execution_count": 2,
   "metadata": {
    "collapsed": true
   },
   "outputs": [],
   "source": [
    "# Functions:\n",
    "\n",
    "# read FASTA file:\n",
    "# input: file name\n",
    "# output: names and sequences in the file as an array of dim-2 arrays [name, sequence].\n",
    "def read_fasta(name):\n",
    "    fasta_seqs = SeqIO.parse(open('inputs/' + name + '.fasta.txt'),'fasta')\n",
    "    data = []\n",
    "    for fasta in fasta_seqs:\n",
    "        data.append([fasta.id, str(fasta.seq).strip()])\n",
    "    \n",
    "    return data\n",
    "\n",
    "\n",
    "# write FASTA file:\n",
    "# input: file name; df to write\n",
    "def write_fasta(name, seqs_df):\n",
    "    out_file = open('outputs/' + name + '.fasta.txt', \"w\")\n",
    "    for i in range(len(seqs_df)):\n",
    "        out_file.write('>' + seqs_df.name[i] + '\\n')\n",
    "        out_file.write(seqs_df.sequence[i] + '\\n')\n",
    "    out_file.close()\n",
    "\n",
    "\n",
    "# input: takes in a sequence\n",
    "# output: True if a sequence contains only standard amino acids, returns False if contains non-standard ones.\n",
    "def validate(seq, pattern=re.compile(r'^[FIWLVMYCATHGSQRKNEPD]+$')):\n",
    "    if (pattern.match(seq)):\n",
    "        return True\n",
    "    return False\n",
    "\n",
    "    \n",
    "# Remove sequences longer than k residues and with non-standard residues\n",
    "# inputs: seqs_df = dataframe of name, sequence; k = max lenght of residues to keep\n",
    "# output: cleaned dataframe\n",
    "def clean(seqs_df, k):\n",
    "    # remove sequences with length > 1000 AA's\n",
    "    rows2drop = []\n",
    "    for i in range(len(seqs_df)):\n",
    "        if (len(seqs_df.sequence[i]) > k):\n",
    "            rows2drop.append(i)\n",
    "\n",
    "    print('Total number of sequences dropped due to length >', k, ':', len(rows2drop))\n",
    "\n",
    "    seqs_df = seqs_df.drop(rows2drop).reset_index().drop('index', axis=1)\n",
    "\n",
    "    print('Total number of sequences remaining:', len(seqs_df))\n",
    "    \n",
    "    # remove sequences with invalid AA residues\n",
    "    # valid_alphabet = ['F','I','W','L','V','M','Y','C','A','T','H','G','S','Q','R','K','N','E','P','D']\n",
    "    invalid_seqs = []\n",
    "\n",
    "    for i in range(len(seqs_df)):\n",
    "        if (not validate(seqs_df.sequence[i])):\n",
    "            invalid_seqs.append(i)\n",
    "\n",
    "    print('Total number of invalid sequences dropped:', len(invalid_seqs))\n",
    "\n",
    "    seqs_df = seqs_df.drop(invalid_seqs).reset_index().drop('index', axis=1)\n",
    "\n",
    "    print('Total number of valid sequences remaining:', len(seqs_df))\n",
    "    \n",
    "    \n",
    "    seqs_df = seqs_df.drop_duplicates(subset='sequence').reset_index().drop('index', axis=1)\n",
    "\n",
    "    print('Total sequences remaining after duplicate removal', len(seqs_df))\n",
    "\n",
    "    \n",
    "    return seqs_df\n",
    "\n",
    "\n",
    "# calculate the Levenstein distance of mulitple sequences to a target sequence\n",
    "# also plots a histogram of distances\n",
    "# inputs: t_seq = target sequence; seqs_df = dataframe of sequences;\n",
    "# num_bins = bins for histogram; hist_range = range for histogram\n",
    "# outputs: numpy array of distances\n",
    "def lev_dist(t_seq, seqs_df, num_bins=20, hist_range=(0,350)):\n",
    "    distances = []\n",
    "    for i in range(len(seqs_df)):\n",
    "        distances.append(distance(t_seq, seqs_df.sequence[i]))\n",
    "    distances = np.array(distances)\n",
    "\n",
    "    mean_dist = np.mean(distances)\n",
    "    median_dist = np.median(distances)\n",
    "    min_dist = np.min(distances)\n",
    "    max_dist = np.max(distances)\n",
    "    \n",
    "    print(\"Mean Levenstein distance:\", mean_dist)\n",
    "    print(\"Median Levenstein distance:\", mean_dist)\n",
    "    print(\"Min Levenstein distance:\", min_dist)\n",
    "    print(\"Max Levenstein distance:\", max_dist)\n",
    "\n",
    "    \n",
    "    # histogram of Levenstein distances from target sequence\n",
    "    plt.clf()\n",
    "    plt.hist(distances, bins=num_bins, range=hist_range)\n",
    "    plt.show()\n",
    "    \n",
    "    return distances\n",
    "\n",
    "\n",
    "\n",
    "\"\"\"\n",
    "File formatting note.\n",
    "Data should be preprocessed as a sequence of comma-seperated ints with\n",
    "sequences  /n seperated\n",
    "\"\"\"\n",
    "\n",
    "# Lookup tables\n",
    "aa_to_int = {\n",
    "    'M':1,\n",
    "    'R':2,\n",
    "    'H':3,\n",
    "    'K':4,\n",
    "    'D':5,\n",
    "    'E':6,\n",
    "    'S':7,\n",
    "    'T':8,\n",
    "    'N':9,\n",
    "    'Q':10,\n",
    "    'C':11,\n",
    "    'U':12,\n",
    "    'G':13,\n",
    "    'P':14,\n",
    "    'A':15,\n",
    "    'V':16,\n",
    "    'I':17,\n",
    "    'F':18,\n",
    "    'Y':19,\n",
    "    'W':20,\n",
    "    'L':21,\n",
    "    'O':22, #Pyrrolysine\n",
    "    'X':23, # Unknown\n",
    "    'Z':23, # Glutamic acid or GLutamine\n",
    "    'B':23, # Asparagine or aspartic acid\n",
    "    'J':23, # Leucine or isoleucine\n",
    "    'start':24,\n",
    "    'stop':25,\n",
    "}\n",
    "\n",
    "int_to_aa = {value:key for key, value in aa_to_int.items()}\n",
    "\n",
    "def get_aa_to_int():\n",
    "    \"\"\"\n",
    "    Get the lookup table (for easy import)\n",
    "    \"\"\"\n",
    "    return aa_to_int\n",
    "\n",
    "def get_int_to_aa():\n",
    "    \"\"\"\n",
    "    Get the lookup table (for easy import)\n",
    "    \"\"\"\n",
    "    return int_to_aa\n",
    "    \n",
    "def aa_seq_to_int(s):\n",
    "    \"\"\"\n",
    "    Return the int sequence as a list for a given string of amino acids\n",
    "    \"\"\"\n",
    "    return [24] + [aa_to_int[a] for a in s] + [25]\n",
    "\n",
    "def int_seq_to_aa(s):\n",
    "    \"\"\"\n",
    "    Return the int sequence as a list for a given string of amino acids\n",
    "    \"\"\"\n",
    "    return \"\".join([int_to_aa[i] for i in s])\n",
    "\n",
    "    \n",
    "def format_seq(seq,stop=False):\n",
    "    \"\"\"\n",
    "    Takes an amino acid sequence, returns a list of integers in the codex of the babbler.\n",
    "    Here, the default is to strip the stop symbol (stop=False) which would have \n",
    "    otherwise been added to the end of the sequence. If you are trying to generate\n",
    "    a rep, do not include the stop. It is probably best to ignore the stop if you are\n",
    "    co-tuning the babbler and a top model as well.\n",
    "    \"\"\"\n",
    "    if stop:\n",
    "        int_seq = aa_seq_to_int(seq.strip())\n",
    "    else:\n",
    "        int_seq = aa_seq_to_int(seq.strip())[:-1]\n",
    "    return int_seq\n",
    "\n",
    "def is_valid_seq(seq, max_len=2000):\n",
    "    \"\"\"\n",
    "    True if seq is valid for the babbler, False otherwise.\n",
    "    \"\"\"\n",
    "    l = len(seq)\n",
    "    valid_aas = \"MRHKDESTNQCUGPAVIFYWLO\"\n",
    "    if (l < max_len) and set(seq) <= set(valid_aas):\n",
    "        return True\n",
    "    else:\n",
    "        return False\n",
    "\n",
    "def fasta_to_input(in_path):\n",
    "    source = SeqIO.parse(in_path + '.fasta.txt','fasta')\n",
    "    with open(in_path + \"_formatted.fasta.txt\", \"w\") as destination:\n",
    "        for seq in fasta_seqs:\n",
    "            seq = seq.strip()\n",
    "            if is_valid_seq(seq) and len(seq) < 275: \n",
    "                formatted = \",\".join(map(str,format_seq(seq)))\n",
    "                destination.write(formatted)\n",
    "                destination.write('\\n')\n",
    "\n",
    "def seqs_to_input(name, in_seqs, stop=False):\n",
    "    with open('outputs/' + name + \"_formatted.fasta.txt\", \"w\") as destination:\n",
    "        for seq in in_seqs:\n",
    "            seq = seq.strip()\n",
    "            if is_valid_seq(seq): \n",
    "                formatted = \",\".join(map(str,format_seq(seq, stop=stop)))\n",
    "                destination.write(formatted)\n",
    "                destination.write('\\n')\n"
   ]
  },
  {
   "cell_type": "code",
   "execution_count": 13,
   "metadata": {},
   "outputs": [
    {
     "name": "stdout",
     "output_type": "stream",
     "text": [
      "Total number of input sequences: 73359\n",
      "Total number of sequences dropped due to length > 350 : 29337\n",
      "Total number of sequences remaining: 44022\n",
      "Total number of invalid sequences dropped: 454\n",
      "Total number of valid sequences remaining: 43568\n",
      "Total sequences remaining after duplicate removal 32203\n"
     ]
    }
   ],
   "source": [
    "# input FASTA files:\n",
    "in_fastas = ['levi_coat',\n",
    "             'bacteriophage_rna_type_capsid',\n",
    "             'read-through_domain', 'P22_coat_protein_GP5',\n",
    "             'nepovirus_coat_protein',\n",
    "             'picornavirus_capsid_protein_vp4',\n",
    "             'calicivirus_coat_protein',\n",
    "             'DNA_virus_coat_capsid_protein',\n",
    "             'bacteriophage_T7_capsid_assembly',\n",
    "             'capsid_Gp10AB',\n",
    "             'capsid_t4_bacteriophage_like',\n",
    "             'capsid_g8p',\n",
    "             'capsid_protein',\n",
    "             'icosahedral_viral_capsid_s_domain',\n",
    "             'nodavirus_capsid',\n",
    "             'carlavirus_coat',\n",
    "             'dicistrovirus_capsid_vp4',\n",
    "             'major_capsid_protein_gp5',\n",
    "             'spore_coat_CotD',\n",
    "             'transglycosylase_SLT_domain1',\n",
    "             'prohead_protease',\n",
    "             'bacterial_lg_like_group2',\n",
    "             'capsid_spke_ssNDA_virus',\n",
    "             'jackHMMER3iters',\n",
    "            ]\n",
    "\n",
    "# put sequences into a pandas dataframes\n",
    "sequences_df = pd.concat([pd.DataFrame(read_fasta(in_fastas[i]), columns = ['name', 'sequence']) for i in range(len(in_fastas))], axis=0).reset_index().drop('index', axis=1)\n",
    "\n",
    "print('Total number of input sequences:', len(sequences_df))\n",
    "\n",
    "# clean the sequences:\n",
    "# the number here is the AA length we want - set to 350\n",
    "clean_seqs_df = clean(sequences_df, 350)\n",
    "\n",
    "# save clean sequences as a .fasta.txt file\n",
    "write_fasta('2MS2_all_sequences_clean', clean_seqs_df)"
   ]
  },
  {
   "cell_type": "code",
   "execution_count": 4,
   "metadata": {},
   "outputs": [
    {
     "name": "stdout",
     "output_type": "stream",
     "text": [
      "2MS2_1|Chains\n",
      "ASNFTQFVLVDNGGTGDVTVAPSNFANGVAEWISSNSRSQAYKVTCSVRQSSAQNRKYTIKVEVPKVATQTVGGVELPVAAWRSYLNMELTIPIFATNSDCELIVKAMQGLLKDGNPIPSAIAANSGIY\n"
     ]
    }
   ],
   "source": [
    "# load target sequence\n",
    "target_fasta = '2MS2'\n",
    "targets = read_fasta(target_fasta)\n",
    "print(targets[0][0])\n",
    "print(targets[0][1])\n"
   ]
  },
  {
   "cell_type": "code",
   "execution_count": 6,
   "metadata": {},
   "outputs": [
    {
     "name": "stdout",
     "output_type": "stream",
     "text": [
      "Mean Levenstein distance: 131.10902710927553\n",
      "Median Levenstein distance: 131.10902710927553\n",
      "Min Levenstein distance: 0\n",
      "Max Levenstein distance: 287\n"
     ]
    },
    {
     "data": {
      "image/png": "[encoded data removed]",
      "text/plain": [
       "<matplotlib.figure.Figure at 0x106777f98>"
      ]
     },
     "metadata": {},
     "output_type": "display_data"
    }
   ],
   "source": [
    "# calculate levenstein distance from chosen target sequence\n",
    "distances = lev_dist(targets[0][1], clean_seqs_df, 30, (0,300))"
   ]
  },
  {
   "cell_type": "code",
   "execution_count": 7,
   "metadata": {
    "collapsed": true
   },
   "outputs": [],
   "source": [
    "# partition into the training and 2 validation sets:\n",
    "\n",
    "clean_seqs_df_copy = clean_seqs_df.copy()\n",
    "out_domain_val_set = clean_seqs_df_copy.sample(frac=0.1, weights=distances**4, random_state=17)\n",
    "remainder_df = clean_seqs_df_copy.drop(out_domain_val_set.index)\n",
    "#train_set = remainder_df.sample(frac=0.889, random_state=17)\n",
    "#in_domain_val_set = remainder_df.drop(train_set.index)\n"
   ]
  },
  {
   "cell_type": "code",
   "execution_count": 11,
   "metadata": {},
   "outputs": [
    {
     "name": "stdout",
     "output_type": "stream",
     "text": [
      "Out of domain validation set size: 3220\n",
      "Mean Levenstein distance: 201.98944099378883\n",
      "Median Levenstein distance: 201.98944099378883\n",
      "Min Levenstein distance: 91\n",
      "Max Levenstein distance: 287\n"
     ]
    },
    {
     "data": {
      "image/png": "[encoded data removed]",
      "text/plain": [
       "<matplotlib.figure.Figure at 0x113691860>"
      ]
     },
     "metadata": {},
     "output_type": "display_data"
    },
    {
     "name": "stdout",
     "output_type": "stream",
     "text": [
      "Training set size: 28983\n",
      "Mean Levenstein distance: 123.2342407618259\n",
      "Median Levenstein distance: 123.2342407618259\n",
      "Min Levenstein distance: 0\n",
      "Max Levenstein distance: 285\n"
     ]
    },
    {
     "data": {
      "image/png": "[encoded data removed]",
      "text/plain": [
       "<matplotlib.figure.Figure at 0x11342d320>"
      ]
     },
     "metadata": {},
     "output_type": "display_data"
    }
   ],
   "source": [
    "# set check sizes and levenstein distances\n",
    "print('Out of domain validation set size:', len(out_domain_val_set))\n",
    "out_dom_distances = lev_dist(targets[0][1], out_domain_val_set.reset_index().drop('index', axis=1), 30, (0,300))\n",
    "\n",
    "#print('In domain validation set size:', len(in_domain_val_set))\n",
    "\n",
    "print('Training set size:', len(remainder_df))\n",
    "training_distances = lev_dist(targets[0][1], remainder_df.reset_index().drop('index', axis=1), 30, (0,300))\n"
   ]
  },
  {
   "cell_type": "code",
   "execution_count": 14,
   "metadata": {
    "collapsed": true
   },
   "outputs": [],
   "source": [
    "# save to fasta file formats:\n",
    "\n",
    "write_fasta('2MS2_train_set', remainder_df.reset_index().drop('index', axis=1))\n",
    "write_fasta('2MS2_out_domain_val_set', out_domain_val_set.reset_index().drop('index', axis=1))\n",
    "#write_fasta('in_domain_val_set', in_domain_val_set.reset_index().drop('index', axis=1))\n"
   ]
  },
  {
   "cell_type": "code",
   "execution_count": null,
   "metadata": {
    "collapsed": true
   },
   "outputs": [],
   "source": [
    "# UNUSED - AS SWITCHED TO JAX.\n",
    "# convert to input representation needed by eUniRep and output as fasta text files\n",
    "\n",
    "#seqs_to_input('train_set', train_set.sequence, stop=True)\n",
    "#seqs_to_input('out_domain_val_set', out_domain_val_set.sequence, stop=True)\n",
    "#seqs_to_input('in_domain_val_set', in_domain_val_set.sequence, stop=True)"
   ]
  }
 ],
 "metadata": {
  "kernelspec": {
   "display_name": "Python 3",
   "language": "python",
   "name": "python3"
  },
  "language_info": {
   "codemirror_mode": {
    "name": "ipython",
    "version": 3
   },
   "file_extension": ".py",
   "mimetype": "text/x-python",
   "name": "python",
   "nbconvert_exporter": "python",
   "pygments_lexer": "ipython3",
   "version": "3.6.1"
  }
 },
 "nbformat": 4,
 "nbformat_minor": 2
}

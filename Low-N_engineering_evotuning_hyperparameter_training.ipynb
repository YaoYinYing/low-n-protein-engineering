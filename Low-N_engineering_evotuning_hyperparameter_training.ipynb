{
  "nbformat": 4,
  "nbformat_minor": 0,
  "metadata": {
    "accelerator": "GPU",
    "colab": {
      "name": "Low-N-engineering-test",
      "provenance": [],
      "collapsed_sections": [],
      "include_colab_link": true
    },
    "kernelspec": {
      "display_name": "Python 3 (ipykernel)",
      "language": "python",
      "name": "python3"
    },
    "language_info": {
      "codemirror_mode": {
        "name": "ipython",
        "version": 3
      },
      "file_extension": ".py",
      "mimetype": "text/x-python",
      "name": "python",
      "nbconvert_exporter": "python",
      "pygments_lexer": "ipython3",
      "version": "3.9.7"
    },
    "widgets": {
      "application/vnd.jupyter.widget-state+json": {
        "e68d85a744754953b0e02c3ae8638fd6": {
          "model_module": "@jupyter-widgets/controls",
          "model_name": "HBoxModel",
          "model_module_version": "1.5.0",
          "state": {
            "_dom_classes": [],
            "_model_module": "@jupyter-widgets/controls",
            "_model_module_version": "1.5.0",
            "_model_name": "HBoxModel",
            "_view_count": null,
            "_view_module": "@jupyter-widgets/controls",
            "_view_module_version": "1.5.0",
            "_view_name": "HBoxView",
            "box_style": "",
            "children": [
              "IPY_MODEL_014c65184324447f8aa413187a08e01a",
              "IPY_MODEL_cd9e71a9e27b4f298f571900de248819",
              "IPY_MODEL_ae78bca02c3d443e9a8158a3d3f0d56d"
            ],
            "layout": "IPY_MODEL_4e31a18d753f485ea070ff9a6756b9f3"
          }
        },
        "4e31a18d753f485ea070ff9a6756b9f3": {
          "model_module": "@jupyter-widgets/base",
          "model_name": "LayoutModel",
          "model_module_version": "1.2.0",
          "state": {
            "_model_module": "@jupyter-widgets/base",
            "_model_module_version": "1.2.0",
            "_model_name": "LayoutModel",
            "_view_count": null,
            "_view_module": "@jupyter-widgets/base",
            "_view_module_version": "1.2.0",
            "_view_name": "LayoutView",
            "align_content": null,
            "align_items": null,
            "align_self": null,
            "border": null,
            "bottom": null,
            "display": null,
            "flex": null,
            "flex_flow": null,
            "grid_area": null,
            "grid_auto_columns": null,
            "grid_auto_flow": null,
            "grid_auto_rows": null,
            "grid_column": null,
            "grid_gap": null,
            "grid_row": null,
            "grid_template_areas": null,
            "grid_template_columns": null,
            "grid_template_rows": null,
            "height": null,
            "justify_content": null,
            "justify_items": null,
            "left": null,
            "margin": null,
            "max_height": null,
            "max_width": null,
            "min_height": null,
            "min_width": null,
            "object_fit": null,
            "object_position": null,
            "order": null,
            "overflow": null,
            "overflow_x": null,
            "overflow_y": null,
            "padding": null,
            "right": null,
            "top": null,
            "visibility": null,
            "width": null
          }
        },
        "014c65184324447f8aa413187a08e01a": {
          "model_module": "@jupyter-widgets/controls",
          "model_name": "HTMLModel",
          "model_module_version": "1.5.0",
          "state": {
            "_dom_classes": [],
            "_model_module": "@jupyter-widgets/controls",
            "_model_module_version": "1.5.0",
            "_model_name": "HTMLModel",
            "_view_count": null,
            "_view_module": "@jupyter-widgets/controls",
            "_view_module_version": "1.5.0",
            "_view_name": "HTMLView",
            "description": "",
            "description_tooltip": null,
            "layout": "IPY_MODEL_a34b819eb5ad4bd58550e81513cc3cda",
            "placeholder": "​",
            "style": "IPY_MODEL_5b8e86560d234d62bf7c0521bab1418e",
            "value": "100%"
          }
        },
        "cd9e71a9e27b4f298f571900de248819": {
          "model_module": "@jupyter-widgets/controls",
          "model_name": "FloatProgressModel",
          "model_module_version": "1.5.0",
          "state": {
            "_dom_classes": [],
            "_model_module": "@jupyter-widgets/controls",
            "_model_module_version": "1.5.0",
            "_model_name": "FloatProgressModel",
            "_view_count": null,
            "_view_module": "@jupyter-widgets/controls",
            "_view_module_version": "1.5.0",
            "_view_name": "ProgressView",
            "bar_style": "success",
            "description": "",
            "description_tooltip": null,
            "layout": "IPY_MODEL_c54a61afa12d4d11b1c7884955ed9a3b",
            "max": 5,
            "min": 0,
            "orientation": "horizontal",
            "style": "IPY_MODEL_4c982593cacf4441be070c7ae7889a01",
            "value": 5
          }
        },
        "ae78bca02c3d443e9a8158a3d3f0d56d": {
          "model_module": "@jupyter-widgets/controls",
          "model_name": "HTMLModel",
          "model_module_version": "1.5.0",
          "state": {
            "_dom_classes": [],
            "_model_module": "@jupyter-widgets/controls",
            "_model_module_version": "1.5.0",
            "_model_name": "HTMLModel",
            "_view_count": null,
            "_view_module": "@jupyter-widgets/controls",
            "_view_module_version": "1.5.0",
            "_view_name": "HTMLView",
            "description": "",
            "description_tooltip": null,
            "layout": "IPY_MODEL_c72242495dd54730ae4dfb8d85609783",
            "placeholder": "​",
            "style": "IPY_MODEL_2794584f6134410182f87828c861b8d8",
            "value": " 5/5 [elapsed: 01:09 remaining: 00:00]"
          }
        },
        "5b8e86560d234d62bf7c0521bab1418e": {
          "model_module": "@jupyter-widgets/controls",
          "model_name": "DescriptionStyleModel",
          "model_module_version": "1.5.0",
          "state": {
            "_model_module": "@jupyter-widgets/controls",
            "_model_module_version": "1.5.0",
            "_model_name": "DescriptionStyleModel",
            "_view_count": null,
            "_view_module": "@jupyter-widgets/base",
            "_view_module_version": "1.2.0",
            "_view_name": "StyleView",
            "description_width": ""
          }
        },
        "a34b819eb5ad4bd58550e81513cc3cda": {
          "model_module": "@jupyter-widgets/base",
          "model_name": "LayoutModel",
          "model_module_version": "1.2.0",
          "state": {
            "_model_module": "@jupyter-widgets/base",
            "_model_module_version": "1.2.0",
            "_model_name": "LayoutModel",
            "_view_count": null,
            "_view_module": "@jupyter-widgets/base",
            "_view_module_version": "1.2.0",
            "_view_name": "LayoutView",
            "align_content": null,
            "align_items": null,
            "align_self": null,
            "border": null,
            "bottom": null,
            "display": null,
            "flex": null,
            "flex_flow": null,
            "grid_area": null,
            "grid_auto_columns": null,
            "grid_auto_flow": null,
            "grid_auto_rows": null,
            "grid_column": null,
            "grid_gap": null,
            "grid_row": null,
            "grid_template_areas": null,
            "grid_template_columns": null,
            "grid_template_rows": null,
            "height": null,
            "justify_content": null,
            "justify_items": null,
            "left": null,
            "margin": null,
            "max_height": null,
            "max_width": null,
            "min_height": null,
            "min_width": null,
            "object_fit": null,
            "object_position": null,
            "order": null,
            "overflow": null,
            "overflow_x": null,
            "overflow_y": null,
            "padding": null,
            "right": null,
            "top": null,
            "visibility": null,
            "width": null
          }
        },
        "4c982593cacf4441be070c7ae7889a01": {
          "model_module": "@jupyter-widgets/controls",
          "model_name": "ProgressStyleModel",
          "model_module_version": "1.5.0",
          "state": {
            "_model_module": "@jupyter-widgets/controls",
            "_model_module_version": "1.5.0",
            "_model_name": "ProgressStyleModel",
            "_view_count": null,
            "_view_module": "@jupyter-widgets/base",
            "_view_module_version": "1.2.0",
            "_view_name": "StyleView",
            "bar_color": null,
            "description_width": ""
          }
        },
        "c54a61afa12d4d11b1c7884955ed9a3b": {
          "model_module": "@jupyter-widgets/base",
          "model_name": "LayoutModel",
          "model_module_version": "1.2.0",
          "state": {
            "_model_module": "@jupyter-widgets/base",
            "_model_module_version": "1.2.0",
            "_model_name": "LayoutModel",
            "_view_count": null,
            "_view_module": "@jupyter-widgets/base",
            "_view_module_version": "1.2.0",
            "_view_name": "LayoutView",
            "align_content": null,
            "align_items": null,
            "align_self": null,
            "border": null,
            "bottom": null,
            "display": null,
            "flex": null,
            "flex_flow": null,
            "grid_area": null,
            "grid_auto_columns": null,
            "grid_auto_flow": null,
            "grid_auto_rows": null,
            "grid_column": null,
            "grid_gap": null,
            "grid_row": null,
            "grid_template_areas": null,
            "grid_template_columns": null,
            "grid_template_rows": null,
            "height": null,
            "justify_content": null,
            "justify_items": null,
            "left": null,
            "margin": null,
            "max_height": null,
            "max_width": null,
            "min_height": null,
            "min_width": null,
            "object_fit": null,
            "object_position": null,
            "order": null,
            "overflow": null,
            "overflow_x": null,
            "overflow_y": null,
            "padding": null,
            "right": null,
            "top": null,
            "visibility": null,
            "width": null
          }
        },
        "2794584f6134410182f87828c861b8d8": {
          "model_module": "@jupyter-widgets/controls",
          "model_name": "DescriptionStyleModel",
          "model_module_version": "1.5.0",
          "state": {
            "_model_module": "@jupyter-widgets/controls",
            "_model_module_version": "1.5.0",
            "_model_name": "DescriptionStyleModel",
            "_view_count": null,
            "_view_module": "@jupyter-widgets/base",
            "_view_module_version": "1.2.0",
            "_view_name": "StyleView",
            "description_width": ""
          }
        },
        "c72242495dd54730ae4dfb8d85609783": {
          "model_module": "@jupyter-widgets/base",
          "model_name": "LayoutModel",
          "model_module_version": "1.2.0",
          "state": {
            "_model_module": "@jupyter-widgets/base",
            "_model_module_version": "1.2.0",
            "_model_name": "LayoutModel",
            "_view_count": null,
            "_view_module": "@jupyter-widgets/base",
            "_view_module_version": "1.2.0",
            "_view_name": "LayoutView",
            "align_content": null,
            "align_items": null,
            "align_self": null,
            "border": null,
            "bottom": null,
            "display": null,
            "flex": null,
            "flex_flow": null,
            "grid_area": null,
            "grid_auto_columns": null,
            "grid_auto_flow": null,
            "grid_auto_rows": null,
            "grid_column": null,
            "grid_gap": null,
            "grid_row": null,
            "grid_template_areas": null,
            "grid_template_columns": null,
            "grid_template_rows": null,
            "height": null,
            "justify_content": null,
            "justify_items": null,
            "left": null,
            "margin": null,
            "max_height": null,
            "max_width": null,
            "min_height": null,
            "min_width": null,
            "object_fit": null,
            "object_position": null,
            "order": null,
            "overflow": null,
            "overflow_x": null,
            "overflow_y": null,
            "padding": null,
            "right": null,
            "top": null,
            "visibility": null,
            "width": null
          }
        },
        "c2486edc3bcc4d8cb75f9b574917d0e1": {
          "model_module": "@jupyter-widgets/controls",
          "model_name": "HBoxModel",
          "model_module_version": "1.5.0",
          "state": {
            "_dom_classes": [],
            "_model_module": "@jupyter-widgets/controls",
            "_model_module_version": "1.5.0",
            "_model_name": "HBoxModel",
            "_view_count": null,
            "_view_module": "@jupyter-widgets/controls",
            "_view_module_version": "1.5.0",
            "_view_name": "HBoxView",
            "box_style": "",
            "children": [
              "IPY_MODEL_5ebafb5c9a6240c7bf476d387d03160c",
              "IPY_MODEL_e7a5fdbc27b546eb920a3efc9a34904a",
              "IPY_MODEL_1d377ee50e3743c18946794412590d66"
            ],
            "layout": "IPY_MODEL_94bf01d77eb247fcbc91ce7b061998e6"
          }
        },
        "94bf01d77eb247fcbc91ce7b061998e6": {
          "model_module": "@jupyter-widgets/base",
          "model_name": "LayoutModel",
          "model_module_version": "1.2.0",
          "state": {
            "_model_module": "@jupyter-widgets/base",
            "_model_module_version": "1.2.0",
            "_model_name": "LayoutModel",
            "_view_count": null,
            "_view_module": "@jupyter-widgets/base",
            "_view_module_version": "1.2.0",
            "_view_name": "LayoutView",
            "align_content": null,
            "align_items": null,
            "align_self": null,
            "border": null,
            "bottom": null,
            "display": null,
            "flex": null,
            "flex_flow": null,
            "grid_area": null,
            "grid_auto_columns": null,
            "grid_auto_flow": null,
            "grid_auto_rows": null,
            "grid_column": null,
            "grid_gap": null,
            "grid_row": null,
            "grid_template_areas": null,
            "grid_template_columns": null,
            "grid_template_rows": null,
            "height": null,
            "justify_content": null,
            "justify_items": null,
            "left": null,
            "margin": null,
            "max_height": null,
            "max_width": null,
            "min_height": null,
            "min_width": null,
            "object_fit": null,
            "object_position": null,
            "order": null,
            "overflow": null,
            "overflow_x": null,
            "overflow_y": null,
            "padding": null,
            "right": null,
            "top": null,
            "visibility": null,
            "width": null
          }
        },
        "5ebafb5c9a6240c7bf476d387d03160c": {
          "model_module": "@jupyter-widgets/controls",
          "model_name": "HTMLModel",
          "model_module_version": "1.5.0",
          "state": {
            "_dom_classes": [],
            "_model_module": "@jupyter-widgets/controls",
            "_model_module_version": "1.5.0",
            "_model_name": "HTMLModel",
            "_view_count": null,
            "_view_module": "@jupyter-widgets/controls",
            "_view_module_version": "1.5.0",
            "_view_name": "HTMLView",
            "description": "",
            "description_tooltip": null,
            "layout": "IPY_MODEL_e0e9ba0e46cb4c16852a313dd186abdc",
            "placeholder": "​",
            "style": "IPY_MODEL_b0bab411cda84d2faec2dc79b366acfd",
            "value": "right-padding sequences: 100%"
          }
        },
        "e7a5fdbc27b546eb920a3efc9a34904a": {
          "model_module": "@jupyter-widgets/controls",
          "model_name": "FloatProgressModel",
          "model_module_version": "1.5.0",
          "state": {
            "_dom_classes": [],
            "_model_module": "@jupyter-widgets/controls",
            "_model_module_version": "1.5.0",
            "_model_name": "FloatProgressModel",
            "_view_count": null,
            "_view_module": "@jupyter-widgets/controls",
            "_view_module_version": "1.5.0",
            "_view_name": "ProgressView",
            "bar_style": "success",
            "description": "",
            "description_tooltip": null,
            "layout": "IPY_MODEL_4f3eef5f2c454be791ef533a5b8046d5",
            "max": 171927,
            "min": 0,
            "orientation": "horizontal",
            "style": "IPY_MODEL_d99d77a1136b40ef9d0bc0cd47eca937",
            "value": 171927
          }
        },
        "1d377ee50e3743c18946794412590d66": {
          "model_module": "@jupyter-widgets/controls",
          "model_name": "HTMLModel",
          "model_module_version": "1.5.0",
          "state": {
            "_dom_classes": [],
            "_model_module": "@jupyter-widgets/controls",
            "_model_module_version": "1.5.0",
            "_model_name": "HTMLModel",
            "_view_count": null,
            "_view_module": "@jupyter-widgets/controls",
            "_view_module_version": "1.5.0",
            "_view_name": "HTMLView",
            "description": "",
            "description_tooltip": null,
            "layout": "IPY_MODEL_876bf53b39e44a77af4cacb5a4f0c45f",
            "placeholder": "​",
            "style": "IPY_MODEL_f8d37af2043a4463b49340bf50f435f3",
            "value": " 171927/171927 [00:00&lt;00:00, 432944.14it/s]"
          }
        },
        "b0bab411cda84d2faec2dc79b366acfd": {
          "model_module": "@jupyter-widgets/controls",
          "model_name": "DescriptionStyleModel",
          "model_module_version": "1.5.0",
          "state": {
            "_model_module": "@jupyter-widgets/controls",
            "_model_module_version": "1.5.0",
            "_model_name": "DescriptionStyleModel",
            "_view_count": null,
            "_view_module": "@jupyter-widgets/base",
            "_view_module_version": "1.2.0",
            "_view_name": "StyleView",
            "description_width": ""
          }
        },
        "e0e9ba0e46cb4c16852a313dd186abdc": {
          "model_module": "@jupyter-widgets/base",
          "model_name": "LayoutModel",
          "model_module_version": "1.2.0",
          "state": {
            "_model_module": "@jupyter-widgets/base",
            "_model_module_version": "1.2.0",
            "_model_name": "LayoutModel",
            "_view_count": null,
            "_view_module": "@jupyter-widgets/base",
            "_view_module_version": "1.2.0",
            "_view_name": "LayoutView",
            "align_content": null,
            "align_items": null,
            "align_self": null,
            "border": null,
            "bottom": null,
            "display": null,
            "flex": null,
            "flex_flow": null,
            "grid_area": null,
            "grid_auto_columns": null,
            "grid_auto_flow": null,
            "grid_auto_rows": null,
            "grid_column": null,
            "grid_gap": null,
            "grid_row": null,
            "grid_template_areas": null,
            "grid_template_columns": null,
            "grid_template_rows": null,
            "height": null,
            "justify_content": null,
            "justify_items": null,
            "left": null,
            "margin": null,
            "max_height": null,
            "max_width": null,
            "min_height": null,
            "min_width": null,
            "object_fit": null,
            "object_position": null,
            "order": null,
            "overflow": null,
            "overflow_x": null,
            "overflow_y": null,
            "padding": null,
            "right": null,
            "top": null,
            "visibility": null,
            "width": null
          }
        },
        "d99d77a1136b40ef9d0bc0cd47eca937": {
          "model_module": "@jupyter-widgets/controls",
          "model_name": "ProgressStyleModel",
          "model_module_version": "1.5.0",
          "state": {
            "_model_module": "@jupyter-widgets/controls",
            "_model_module_version": "1.5.0",
            "_model_name": "ProgressStyleModel",
            "_view_count": null,
            "_view_module": "@jupyter-widgets/base",
            "_view_module_version": "1.2.0",
            "_view_name": "StyleView",
            "bar_color": null,
            "description_width": ""
          }
        },
        "4f3eef5f2c454be791ef533a5b8046d5": {
          "model_module": "@jupyter-widgets/base",
          "model_name": "LayoutModel",
          "model_module_version": "1.2.0",
          "state": {
            "_model_module": "@jupyter-widgets/base",
            "_model_module_version": "1.2.0",
            "_model_name": "LayoutModel",
            "_view_count": null,
            "_view_module": "@jupyter-widgets/base",
            "_view_module_version": "1.2.0",
            "_view_name": "LayoutView",
            "align_content": null,
            "align_items": null,
            "align_self": null,
            "border": null,
            "bottom": null,
            "display": null,
            "flex": null,
            "flex_flow": null,
            "grid_area": null,
            "grid_auto_columns": null,
            "grid_auto_flow": null,
            "grid_auto_rows": null,
            "grid_column": null,
            "grid_gap": null,
            "grid_row": null,
            "grid_template_areas": null,
            "grid_template_columns": null,
            "grid_template_rows": null,
            "height": null,
            "justify_content": null,
            "justify_items": null,
            "left": null,
            "margin": null,
            "max_height": null,
            "max_width": null,
            "min_height": null,
            "min_width": null,
            "object_fit": null,
            "object_position": null,
            "order": null,
            "overflow": null,
            "overflow_x": null,
            "overflow_y": null,
            "padding": null,
            "right": null,
            "top": null,
            "visibility": null,
            "width": null
          }
        },
        "f8d37af2043a4463b49340bf50f435f3": {
          "model_module": "@jupyter-widgets/controls",
          "model_name": "DescriptionStyleModel",
          "model_module_version": "1.5.0",
          "state": {
            "_model_module": "@jupyter-widgets/controls",
            "_model_module_version": "1.5.0",
            "_model_name": "DescriptionStyleModel",
            "_view_count": null,
            "_view_module": "@jupyter-widgets/base",
            "_view_module_version": "1.2.0",
            "_view_name": "StyleView",
            "description_width": ""
          }
        },
        "876bf53b39e44a77af4cacb5a4f0c45f": {
          "model_module": "@jupyter-widgets/base",
          "model_name": "LayoutModel",
          "model_module_version": "1.2.0",
          "state": {
            "_model_module": "@jupyter-widgets/base",
            "_model_module_version": "1.2.0",
            "_model_name": "LayoutModel",
            "_view_count": null,
            "_view_module": "@jupyter-widgets/base",
            "_view_module_version": "1.2.0",
            "_view_name": "LayoutView",
            "align_content": null,
            "align_items": null,
            "align_self": null,
            "border": null,
            "bottom": null,
            "display": null,
            "flex": null,
            "flex_flow": null,
            "grid_area": null,
            "grid_auto_columns": null,
            "grid_auto_flow": null,
            "grid_auto_rows": null,
            "grid_column": null,
            "grid_gap": null,
            "grid_row": null,
            "grid_template_areas": null,
            "grid_template_columns": null,
            "grid_template_rows": null,
            "height": null,
            "justify_content": null,
            "justify_items": null,
            "left": null,
            "margin": null,
            "max_height": null,
            "max_width": null,
            "min_height": null,
            "min_width": null,
            "object_fit": null,
            "object_position": null,
            "order": null,
            "overflow": null,
            "overflow_x": null,
            "overflow_y": null,
            "padding": null,
            "right": null,
            "top": null,
            "visibility": null,
            "width": null
          }
        },
        "10024869d1f54874b9fc05008c3c9aa8": {
          "model_module": "@jupyter-widgets/controls",
          "model_name": "HBoxModel",
          "model_module_version": "1.5.0",
          "state": {
            "_dom_classes": [],
            "_model_module": "@jupyter-widgets/controls",
            "_model_module_version": "1.5.0",
            "_model_name": "HBoxModel",
            "_view_count": null,
            "_view_module": "@jupyter-widgets/controls",
            "_view_module_version": "1.5.0",
            "_view_name": "HBoxView",
            "box_style": "",
            "children": [
              "IPY_MODEL_cdc2f786ff5d46f8b17bfdd962a314f8",
              "IPY_MODEL_6fe88c9c20ed4662b5919342a15f8ade",
              "IPY_MODEL_3a5739b3d53249f093ad484b7b85e647"
            ],
            "layout": "IPY_MODEL_e4ab839515bb44a9b6e91723e87296fb"
          }
        },
        "e4ab839515bb44a9b6e91723e87296fb": {
          "model_module": "@jupyter-widgets/base",
          "model_name": "LayoutModel",
          "model_module_version": "1.2.0",
          "state": {
            "_model_module": "@jupyter-widgets/base",
            "_model_module_version": "1.2.0",
            "_model_name": "LayoutModel",
            "_view_count": null,
            "_view_module": "@jupyter-widgets/base",
            "_view_module_version": "1.2.0",
            "_view_name": "LayoutView",
            "align_content": null,
            "align_items": null,
            "align_self": null,
            "border": null,
            "bottom": null,
            "display": null,
            "flex": null,
            "flex_flow": null,
            "grid_area": null,
            "grid_auto_columns": null,
            "grid_auto_flow": null,
            "grid_auto_rows": null,
            "grid_column": null,
            "grid_gap": null,
            "grid_row": null,
            "grid_template_areas": null,
            "grid_template_columns": null,
            "grid_template_rows": null,
            "height": null,
            "justify_content": null,
            "justify_items": null,
            "left": null,
            "margin": null,
            "max_height": null,
            "max_width": null,
            "min_height": null,
            "min_width": null,
            "object_fit": null,
            "object_position": null,
            "order": null,
            "overflow": null,
            "overflow_x": null,
            "overflow_y": null,
            "padding": null,
            "right": null,
            "top": null,
            "visibility": null,
            "width": null
          }
        },
        "cdc2f786ff5d46f8b17bfdd962a314f8": {
          "model_module": "@jupyter-widgets/controls",
          "model_name": "HTMLModel",
          "model_module_version": "1.5.0",
          "state": {
            "_dom_classes": [],
            "_model_module": "@jupyter-widgets/controls",
            "_model_module_version": "1.5.0",
            "_model_name": "HTMLModel",
            "_view_count": null,
            "_view_module": "@jupyter-widgets/controls",
            "_view_module_version": "1.5.0",
            "_view_name": "HTMLView",
            "description": "",
            "description_tooltip": null,
            "layout": "IPY_MODEL_80d400f566024bf5a9ee9bbde8c56495",
            "placeholder": "​",
            "style": "IPY_MODEL_37d52958451d47bcb6853daf8cbd7d64",
            "value": "100%"
          }
        },
        "6fe88c9c20ed4662b5919342a15f8ade": {
          "model_module": "@jupyter-widgets/controls",
          "model_name": "FloatProgressModel",
          "model_module_version": "1.5.0",
          "state": {
            "_dom_classes": [],
            "_model_module": "@jupyter-widgets/controls",
            "_model_module_version": "1.5.0",
            "_model_name": "FloatProgressModel",
            "_view_count": null,
            "_view_module": "@jupyter-widgets/controls",
            "_view_module_version": "1.5.0",
            "_view_name": "ProgressView",
            "bar_style": "success",
            "description": "",
            "description_tooltip": null,
            "layout": "IPY_MODEL_62858601a47848c2a4314af451cab045",
            "max": 1,
            "min": 0,
            "orientation": "horizontal",
            "style": "IPY_MODEL_82c47f2ede194529be73de0a4c921e40",
            "value": 1
          }
        },
        "3a5739b3d53249f093ad484b7b85e647": {
          "model_module": "@jupyter-widgets/controls",
          "model_name": "HTMLModel",
          "model_module_version": "1.5.0",
          "state": {
            "_dom_classes": [],
            "_model_module": "@jupyter-widgets/controls",
            "_model_module_version": "1.5.0",
            "_model_name": "HTMLModel",
            "_view_count": null,
            "_view_module": "@jupyter-widgets/controls",
            "_view_module_version": "1.5.0",
            "_view_name": "HTMLView",
            "description": "",
            "description_tooltip": null,
            "layout": "IPY_MODEL_3c643c5cf22a418c9587990d626cc446",
            "placeholder": "​",
            "style": "IPY_MODEL_dadc458eb57e411ba5b12cb0f8482690",
            "value": " 1/1 [00:00&lt;00:00, 15.70it/s]"
          }
        },
        "37d52958451d47bcb6853daf8cbd7d64": {
          "model_module": "@jupyter-widgets/controls",
          "model_name": "DescriptionStyleModel",
          "model_module_version": "1.5.0",
          "state": {
            "_model_module": "@jupyter-widgets/controls",
            "_model_module_version": "1.5.0",
            "_model_name": "DescriptionStyleModel",
            "_view_count": null,
            "_view_module": "@jupyter-widgets/base",
            "_view_module_version": "1.2.0",
            "_view_name": "StyleView",
            "description_width": ""
          }
        },
        "80d400f566024bf5a9ee9bbde8c56495": {
          "model_module": "@jupyter-widgets/base",
          "model_name": "LayoutModel",
          "model_module_version": "1.2.0",
          "state": {
            "_model_module": "@jupyter-widgets/base",
            "_model_module_version": "1.2.0",
            "_model_name": "LayoutModel",
            "_view_count": null,
            "_view_module": "@jupyter-widgets/base",
            "_view_module_version": "1.2.0",
            "_view_name": "LayoutView",
            "align_content": null,
            "align_items": null,
            "align_self": null,
            "border": null,
            "bottom": null,
            "display": null,
            "flex": null,
            "flex_flow": null,
            "grid_area": null,
            "grid_auto_columns": null,
            "grid_auto_flow": null,
            "grid_auto_rows": null,
            "grid_column": null,
            "grid_gap": null,
            "grid_row": null,
            "grid_template_areas": null,
            "grid_template_columns": null,
            "grid_template_rows": null,
            "height": null,
            "justify_content": null,
            "justify_items": null,
            "left": null,
            "margin": null,
            "max_height": null,
            "max_width": null,
            "min_height": null,
            "min_width": null,
            "object_fit": null,
            "object_position": null,
            "order": null,
            "overflow": null,
            "overflow_x": null,
            "overflow_y": null,
            "padding": null,
            "right": null,
            "top": null,
            "visibility": null,
            "width": null
          }
        },
        "82c47f2ede194529be73de0a4c921e40": {
          "model_module": "@jupyter-widgets/controls",
          "model_name": "ProgressStyleModel",
          "model_module_version": "1.5.0",
          "state": {
            "_model_module": "@jupyter-widgets/controls",
            "_model_module_version": "1.5.0",
            "_model_name": "ProgressStyleModel",
            "_view_count": null,
            "_view_module": "@jupyter-widgets/base",
            "_view_module_version": "1.2.0",
            "_view_name": "StyleView",
            "bar_color": null,
            "description_width": ""
          }
        },
        "62858601a47848c2a4314af451cab045": {
          "model_module": "@jupyter-widgets/base",
          "model_name": "LayoutModel",
          "model_module_version": "1.2.0",
          "state": {
            "_model_module": "@jupyter-widgets/base",
            "_model_module_version": "1.2.0",
            "_model_name": "LayoutModel",
            "_view_count": null,
            "_view_module": "@jupyter-widgets/base",
            "_view_module_version": "1.2.0",
            "_view_name": "LayoutView",
            "align_content": null,
            "align_items": null,
            "align_self": null,
            "border": null,
            "bottom": null,
            "display": null,
            "flex": null,
            "flex_flow": null,
            "grid_area": null,
            "grid_auto_columns": null,
            "grid_auto_flow": null,
            "grid_auto_rows": null,
            "grid_column": null,
            "grid_gap": null,
            "grid_row": null,
            "grid_template_areas": null,
            "grid_template_columns": null,
            "grid_template_rows": null,
            "height": null,
            "justify_content": null,
            "justify_items": null,
            "left": null,
            "margin": null,
            "max_height": null,
            "max_width": null,
            "min_height": null,
            "min_width": null,
            "object_fit": null,
            "object_position": null,
            "order": null,
            "overflow": null,
            "overflow_x": null,
            "overflow_y": null,
            "padding": null,
            "right": null,
            "top": null,
            "visibility": null,
            "width": null
          }
        },
        "dadc458eb57e411ba5b12cb0f8482690": {
          "model_module": "@jupyter-widgets/controls",
          "model_name": "DescriptionStyleModel",
          "model_module_version": "1.5.0",
          "state": {
            "_model_module": "@jupyter-widgets/controls",
            "_model_module_version": "1.5.0",
            "_model_name": "DescriptionStyleModel",
            "_view_count": null,
            "_view_module": "@jupyter-widgets/base",
            "_view_module_version": "1.2.0",
            "_view_name": "StyleView",
            "description_width": ""
          }
        },
        "3c643c5cf22a418c9587990d626cc446": {
          "model_module": "@jupyter-widgets/base",
          "model_name": "LayoutModel",
          "model_module_version": "1.2.0",
          "state": {
            "_model_module": "@jupyter-widgets/base",
            "_model_module_version": "1.2.0",
            "_model_name": "LayoutModel",
            "_view_count": null,
            "_view_module": "@jupyter-widgets/base",
            "_view_module_version": "1.2.0",
            "_view_name": "LayoutView",
            "align_content": null,
            "align_items": null,
            "align_self": null,
            "border": null,
            "bottom": null,
            "display": null,
            "flex": null,
            "flex_flow": null,
            "grid_area": null,
            "grid_auto_columns": null,
            "grid_auto_flow": null,
            "grid_auto_rows": null,
            "grid_column": null,
            "grid_gap": null,
            "grid_row": null,
            "grid_template_areas": null,
            "grid_template_columns": null,
            "grid_template_rows": null,
            "height": null,
            "justify_content": null,
            "justify_items": null,
            "left": null,
            "margin": null,
            "max_height": null,
            "max_width": null,
            "min_height": null,
            "min_width": null,
            "object_fit": null,
            "object_position": null,
            "order": null,
            "overflow": null,
            "overflow_x": null,
            "overflow_y": null,
            "padding": null,
            "right": null,
            "top": null,
            "visibility": null,
            "width": null
          }
        },
        "f64cea80af0e48a2a5d83a07c2c550f5": {
          "model_module": "@jupyter-widgets/controls",
          "model_name": "HBoxModel",
          "model_module_version": "1.5.0",
          "state": {
            "_dom_classes": [],
            "_model_module": "@jupyter-widgets/controls",
            "_model_module_version": "1.5.0",
            "_model_name": "HBoxModel",
            "_view_count": null,
            "_view_module": "@jupyter-widgets/controls",
            "_view_module_version": "1.5.0",
            "_view_name": "HBoxView",
            "box_style": "",
            "children": [
              "IPY_MODEL_22906195e94e4e719e08029efab00ba1",
              "IPY_MODEL_e4b722e33110491f9e48dcad34152c01",
              "IPY_MODEL_76a5e10f7e5940db8bc8b6dc79a32ce4"
            ],
            "layout": "IPY_MODEL_8ed0fa2200cf4339b64da72157d214bc"
          }
        },
        "8ed0fa2200cf4339b64da72157d214bc": {
          "model_module": "@jupyter-widgets/base",
          "model_name": "LayoutModel",
          "model_module_version": "1.2.0",
          "state": {
            "_model_module": "@jupyter-widgets/base",
            "_model_module_version": "1.2.0",
            "_model_name": "LayoutModel",
            "_view_count": null,
            "_view_module": "@jupyter-widgets/base",
            "_view_module_version": "1.2.0",
            "_view_name": "LayoutView",
            "align_content": null,
            "align_items": null,
            "align_self": null,
            "border": null,
            "bottom": null,
            "display": null,
            "flex": null,
            "flex_flow": null,
            "grid_area": null,
            "grid_auto_columns": null,
            "grid_auto_flow": null,
            "grid_auto_rows": null,
            "grid_column": null,
            "grid_gap": null,
            "grid_row": null,
            "grid_template_areas": null,
            "grid_template_columns": null,
            "grid_template_rows": null,
            "height": null,
            "justify_content": null,
            "justify_items": null,
            "left": null,
            "margin": null,
            "max_height": null,
            "max_width": null,
            "min_height": null,
            "min_width": null,
            "object_fit": null,
            "object_position": null,
            "order": null,
            "overflow": null,
            "overflow_x": null,
            "overflow_y": null,
            "padding": null,
            "right": null,
            "top": null,
            "visibility": null,
            "width": null
          }
        },
        "22906195e94e4e719e08029efab00ba1": {
          "model_module": "@jupyter-widgets/controls",
          "model_name": "HTMLModel",
          "model_module_version": "1.5.0",
          "state": {
            "_dom_classes": [],
            "_model_module": "@jupyter-widgets/controls",
            "_model_module_version": "1.5.0",
            "_model_name": "HTMLModel",
            "_view_count": null,
            "_view_module": "@jupyter-widgets/controls",
            "_view_module_version": "1.5.0",
            "_view_name": "HTMLView",
            "description": "",
            "description_tooltip": null,
            "layout": "IPY_MODEL_a72207a7c3994287b3e70247586627c3",
            "placeholder": "​",
            "style": "IPY_MODEL_1c5b04340adc4d2786a8397b84e87c16",
            "value": "Iteration:   3%"
          }
        },
        "e4b722e33110491f9e48dcad34152c01": {
          "model_module": "@jupyter-widgets/controls",
          "model_name": "FloatProgressModel",
          "model_module_version": "1.5.0",
          "state": {
            "_dom_classes": [],
            "_model_module": "@jupyter-widgets/controls",
            "_model_module_version": "1.5.0",
            "_model_name": "FloatProgressModel",
            "_view_count": null,
            "_view_module": "@jupyter-widgets/controls",
            "_view_module_version": "1.5.0",
            "_view_name": "ProgressView",
            "bar_style": "",
            "description": "",
            "description_tooltip": null,
            "layout": "IPY_MODEL_88ca3a3dda4e4f6ba2a71a1735946f72",
            "max": 6877,
            "min": 0,
            "orientation": "horizontal",
            "style": "IPY_MODEL_385c4a88181a4355a7dc856af6cd2164",
            "value": 200
          }
        },
        "76a5e10f7e5940db8bc8b6dc79a32ce4": {
          "model_module": "@jupyter-widgets/controls",
          "model_name": "HTMLModel",
          "model_module_version": "1.5.0",
          "state": {
            "_dom_classes": [],
            "_model_module": "@jupyter-widgets/controls",
            "_model_module_version": "1.5.0",
            "_model_name": "HTMLModel",
            "_view_count": null,
            "_view_module": "@jupyter-widgets/controls",
            "_view_module_version": "1.5.0",
            "_view_name": "HTMLView",
            "description": "",
            "description_tooltip": null,
            "layout": "IPY_MODEL_1bc3e1e1f74b4ce9baa3bdeabd55eeb6",
            "placeholder": "​",
            "style": "IPY_MODEL_635f981d72db4bdd93281e07ce04e587",
            "value": " 200/6877 [03:04&lt;1:34:34,  1.18it/s]"
          }
        },
        "1c5b04340adc4d2786a8397b84e87c16": {
          "model_module": "@jupyter-widgets/controls",
          "model_name": "DescriptionStyleModel",
          "model_module_version": "1.5.0",
          "state": {
            "_model_module": "@jupyter-widgets/controls",
            "_model_module_version": "1.5.0",
            "_model_name": "DescriptionStyleModel",
            "_view_count": null,
            "_view_module": "@jupyter-widgets/base",
            "_view_module_version": "1.2.0",
            "_view_name": "StyleView",
            "description_width": ""
          }
        },
        "a72207a7c3994287b3e70247586627c3": {
          "model_module": "@jupyter-widgets/base",
          "model_name": "LayoutModel",
          "model_module_version": "1.2.0",
          "state": {
            "_model_module": "@jupyter-widgets/base",
            "_model_module_version": "1.2.0",
            "_model_name": "LayoutModel",
            "_view_count": null,
            "_view_module": "@jupyter-widgets/base",
            "_view_module_version": "1.2.0",
            "_view_name": "LayoutView",
            "align_content": null,
            "align_items": null,
            "align_self": null,
            "border": null,
            "bottom": null,
            "display": null,
            "flex": null,
            "flex_flow": null,
            "grid_area": null,
            "grid_auto_columns": null,
            "grid_auto_flow": null,
            "grid_auto_rows": null,
            "grid_column": null,
            "grid_gap": null,
            "grid_row": null,
            "grid_template_areas": null,
            "grid_template_columns": null,
            "grid_template_rows": null,
            "height": null,
            "justify_content": null,
            "justify_items": null,
            "left": null,
            "margin": null,
            "max_height": null,
            "max_width": null,
            "min_height": null,
            "min_width": null,
            "object_fit": null,
            "object_position": null,
            "order": null,
            "overflow": null,
            "overflow_x": null,
            "overflow_y": null,
            "padding": null,
            "right": null,
            "top": null,
            "visibility": null,
            "width": null
          }
        },
        "385c4a88181a4355a7dc856af6cd2164": {
          "model_module": "@jupyter-widgets/controls",
          "model_name": "ProgressStyleModel",
          "model_module_version": "1.5.0",
          "state": {
            "_model_module": "@jupyter-widgets/controls",
            "_model_module_version": "1.5.0",
            "_model_name": "ProgressStyleModel",
            "_view_count": null,
            "_view_module": "@jupyter-widgets/base",
            "_view_module_version": "1.2.0",
            "_view_name": "StyleView",
            "bar_color": null,
            "description_width": ""
          }
        },
        "88ca3a3dda4e4f6ba2a71a1735946f72": {
          "model_module": "@jupyter-widgets/base",
          "model_name": "LayoutModel",
          "model_module_version": "1.2.0",
          "state": {
            "_model_module": "@jupyter-widgets/base",
            "_model_module_version": "1.2.0",
            "_model_name": "LayoutModel",
            "_view_count": null,
            "_view_module": "@jupyter-widgets/base",
            "_view_module_version": "1.2.0",
            "_view_name": "LayoutView",
            "align_content": null,
            "align_items": null,
            "align_self": null,
            "border": null,
            "bottom": null,
            "display": null,
            "flex": null,
            "flex_flow": null,
            "grid_area": null,
            "grid_auto_columns": null,
            "grid_auto_flow": null,
            "grid_auto_rows": null,
            "grid_column": null,
            "grid_gap": null,
            "grid_row": null,
            "grid_template_areas": null,
            "grid_template_columns": null,
            "grid_template_rows": null,
            "height": null,
            "justify_content": null,
            "justify_items": null,
            "left": null,
            "margin": null,
            "max_height": null,
            "max_width": null,
            "min_height": null,
            "min_width": null,
            "object_fit": null,
            "object_position": null,
            "order": null,
            "overflow": null,
            "overflow_x": null,
            "overflow_y": null,
            "padding": null,
            "right": null,
            "top": null,
            "visibility": null,
            "width": null
          }
        },
        "635f981d72db4bdd93281e07ce04e587": {
          "model_module": "@jupyter-widgets/controls",
          "model_name": "DescriptionStyleModel",
          "model_module_version": "1.5.0",
          "state": {
            "_model_module": "@jupyter-widgets/controls",
            "_model_module_version": "1.5.0",
            "_model_name": "DescriptionStyleModel",
            "_view_count": null,
            "_view_module": "@jupyter-widgets/base",
            "_view_module_version": "1.2.0",
            "_view_name": "StyleView",
            "description_width": ""
          }
        },
        "1bc3e1e1f74b4ce9baa3bdeabd55eeb6": {
          "model_module": "@jupyter-widgets/base",
          "model_name": "LayoutModel",
          "model_module_version": "1.2.0",
          "state": {
            "_model_module": "@jupyter-widgets/base",
            "_model_module_version": "1.2.0",
            "_model_name": "LayoutModel",
            "_view_count": null,
            "_view_module": "@jupyter-widgets/base",
            "_view_module_version": "1.2.0",
            "_view_name": "LayoutView",
            "align_content": null,
            "align_items": null,
            "align_self": null,
            "border": null,
            "bottom": null,
            "display": null,
            "flex": null,
            "flex_flow": null,
            "grid_area": null,
            "grid_auto_columns": null,
            "grid_auto_flow": null,
            "grid_auto_rows": null,
            "grid_column": null,
            "grid_gap": null,
            "grid_row": null,
            "grid_template_areas": null,
            "grid_template_columns": null,
            "grid_template_rows": null,
            "height": null,
            "justify_content": null,
            "justify_items": null,
            "left": null,
            "margin": null,
            "max_height": null,
            "max_width": null,
            "min_height": null,
            "min_width": null,
            "object_fit": null,
            "object_position": null,
            "order": null,
            "overflow": null,
            "overflow_x": null,
            "overflow_y": null,
            "padding": null,
            "right": null,
            "top": null,
            "visibility": null,
            "width": null
          }
        }
      }
    }
  },
  "cells": [
    {
      "cell_type": "markdown",
      "metadata": {
        "id": "view-in-github",
        "colab_type": "text"
      },
      "source": [
        "<a href=\"https://colab.research.google.com/github/YaoYinYing/low-n-protein-engineering/blob/master/Low-N_engineering_evotuning_hyperparameter_training.ipynb\" target=\"_parent\"><img src=\"https://colab.research.google.com/assets/colab-badge.svg\" alt=\"Open In Colab\"/></a>"
      ]
    },
    {
      "cell_type": "code",
      "metadata": {
        "colab": {
          "base_uri": "https://localhost:8080/",
          "height": 236,
          "referenced_widgets": [
            "e68d85a744754953b0e02c3ae8638fd6",
            "4e31a18d753f485ea070ff9a6756b9f3",
            "014c65184324447f8aa413187a08e01a",
            "cd9e71a9e27b4f298f571900de248819",
            "ae78bca02c3d443e9a8158a3d3f0d56d",
            "5b8e86560d234d62bf7c0521bab1418e",
            "a34b819eb5ad4bd58550e81513cc3cda",
            "4c982593cacf4441be070c7ae7889a01",
            "c54a61afa12d4d11b1c7884955ed9a3b",
            "2794584f6134410182f87828c861b8d8",
            "c72242495dd54730ae4dfb8d85609783",
            "92cfa0366d8d4aa79380b55c62c30742"
          ]
        },
        "id": "zGH1AnVJYguR",
        "cellView": "form",
        "outputId": "2e0ca228-9b53-4677-9b56-6cdbef20814b"
      },
      "source": [
        "#@title Install softwares\n",
        "import os\n",
        "import glob\n",
        "import pathlib\n",
        "import sys\n",
        "import time\n",
        "import traceback\n",
        "import pickle\n",
        "import re\n",
        "from IPython.utils import io\n",
        "import subprocess\n",
        "import tqdm.notebook\n",
        "import urllib3\n",
        "import gzip\n",
        "\n",
        "\n",
        "try:\n",
        "  from google.colab import files\n",
        "  IN_COLAB = True\n",
        "except:\n",
        "  IN_COLAB = False\n",
        "\n",
        "TQDM_BAR_FORMAT = '{l_bar}{bar}| {n_fmt}/{total_fmt} [elapsed: {elapsed} remaining: {remaining}]'\n",
        "\n",
        "JAX_UNIREP_REPO='https://github.com/ElArkk/jax-unirep.git'\n",
        "DOWNLOAD_PFAM_SCRIPT='https://raw.githubusercontent.com/xqding/PEVAE_Paper/master/pfam_msa/script/download_MSA.py'\n",
        "ENTREZ_URL='ftp://ftp.ncbi.nlm.nih.gov/entrez/entrezdirect//install-edirect.sh'\n",
        "\n",
        "ROOT_DIR='.'\n",
        "TMP_DIR = f\"{ROOT_DIR}/tmp\"\n",
        "\n",
        "SCRIPTS_DIR=f'{TMP_DIR}/scripts'\n",
        "FLAG_DIR=f'{TMP_DIR}/flag'\n",
        "WEIGHTS_DIR=f'{TMP_DIR}/weights'\n",
        "\n",
        "JOBS_DIR=f'{ROOT_DIR}/jobs'\n",
        "\n",
        "RES_DIR=f'{ROOT_DIR}/results'\n",
        "RES_DIR_MSA=f\"{RES_DIR}/MSA\"\n",
        "RES_DIR_BLAST=f\"{RES_DIR}/MSA/blast\"\n",
        "RES_DIR_FITNESS=f\"{RES_DIR}/fitness\"\n",
        "RES_DIR_SEQ_OUT=f\"{RES_DIR}/sequence_out\"\n",
        "RES_DIR_PICKLE=f'{RES_DIR}/pickle'\n",
        "RES_DIR_REPORT=f'{RES_DIR}/report'\n",
        "RES_DIR_FEATURE=f'{RES_DIR}/feature'\n",
        "RES_DIR_FIGURE=f'{RES_DIR}/figure'\n",
        "pathes=['/usr/local/cuda-11.4/bin']\n",
        "libpathes=['/usr/local/cuda-11.4/lib64']\n",
        "\n",
        "CONDA_PATH='/opt/anaconda3'\n",
        "\n",
        "# if not already installed\n",
        "total = 3\n",
        "with tqdm.notebook.tqdm(total=total, bar_format=TQDM_BAR_FORMAT) as pbar:\n",
        "  for dir in [ROOT_DIR,\n",
        "              TMP_DIR,FLAG_DIR,WEIGHTS_DIR,SCRIPTS_DIR,\n",
        "              JOBS_DIR,\n",
        "              RES_DIR,RES_DIR_MSA,RES_DIR_BLAST,RES_DIR_FITNESS,RES_DIR_SEQ_OUT,RES_DIR_PICKLE,RES_DIR_REPORT,RES_DIR_FEATURE,RES_DIR_FIGURE]:\n",
        "    os.makedirs(dir, exist_ok=True)\n",
        "  pbar.update(1)\n",
        "\n",
        "  for path in pathes:\n",
        "    if f\"{pathlib.Path(path).resolve()}\" not in os.environ['PATH']:\n",
        "      os.environ['PATH'] = f\"{pathlib.Path(path).resolve()}:{os.environ['PATH']}\"\n",
        "  '''\n",
        "  for path in libpathes:\n",
        "    if f\"{pathlib.Path(path).resolve()}\" not in os.environ['LD_LIBRARY_PATH']:\n",
        "      os.environ['LD_LIBRARY_PATH'] = f\"{pathlib.Path(path).resolve()}:{os.environ['LD_LIBRARY_PATH'] }\"\n",
        "  '''\n",
        "  pbar.update(1)\n",
        "\n",
        "\n",
        "  # weights\n",
        "  #os.system(f'if [ ! -f {FLAG_DIR}/WEIGHT_READY ]; then cd {WEIGHTS_DIR}; for i in 1900_weights/ 256_weights/ 64_weights/ 1900_weights_random/ 256_weights_random/ 64_weights_random/ evotuned/unirep/ evotuned/random_init/; do echo $i; aws s3 sync --no-sign-request s3://unirep-public/$i $i; done;touch {pathlib.Path(FLAG_DIR).resolve()}/WEIGHT_READY;fi')\n",
        "  pbar.update(1)\n",
        "  "
      ],
      "execution_count": null,
      "outputs": [
        {
          "data": {
            "application/vnd.jupyter.widget-view+json": {
              "model_id": "92cfa0366d8d4aa79380b55c62c30742",
              "version_major": 2,
              "version_minor": 0
            },
            "text/plain": [
              "  0%|          | 0/3 [elapsed: 00:00 remaining: ?]"
            ]
          },
          "metadata": {},
          "output_type": "display_data"
        }
      ]
    },
    {
      "cell_type": "code",
      "metadata": {
        "cellView": "form",
        "id": "Bv-BY4QfkHwq"
      },
      "source": [
        "#@title Goto GPU part if all data were collected."
      ],
      "execution_count": null,
      "outputs": []
    },
    {
      "cell_type": "code",
      "metadata": {
        "cellView": "form",
        "id": "6mr4k4TgvQqF"
      },
      "source": [
        "#@title GPU PART!\n",
        "'''\n",
        "! cp -r /gdrive/MyDrive/low-n-data/* .\n",
        "\n",
        "\n",
        "ROOT_DIR='.'\n",
        "TMP_DIR = f\"{ROOT_DIR}/tmp\"\n",
        "\n",
        "SCRIPTS_DIR=f'{TMP_DIR}/scripts'\n",
        "FLAG_DIR=f'{TMP_DIR}/flag'\n",
        "WEIGHTS_DIR=f'{TMP_DIR}/weights'\n",
        "\n",
        "JOBS_DIR=f'{ROOT_DIR}/jobs'\n",
        "\n",
        "RES_DIR=f'{ROOT_DIR}/results'\n",
        "RES_DIR_MSA=f\"{RES_DIR}/MSA\"\n",
        "RES_DIR_FITNESS=f\"{RES_DIR}/fitness\"\n",
        "RES_DIR_SEQ_OUT=f\"{RES_DIR}/sequence_out\"\n",
        "RES_DIR_PICKLE=f'{RES_DIR}/pickle'\n",
        "RES_DIR_REPORT=f'{RES_DIR}/report'\n",
        "RES_DIR_FEATURE=f'{RES_DIR}/feature'\n",
        "RES_DIR_FIGURE=f'{RES_DIR}/figure'\n",
        "'''\n",
        "\n",
        "target_fasta = f'{JOBS_DIR}/890.fasta'\n",
        "target_fasta=pathlib.Path(target_fasta).resolve()\n",
        "job_name=target_fasta.name\n"
      ],
      "execution_count": null,
      "outputs": []
    },
    {
      "cell_type": "code",
      "metadata": {
        "id": "t4Xy-4mxuF1n"
      },
      "source": [
        "#@title Fetching P450 data(210 MB for InterPro ?Did we fetch all the data?)\n",
        "\n",
        "P450_FASTA_URL=\"./data/IPR001128.fasta.tar.bz2\"\n",
        "os.system(f'cp {P450_FASTA_URL} {RES_DIR_MSA}')\n",
        "os.system(f'cd {RES_DIR_MSA}; tar xjvf IPR001128.fasta.tar.bz2; mv IPR001128.fasta.tar.bz2 ..')\n",
        "\n",
        "\n",
        "P450_TARGET_URL='./data/890.fasta'\n",
        "os.system(f'cp {P450_TARGET_URL}  {JOBS_DIR}')\n",
        "\n",
        "P450_BLAST_RES_URL='./data/blast_res_890.fasta.tar.bz2'\n",
        "os.system(f'cp  {P450_BLAST_RES_URL} {RES_DIR_MSA} && cd {RES_DIR_MSA} &&  tar xvjf blast_res_890.fasta.tar.bz2')\n",
        "\n",
        "\n",
        "P450_EXPERI_DATA_URL='./data/P450_experi_data_encoded.csv'\n",
        "os.system(f'cp {P450_EXPERI_DATA_URL}  {RES_DIR_FITNESS}' )"
      ],
      "execution_count": null,
      "outputs": []
    },
    {
      "cell_type": "code",
      "metadata": {
        "cellView": "form",
        "id": "u_McY7bpvEc1"
      },
      "source": [
        "#@title Generate Inputs for Evotuning eUniRep for P450 family\n",
        "# https://github.com/ivanjayapurna/low-n-protein-engineering/blob/master/pre-evotuning/generate_evotune_inputs_2MS2.ipynb\n",
        "\n",
        "from Bio import SeqIO\n",
        "import pandas as pd\n",
        "import re\n",
        "from Levenshtein import distance\n",
        "import numpy as np\n",
        "import matplotlib.pyplot as plt"
      ],
      "execution_count": null,
      "outputs": []
    },
    {
      "cell_type": "code",
      "metadata": {
        "cellView": "form",
        "id": "oliHDKGJCYXH"
      },
      "source": [
        " #@title Functions:\n",
        "\n",
        "# read FASTA file:\n",
        "# input: file name\n",
        "# output: names and sequences in the file as an array of dim-2 arrays [name, sequence].\n",
        "def read_fasta(name):\n",
        "    # Yinying edited here bcs pfam provides stockholm formated file. \n",
        "    # PFam use stockholm while InterPro use fasta\n",
        "    \n",
        "    fasta_seqs = SeqIO.parse(open( name ), name.suffix.replace(\".\",''))\n",
        "    data = []\n",
        "    for fasta in fasta_seqs:\n",
        "        data.append([fasta.id, str(fasta.seq).strip()])\n",
        "    return data\n",
        "\n",
        "\n",
        "# write FASTA file:\n",
        "# input: file name; df to write\n",
        "def write_fasta(name, seqs_df):\n",
        "    out_file = open(f'{RES_DIR_SEQ_OUT}/{name}_out.fasta', \"w\")\n",
        "    for i in range(len(seqs_df)):\n",
        "        out_file.write('>' + seqs_df.name[i] + '\\n')\n",
        "        out_file.write(seqs_df.sequence[i] + '\\n')\n",
        "    out_file.close()\n",
        "\n",
        "\n",
        "# input: takes in a sequence\n",
        "# output: True if a sequence contains only standard amino acids, returns False if contains non-standard ones.\n",
        "def validate(seq, pattern=re.compile(r'^[FIWLVMYCATHGSQRKNEPD]+$')):\n",
        "    if (pattern.match(seq)):\n",
        "        return True\n",
        "    return False\n",
        "\n",
        "    \n",
        "# Remove sequences longer than k residues and with non-standard residues\n",
        "# inputs: seqs_df = dataframe of name, sequence; k = max lenght of residues to keep\n",
        "# output: cleaned dataframe\n",
        "def clean(seqs_df, k):\n",
        "    # remove sequences with length > 1000 AA's\n",
        "    rows2drop = []\n",
        "    for i in range(len(seqs_df)):\n",
        "        if (len(seqs_df.sequence[i]) > k):\n",
        "            rows2drop.append(i)\n",
        "\n",
        "    print('Total number of sequences dropped due to length >', k, ':', len(rows2drop))\n",
        "\n",
        "    seqs_df = seqs_df.drop(rows2drop).reset_index().drop('index', axis=1)\n",
        "\n",
        "    print('Total number of sequences remaining:', len(seqs_df))\n",
        "    \n",
        "    # remove sequences with invalid AA residues\n",
        "    # valid_alphabet = ['F','I','W','L','V','M','Y','C','A','T','H','G','S','Q','R','K','N','E','P','D']\n",
        "    invalid_seqs = []\n",
        "\n",
        "    for i in range(len(seqs_df)):\n",
        "        if (not validate(seqs_df.sequence[i])):\n",
        "            invalid_seqs.append(i)\n",
        "\n",
        "    print('Total number of invalid sequences dropped:', len(invalid_seqs))\n",
        "\n",
        "    seqs_df = seqs_df.drop(invalid_seqs).reset_index().drop('index', axis=1)\n",
        "\n",
        "    print('Total number of valid sequences remaining:', len(seqs_df))\n",
        "    \n",
        "    \n",
        "    seqs_df = seqs_df.drop_duplicates(subset='sequence').reset_index().drop('index', axis=1)\n",
        "\n",
        "    print('Total sequences remaining after duplicate removal', len(seqs_df))\n",
        "\n",
        "    \n",
        "    return seqs_df\n",
        "\n",
        "\n",
        "# calculate the Levenstein distance of mulitple sequences to a target sequence\n",
        "# also plots a histogram of distances\n",
        "# inputs: t_seq = target sequence; seqs_df = dataframe of sequences;\n",
        "# num_bins = bins for histogram; hist_range = range for histogram\n",
        "# outputs: numpy array of distances\n",
        "def lev_dist(t_seq, seqs_df, num_bins=20, hist_range=(0,350)):\n",
        "    distances = []\n",
        "    for i in range(len(seqs_df)):\n",
        "        distances.append(distance(t_seq, seqs_df.sequence[i]))\n",
        "    distances = np.array(distances)\n",
        "\n",
        "    mean_dist = np.mean(distances)\n",
        "    median_dist = np.median(distances)\n",
        "    min_dist = np.min(distances)\n",
        "    max_dist = np.max(distances)\n",
        "    \n",
        "    print(\"Mean Levenstein distance:\", mean_dist)\n",
        "    print(\"Median Levenstein distance:\", mean_dist)\n",
        "    print(\"Min Levenstein distance:\", min_dist)\n",
        "    print(\"Max Levenstein distance:\", max_dist)\n",
        "\n",
        "    \n",
        "    # histogram of Levenstein distances from target sequence\n",
        "    plt.clf()\n",
        "    plt.hist(distances, bins=num_bins, range=hist_range)\n",
        "    plt.show()\n",
        "    \n",
        "    return distances\n",
        "\n",
        "\n",
        "\n",
        "\"\"\"\n",
        "File formatting note.\n",
        "Data should be preprocessed as a sequence of comma-seperated ints with\n",
        "sequences  /n seperated\n",
        "\"\"\"\n",
        "\n",
        "# Lookup tables\n",
        "aa_to_int = {\n",
        "    'M':1,\n",
        "    'R':2,\n",
        "    'H':3,\n",
        "    'K':4,\n",
        "    'D':5,\n",
        "    'E':6,\n",
        "    'S':7,\n",
        "    'T':8,\n",
        "    'N':9,\n",
        "    'Q':10,\n",
        "    'C':11,\n",
        "    'U':12,\n",
        "    'G':13,\n",
        "    'P':14,\n",
        "    'A':15,\n",
        "    'V':16,\n",
        "    'I':17,\n",
        "    'F':18,\n",
        "    'Y':19,\n",
        "    'W':20,\n",
        "    'L':21,\n",
        "    'O':22, #Pyrrolysine\n",
        "    'X':23, # Unknown\n",
        "    'Z':23, # Glutamic acid or GLutamine\n",
        "    'B':23, # Asparagine or aspartic acid\n",
        "    'J':23, # Leucine or isoleucine\n",
        "    'start':24,\n",
        "    'stop':25,\n",
        "}\n",
        "\n",
        "int_to_aa = {value:key for key, value in aa_to_int.items()}\n",
        "\n",
        "def get_aa_to_int():\n",
        "    \"\"\"\n",
        "    Get the lookup table (for easy import)\n",
        "    \"\"\"\n",
        "    return aa_to_int\n",
        "\n",
        "def get_int_to_aa():\n",
        "    \"\"\"\n",
        "    Get the lookup table (for easy import)\n",
        "    \"\"\"\n",
        "    return int_to_aa\n",
        "    \n",
        "def aa_seq_to_int(s):\n",
        "    \"\"\"\n",
        "    Return the int sequence as a list for a given string of amino acids\n",
        "    \"\"\"\n",
        "    return [24] + [aa_to_int[a] for a in s] + [25]\n",
        "\n",
        "def int_seq_to_aa(s):\n",
        "    \"\"\"\n",
        "    Return the int sequence as a list for a given string of amino acids\n",
        "    \"\"\"\n",
        "    return \"\".join([int_to_aa[i] for i in s])\n",
        "\n",
        "    \n",
        "def format_seq(seq,stop=False):\n",
        "    \"\"\"\n",
        "    Takes an amino acid sequence, returns a list of integers in the codex of the babbler.\n",
        "    Here, the default is to strip the stop symbol (stop=False) which would have \n",
        "    otherwise been added to the end of the sequence. If you are trying to generate\n",
        "    a rep, do not include the stop. It is probably best to ignore the stop if you are\n",
        "    co-tuning the babbler and a top model as well.\n",
        "    \"\"\"\n",
        "    if stop:\n",
        "        int_seq = aa_seq_to_int(seq.strip())\n",
        "    else:\n",
        "        int_seq = aa_seq_to_int(seq.strip())[:-1]\n",
        "    return int_seq\n",
        "\n",
        "def is_valid_seq(seq, max_len=2000):\n",
        "    \"\"\"\n",
        "    True if seq is valid for the babbler, False otherwise.\n",
        "    \"\"\"\n",
        "    l = len(seq)\n",
        "    valid_aas = \"MRHKDESTNQCUGPAVIFYWLO\"\n",
        "    if (l < max_len) and set(seq) <= set(valid_aas):\n",
        "        return True\n",
        "    else:\n",
        "        return False\n",
        "\n",
        "def fasta_to_input(in_path):\n",
        "    source = SeqIO.parse(in_path + '.fasta.txt','fasta')\n",
        "    with open(in_path + \"_formatted.fasta.txt\", \"w\") as destination:\n",
        "        for seq in fasta_seqs:\n",
        "            seq = seq.strip()\n",
        "            if is_valid_seq(seq) and len(seq) < 275: \n",
        "                formatted = \",\".join(map(str,format_seq(seq)))\n",
        "                destination.write(formatted)\n",
        "                destination.write('\\n')\n",
        "\n",
        "def seqs_to_input(name, in_seqs, stop=False):\n",
        "    with open('outputs/' + name + \"_formatted.fasta.txt\", \"w\") as destination:\n",
        "        for seq in in_seqs:\n",
        "            seq = seq.strip()\n",
        "            if is_valid_seq(seq): \n",
        "                formatted = \",\".join(map(str,format_seq(seq, stop=stop)))\n",
        "                destination.write(formatted)\n",
        "                destination.write('\\n')"
      ],
      "execution_count": null,
      "outputs": []
    },
    {
      "cell_type": "code",
      "metadata": {
        "id": "Bm1And7DCYXJ",
        "outputId": "768b9bc8-4276-40c0-b4b8-cf9d7f1264ae"
      },
      "source": [
        "!echo $CONDA_PREFIX"
      ],
      "execution_count": null,
      "outputs": [
        {
          "name": "stdout",
          "output_type": "stream",
          "text": [
            "/opt/anaconda3\r\n"
          ]
        }
      ]
    },
    {
      "cell_type": "code",
      "metadata": {
        "cellView": "form",
        "id": "rGk50PMQmqsk"
      },
      "source": [
        "#@title Read protein family and clean the data for evotuning.\n",
        "import glob\n",
        "\n",
        "\n",
        "# input FASTA files:\n",
        "in_fastas = [pathlib.Path(x).resolve() for x in glob.glob(f\"{RES_DIR_MSA}/*\") if x.endswith('.fasta')]\n",
        "\n",
        "# put sequences into a pandas dataframes\n",
        "sequences_df = pd.concat([pd.DataFrame(read_fasta(in_fastas[i]), columns = ['name', 'sequence']) for i in range(len(in_fastas))], axis=0).reset_index().drop('index', axis=1)\n",
        "\n",
        "print('Total number of input sequences:', len(sequences_df))\n",
        "\n",
        "# clean the sequences:\n",
        "# the number here is the AA length we want - set to 350\n",
        "clean_seqs_df = clean(sequences_df, 600)\n",
        "\n",
        "# save clean sequences as a .fasta.txt file\n",
        "write_fasta('P450_all_sequences_clean', clean_seqs_df)"
      ],
      "execution_count": null,
      "outputs": []
    },
    {
      "cell_type": "code",
      "metadata": {
        "cellView": "form",
        "id": "81daol__wnNz"
      },
      "source": [
        "#@title Check P450 sequences\n",
        "sequences_df.head()"
      ],
      "execution_count": null,
      "outputs": []
    },
    {
      "cell_type": "code",
      "metadata": {
        "cellView": "form",
        "colab": {
          "base_uri": "https://localhost:8080/"
        },
        "id": "3Xqkt9J8ElxT",
        "outputId": "2a22c8fa-4d70-46df-b752-5256a53ef7ee"
      },
      "source": [
        "#@title load target sequence\n",
        "\n",
        "targets = read_fasta(target_fasta)\n",
        "print(targets[0][0])\n",
        "print(targets[0][1])"
      ],
      "execution_count": null,
      "outputs": [
        {
          "name": "stdout",
          "output_type": "stream",
          "text": [
            "NP_001289636.1\n",
            "MWTILLGLATLAIAYYIHWVNKWKDSKFNGVLPPGTMGLPLIGETIQLSRPSDSLDVHPFIQRKVKRYGPIFKTCLAGRPVVVSTDAEFNHYIMLQEGRAVEMWYLDTLSKFFGLDTEWLKALGLIHKYIRSITLNHFGAESLRERFLPRIEESARETLHYWSTQTSVEVKESAAAMVFRTSIVKMFSEDSSKLLTEGLTKKFTGLLGGFLTLPLNLPGTTYHKCIKDMKQIQKKLKDILEERLAKGVKIDEDFLGQAIKDKESQQFISEEFIIQLLFSISFASFESISTTLTLILNFLADHPDVVKELEAEHEAIRKARADPDGPITWEEYKSMNFTLNVICETLRLGSVTPALLRKTTKEIQIKGYTIPEGWTVMLVTASRHRDPEVYKDPDTFNPWRWKELDSITIQKNFMPFGGGLRHCAGAEYSKVYLCTFLHILFTKYRWRKLKGGKIARAHILRFEDGLYVNFTPKE\n"
          ]
        }
      ]
    },
    {
      "cell_type": "code",
      "metadata": {
        "cellView": "form",
        "id": "JJUEOFVdE8NK"
      },
      "source": [
        "#@title calculate levenstein distance from chosen target sequence\n",
        "distances = lev_dist(targets[0][1], clean_seqs_df, 30, (0,300))"
      ],
      "execution_count": null,
      "outputs": []
    },
    {
      "cell_type": "code",
      "metadata": {
        "cellView": "form",
        "id": "U8s4B4C0E_SC"
      },
      "source": [
        "#@title partition into the training and 2 validation sets:\n",
        "\n",
        "clean_seqs_df_copy = clean_seqs_df.copy()\n",
        "out_domain_val_set = clean_seqs_df_copy.sample(frac=0.1, weights=distances**4, random_state=17)\n",
        "remainder_df = clean_seqs_df_copy.drop(out_domain_val_set.index)\n",
        "#train_set = remainder_df.sample(frac=0.889, random_state=17)\n",
        "#in_domain_val_set = remainder_df.drop(train_set.index)\n",
        "\n",
        "# set check sizes and levenstein distances\n",
        "print('Out of domain validation set size:', len(out_domain_val_set))\n",
        "out_dom_distances = lev_dist(targets[0][1], out_domain_val_set.reset_index().drop('index', axis=1), 30, (0,300))\n",
        "\n",
        "#print('In domain validation set size:', len(in_domain_val_set))\n",
        "\n",
        "print('Training set size:', len(remainder_df))\n",
        "training_distances = lev_dist(targets[0][1], remainder_df.reset_index().drop('index', axis=1), 30, (0,300))"
      ],
      "execution_count": null,
      "outputs": []
    },
    {
      "cell_type": "code",
      "metadata": {
        "cellView": "form",
        "id": "DGJwmzFxFINn"
      },
      "source": [
        "#@title save to fasta file formats:\n",
        "\n",
        "write_fasta(f'{job_name}_train_set', remainder_df.reset_index().drop('index', axis=1))\n",
        "write_fasta(f'{job_name}_out_domain_val_set', out_domain_val_set.reset_index().drop('index', axis=1))\n",
        "#write_fasta('in_domain_val_set', in_domain_val_set.reset_index().drop('index', axis=1))"
      ],
      "execution_count": null,
      "outputs": []
    },
    {
      "cell_type": "code",
      "metadata": {
        "colab": {
          "base_uri": "https://localhost:8080/",
          "height": 198,
          "referenced_widgets": [
            "c2486edc3bcc4d8cb75f9b574917d0e1",
            "94bf01d77eb247fcbc91ce7b061998e6",
            "5ebafb5c9a6240c7bf476d387d03160c",
            "e7a5fdbc27b546eb920a3efc9a34904a",
            "1d377ee50e3743c18946794412590d66",
            "b0bab411cda84d2faec2dc79b366acfd",
            "e0e9ba0e46cb4c16852a313dd186abdc",
            "d99d77a1136b40ef9d0bc0cd47eca937",
            "4f3eef5f2c454be791ef533a5b8046d5",
            "f8d37af2043a4463b49340bf50f435f3",
            "876bf53b39e44a77af4cacb5a4f0c45f",
            "10024869d1f54874b9fc05008c3c9aa8",
            "e4ab839515bb44a9b6e91723e87296fb",
            "cdc2f786ff5d46f8b17bfdd962a314f8",
            "6fe88c9c20ed4662b5919342a15f8ade",
            "3a5739b3d53249f093ad484b7b85e647",
            "37d52958451d47bcb6853daf8cbd7d64",
            "80d400f566024bf5a9ee9bbde8c56495",
            "82c47f2ede194529be73de0a4c921e40",
            "62858601a47848c2a4314af451cab045",
            "dadc458eb57e411ba5b12cb0f8482690",
            "3c643c5cf22a418c9587990d626cc446",
            "f64cea80af0e48a2a5d83a07c2c550f5",
            "8ed0fa2200cf4339b64da72157d214bc",
            "22906195e94e4e719e08029efab00ba1",
            "e4b722e33110491f9e48dcad34152c01",
            "76a5e10f7e5940db8bc8b6dc79a32ce4",
            "1c5b04340adc4d2786a8397b84e87c16",
            "a72207a7c3994287b3e70247586627c3",
            "385c4a88181a4355a7dc856af6cd2164",
            "88ca3a3dda4e4f6ba2a71a1735946f72",
            "635f981d72db4bdd93281e07ce04e587",
            "1bc3e1e1f74b4ce9baa3bdeabd55eeb6",
            "4561c01b00444d2ab6280dc5ce98d328",
            "3d42bc67e60546b49014663f8deb37c3",
            "c4f3827469c54c3da1693e7c99d0d9a9",
            "d385c77c63944f5d94d8c9dc51352e2e",
            "ce0b6d04cc834eaa8477b7e4931639d5",
            "7ca3222e63064ce784a6f0f0481c5600",
            "c9f62a5dd9ce4bc8b6f21d58eed73154",
            "ee0f0a9b51634488a1b90824a36f6e27",
            "b092f56d13a84b0aab3522caadd6dca0",
            "e3098cef2ae0443d8e8237ea679ec9ba",
            "1ae0c8d8b1604fd5a2749ddd9b99edd6",
            "b23e420804f941af9024802bda3bb095",
            "1e4be49c717a4afba977a158d15632a4",
            "c195b505e28045e48b254099326656f5",
            "77066dccb2d54583884129dbb4444deb",
            "f2241a73f7314c259e323e82c34d7936",
            "cb2df04bc69d4bfd9d21dc05e9633eb4",
            "db5cdfff21c94744a45801cd45b1d69a",
            "738ffbf7f2104ac588892c42a1870525",
            "dc194bf6755d4c10a939b643fc9a1b14",
            "f71f0095f3874cb5b9acb8f17a346e56",
            "52a11e16c68f48c6885db0181d54cba2",
            "4c084530fb114cec9cec33995e7b70de",
            "10c7319c1152486fb10d9be0b0a3fb7d",
            "00396a7b51764c8ba70bc4f9b6f5c18e",
            "2d9c92650a8f46fe8040e144d2ce41ce",
            "c89b5d8d9cd84edc82a54f98759145fc",
            "65741e50b16d4abbb711b8e78a0fc864",
            "25217a52dc8f4fd6aae7183aae973a62",
            "826ea201ab1d48e7bb9ac2ddbf32401f",
            "eb1293c5027b4da0ba94064f304caee6",
            "049adf26a00e4047932731337b4bf6a4",
            "b215a3bcc3724da3be62687022f4b08e",
            "79e3dcde2908447f83cd56e26a22b1ad",
            "45a3b55477284cfbaf9dd1f63cf31533",
            "7d7d471335be45628f303dab86c9aed8",
            "c6813b6e1a814d098b4ef56710be7d93",
            "28d1323e41fc4bb7974485eddb7daf53",
            "419113f62bfd44a0a9a47e0740d77409",
            "99c6832e691e485092f8582c2cd2bb05",
            "97ea0823a8984cf18e47c0d076873da4",
            "ace4484216784c5c96816df74246c448"
          ]
        },
        "id": "Lc1nrYdrGP-U",
        "scrolled": false,
        "cellView": "form",
        "outputId": "07981589-c84a-43f2-ea69-d3ebb8b16090"
      },
      "source": [
        "#@title Evotuning\n",
        "# https://github.com/ElArkk/jax-unirep/blob/master/examples/evotuning.py\n",
        "\"\"\"Evotuning two ways!\"\"\"\n",
        "\n",
        "from pathlib import Path\n",
        "\n",
        "from jax.random import PRNGKey\n",
        "\n",
        "from jax_unirep import evotune\n",
        "from jax_unirep.evotuning_models import mlstm1900\n",
        "from jax_unirep.utils import dump_params\n",
        "from jax_unirep.utils import load_params\n",
        "from functools import partial\n",
        "\n",
        "# Test sequences:\n",
        "sequences = [x[1] for x in read_fasta(Path(f'{RES_DIR_SEQ_OUT}/{job_name}_train_set_out.fasta'))]\n",
        "holdout_sequences = [x[1] for x in read_fasta(Path(f'{RES_DIR_SEQ_OUT}/{job_name}_out_domain_val_set_out.fasta'))]\n",
        "\n",
        "\n",
        "# The input_shape is always going to be (-1, 26),\n",
        "# because that is the number of unique AA, one-hot encoded.\n",
        "\n",
        "\n",
        "n_epochs_config = {\"low\": 1, \"high\": 1}\n",
        "lr_config = {\"low\": 1e-5, \"high\": 1e-3}\n",
        "\n",
        "EVOTUNING_PROJECT=[\n",
        "    \"evotuning_P450_from_global\",\n",
        "    \"evotuning_P450_from_randinit\",\n",
        "]\n",
        "\n",
        "\n",
        "for PROJECT_NAME in EVOTUNING_PROJECT:\n",
        "    #PROJECT_NAME = \"evotuning_P450\" #@param {type:\"string\"}\n",
        "    init_fun, apply_fun = mlstm1900()\n",
        "    \n",
        "    if PROJECT_NAME.endswith(\"randinit\"): \n",
        "        _, inital_params = init_fun(PRNGKey(42), input_shape=(-1, 26))\n",
        "    else:\n",
        "        inital_params=None\n",
        "    # 1. Evotuning with Optuna\n",
        "\n",
        "    study, evotuned_params = evotune(\n",
        "        sequences=sequences,\n",
        "        model_func=apply_fun,\n",
        "        params=inital_params,\n",
        "        out_dom_seqs=holdout_sequences,\n",
        "        n_trials=2,\n",
        "        n_splits=2,\n",
        "        n_epochs_config=n_epochs_config,\n",
        "        learning_rate_config=lr_config,\n",
        "    )\n",
        "    \n",
        "    dump_params(evotuned_params, Path(f'{RES_DIR_FEATURE}/{PROJECT_NAME}'))\n",
        "    print(f\"Evotuning done! Find output weights in {RES_DIR_FEATURE}/{PROJECT_NAME}\")\n",
        "    print(study.trials_dataframe())"
      ],
      "execution_count": null,
      "outputs": [
        {
          "name": "stderr",
          "output_type": "stream",
          "text": [
            "\u001b[32m[I 2021-10-23 12:45:14,115]\u001b[0m A new study created in memory with name: no-name-730488c6-8f93-4573-83df-df2dda02d431\u001b[0m\n"
          ]
        },
        {
          "data": {
            "application/vnd.jupyter.widget-view+json": {
              "model_id": "4561c01b00444d2ab6280dc5ce98d328",
              "version_major": 2,
              "version_minor": 0
            },
            "text/plain": [
              "right-padding sequences:   0%|          | 0/171927 [00:00<?, ?it/s]"
            ]
          },
          "metadata": {},
          "output_type": "display_data"
        },
        {
          "data": {
            "application/vnd.jupyter.widget-view+json": {
              "model_id": "3d42bc67e60546b49014663f8deb37c3",
              "version_major": 2,
              "version_minor": 0
            },
            "text/plain": [
              "  0%|          | 0/1 [00:00<?, ?it/s]"
            ]
          },
          "metadata": {},
          "output_type": "display_data"
        },
        {
          "name": "stderr",
          "output_type": "stream",
          "text": [
            "INFO:evotuning:Random batching done: All sequences padded to max sequence length of 600\n"
          ]
        },
        {
          "data": {
            "application/vnd.jupyter.widget-view+json": {
              "model_id": "c4f3827469c54c3da1693e7c99d0d9a9",
              "version_major": 2,
              "version_minor": 0
            },
            "text/plain": [
              "Iteration:   0%|          | 0/6877 [00:00<?, ?it/s]"
            ]
          },
          "metadata": {},
          "output_type": "display_data"
        },
        {
          "name": "stderr",
          "output_type": "stream",
          "text": [
            "INFO:evotuning:Calculations for training set:\n",
            "INFO:evotuning:Epoch 0: Estimated average loss: 0.2104906141757965. \n"
          ]
        },
        {
          "name": "stdout",
          "output_type": "stream",
          "text": [
            "created directory at temp\n"
          ]
        },
        {
          "data": {
            "application/vnd.jupyter.widget-view+json": {
              "model_id": "d385c77c63944f5d94d8c9dc51352e2e",
              "version_major": 2,
              "version_minor": 0
            },
            "text/plain": [
              "  0%|          | 0/573 [00:00<?, ?it/s]"
            ]
          },
          "metadata": {},
          "output_type": "display_data"
        },
        {
          "name": "stderr",
          "output_type": "stream",
          "text": [
            "INFO:evotuning:Split #1\n"
          ]
        },
        {
          "data": {
            "application/vnd.jupyter.widget-view+json": {
              "model_id": "ce0b6d04cc834eaa8477b7e4931639d5",
              "version_major": 2,
              "version_minor": 0
            },
            "text/plain": [
              "right-padding sequences:   0%|          | 0/171927 [00:00<?, ?it/s]"
            ]
          },
          "metadata": {},
          "output_type": "display_data"
        },
        {
          "data": {
            "application/vnd.jupyter.widget-view+json": {
              "model_id": "7ca3222e63064ce784a6f0f0481c5600",
              "version_major": 2,
              "version_minor": 0
            },
            "text/plain": [
              "  0%|          | 0/1 [00:00<?, ?it/s]"
            ]
          },
          "metadata": {},
          "output_type": "display_data"
        },
        {
          "name": "stderr",
          "output_type": "stream",
          "text": [
            "INFO:evotuning:Random batching done: All sequences padded to max sequence length of 600\n"
          ]
        },
        {
          "data": {
            "application/vnd.jupyter.widget-view+json": {
              "model_id": "c9f62a5dd9ce4bc8b6f21d58eed73154",
              "version_major": 2,
              "version_minor": 0
            },
            "text/plain": [
              "Iteration:   0%|          | 0/6877 [00:00<?, ?it/s]"
            ]
          },
          "metadata": {},
          "output_type": "display_data"
        },
        {
          "name": "stderr",
          "output_type": "stream",
          "text": [
            "INFO:evotuning:Calculations for training set:\n",
            "INFO:evotuning:Epoch 0: Estimated average loss: 0.20952515304088593. \n"
          ]
        },
        {
          "data": {
            "application/vnd.jupyter.widget-view+json": {
              "model_id": "ee0f0a9b51634488a1b90824a36f6e27",
              "version_major": 2,
              "version_minor": 0
            },
            "text/plain": [
              "  0%|          | 0/575 [00:00<?, ?it/s]"
            ]
          },
          "metadata": {},
          "output_type": "display_data"
        },
        {
          "name": "stderr",
          "output_type": "stream",
          "text": [
            "\u001b[32m[I 2021-10-24 08:53:10,047]\u001b[0m Trial 0 finished with value: 0.1068151444196701 and parameters: {'n_epochs': 1.0, 'learning_rate': 9.587014351589458e-05}. Best is trial 0 with value: 0.1068151444196701.\u001b[0m\n",
            "INFO:evotuning:Trying out 1.0 epochs with learning rate 0.00018043584194569903.\n",
            "INFO:evotuning:Split #0\n"
          ]
        },
        {
          "data": {
            "application/vnd.jupyter.widget-view+json": {
              "model_id": "b092f56d13a84b0aab3522caadd6dca0",
              "version_major": 2,
              "version_minor": 0
            },
            "text/plain": [
              "right-padding sequences:   0%|          | 0/171927 [00:00<?, ?it/s]"
            ]
          },
          "metadata": {},
          "output_type": "display_data"
        },
        {
          "data": {
            "application/vnd.jupyter.widget-view+json": {
              "model_id": "e3098cef2ae0443d8e8237ea679ec9ba",
              "version_major": 2,
              "version_minor": 0
            },
            "text/plain": [
              "  0%|          | 0/1 [00:00<?, ?it/s]"
            ]
          },
          "metadata": {},
          "output_type": "display_data"
        },
        {
          "name": "stderr",
          "output_type": "stream",
          "text": [
            "INFO:evotuning:Random batching done: All sequences padded to max sequence length of 600\n"
          ]
        },
        {
          "data": {
            "application/vnd.jupyter.widget-view+json": {
              "model_id": "1ae0c8d8b1604fd5a2749ddd9b99edd6",
              "version_major": 2,
              "version_minor": 0
            },
            "text/plain": [
              "Iteration:   0%|          | 0/6877 [00:00<?, ?it/s]"
            ]
          },
          "metadata": {},
          "output_type": "display_data"
        },
        {
          "name": "stderr",
          "output_type": "stream",
          "text": [
            "INFO:evotuning:Calculations for training set:\n",
            "INFO:evotuning:Epoch 0: Estimated average loss: 0.21503762900829315. \n"
          ]
        },
        {
          "data": {
            "application/vnd.jupyter.widget-view+json": {
              "model_id": "b23e420804f941af9024802bda3bb095",
              "version_major": 2,
              "version_minor": 0
            },
            "text/plain": [
              "  0%|          | 0/574 [00:00<?, ?it/s]"
            ]
          },
          "metadata": {},
          "output_type": "display_data"
        },
        {
          "name": "stderr",
          "output_type": "stream",
          "text": [
            "INFO:evotuning:Split #1\n"
          ]
        },
        {
          "data": {
            "application/vnd.jupyter.widget-view+json": {
              "model_id": "1e4be49c717a4afba977a158d15632a4",
              "version_major": 2,
              "version_minor": 0
            },
            "text/plain": [
              "right-padding sequences:   0%|          | 0/171927 [00:00<?, ?it/s]"
            ]
          },
          "metadata": {},
          "output_type": "display_data"
        },
        {
          "data": {
            "application/vnd.jupyter.widget-view+json": {
              "model_id": "c195b505e28045e48b254099326656f5",
              "version_major": 2,
              "version_minor": 0
            },
            "text/plain": [
              "  0%|          | 0/1 [00:00<?, ?it/s]"
            ]
          },
          "metadata": {},
          "output_type": "display_data"
        },
        {
          "name": "stderr",
          "output_type": "stream",
          "text": [
            "INFO:evotuning:Random batching done: All sequences padded to max sequence length of 600\n"
          ]
        },
        {
          "data": {
            "application/vnd.jupyter.widget-view+json": {
              "model_id": "77066dccb2d54583884129dbb4444deb",
              "version_major": 2,
              "version_minor": 0
            },
            "text/plain": [
              "Iteration:   0%|          | 0/6877 [00:00<?, ?it/s]"
            ]
          },
          "metadata": {},
          "output_type": "display_data"
        },
        {
          "name": "stderr",
          "output_type": "stream",
          "text": [
            "INFO:evotuning:Calculations for training set:\n",
            "INFO:evotuning:Epoch 0: Estimated average loss: 0.21832290291786194. \n"
          ]
        },
        {
          "data": {
            "application/vnd.jupyter.widget-view+json": {
              "model_id": "f2241a73f7314c259e323e82c34d7936",
              "version_major": 2,
              "version_minor": 0
            },
            "text/plain": [
              "  0%|          | 0/573 [00:00<?, ?it/s]"
            ]
          },
          "metadata": {},
          "output_type": "display_data"
        },
        {
          "name": "stderr",
          "output_type": "stream",
          "text": [
            "\u001b[32m[I 2021-10-24 23:31:23,581]\u001b[0m Trial 1 finished with value: 0.09768655896186829 and parameters: {'n_epochs': 1.0, 'learning_rate': 0.00018043584194569903}. Best is trial 1 with value: 0.09768655896186829.\u001b[0m\n",
            "INFO:evotuning:Optuna done, starting tuning with learning rate=0.00018043584194569903, \n"
          ]
        },
        {
          "data": {
            "application/vnd.jupyter.widget-view+json": {
              "model_id": "cb2df04bc69d4bfd9d21dc05e9633eb4",
              "version_major": 2,
              "version_minor": 0
            },
            "text/plain": [
              "right-padding sequences:   0%|          | 0/343854 [00:00<?, ?it/s]"
            ]
          },
          "metadata": {},
          "output_type": "display_data"
        },
        {
          "data": {
            "application/vnd.jupyter.widget-view+json": {
              "model_id": "db5cdfff21c94744a45801cd45b1d69a",
              "version_major": 2,
              "version_minor": 0
            },
            "text/plain": [
              "right-padding sequences:   0%|          | 0/38206 [00:00<?, ?it/s]"
            ]
          },
          "metadata": {},
          "output_type": "display_data"
        },
        {
          "data": {
            "application/vnd.jupyter.widget-view+json": {
              "model_id": "738ffbf7f2104ac588892c42a1870525",
              "version_major": 2,
              "version_minor": 0
            },
            "text/plain": [
              "  0%|          | 0/1 [00:00<?, ?it/s]"
            ]
          },
          "metadata": {},
          "output_type": "display_data"
        },
        {
          "data": {
            "application/vnd.jupyter.widget-view+json": {
              "model_id": "dc194bf6755d4c10a939b643fc9a1b14",
              "version_major": 2,
              "version_minor": 0
            },
            "text/plain": [
              "  0%|          | 0/1 [00:00<?, ?it/s]"
            ]
          },
          "metadata": {},
          "output_type": "display_data"
        },
        {
          "name": "stderr",
          "output_type": "stream",
          "text": [
            "INFO:evotuning:Random batching done: All sequences padded to max sequence length of 600\n"
          ]
        },
        {
          "data": {
            "application/vnd.jupyter.widget-view+json": {
              "model_id": "f71f0095f3874cb5b9acb8f17a346e56",
              "version_major": 2,
              "version_minor": 0
            },
            "text/plain": [
              "Iteration:   0%|          | 0/13754 [00:00<?, ?it/s]"
            ]
          },
          "metadata": {},
          "output_type": "display_data"
        },
        {
          "name": "stderr",
          "output_type": "stream",
          "text": [
            "INFO:evotuning:Calculations for training set:\n",
            "INFO:evotuning:Epoch 0: Estimated average loss: 0.21258291602134705. \n",
            "INFO:evotuning:Calculations for holdout set:\n",
            "INFO:evotuning:Epoch 0: Estimated average loss: 0.21838925778865814. \n"
          ]
        },
        {
          "name": "stdout",
          "output_type": "stream",
          "text": [
            "created directory at results/feature/evotuning_P450_from_global\n",
            "Evotuning done! Find output weights in ./results/feature/evotuning_P450_from_global\n",
            "   number     value             datetime_start          datetime_complete  \\\n",
            "0       0  0.106815 2021-10-23 12:45:14.203622 2021-10-24 08:53:10.046549   \n",
            "1       1  0.097687 2021-10-24 08:53:10.052687 2021-10-24 23:31:23.580790   \n",
            "\n",
            "                duration  params_learning_rate  params_n_epochs     state  \n",
            "0 0 days 20:07:55.842927              0.000096              1.0  COMPLETE  \n",
            "1 0 days 14:38:13.528103              0.000180              1.0  COMPLETE  \n"
          ]
        },
        {
          "name": "stderr",
          "output_type": "stream",
          "text": [
            "\u001b[32m[I 2021-10-25 03:13:35,200]\u001b[0m A new study created in memory with name: no-name-cd46c256-8f0d-4a4b-8498-54c28bf618dd\u001b[0m\n",
            "INFO:evotuning:Trying out 1.0 epochs with learning rate 0.00022990855334515935.\n",
            "INFO:evotuning:Split #0\n"
          ]
        },
        {
          "data": {
            "application/vnd.jupyter.widget-view+json": {
              "model_id": "52a11e16c68f48c6885db0181d54cba2",
              "version_major": 2,
              "version_minor": 0
            },
            "text/plain": [
              "right-padding sequences:   0%|          | 0/171927 [00:00<?, ?it/s]"
            ]
          },
          "metadata": {},
          "output_type": "display_data"
        },
        {
          "data": {
            "application/vnd.jupyter.widget-view+json": {
              "model_id": "4c084530fb114cec9cec33995e7b70de",
              "version_major": 2,
              "version_minor": 0
            },
            "text/plain": [
              "  0%|          | 0/1 [00:00<?, ?it/s]"
            ]
          },
          "metadata": {},
          "output_type": "display_data"
        },
        {
          "name": "stderr",
          "output_type": "stream",
          "text": [
            "INFO:evotuning:Random batching done: All sequences padded to max sequence length of 600\n"
          ]
        },
        {
          "data": {
            "application/vnd.jupyter.widget-view+json": {
              "model_id": "10c7319c1152486fb10d9be0b0a3fb7d",
              "version_major": 2,
              "version_minor": 0
            },
            "text/plain": [
              "Iteration:   0%|          | 0/6877 [00:00<?, ?it/s]"
            ]
          },
          "metadata": {},
          "output_type": "display_data"
        },
        {
          "name": "stderr",
          "output_type": "stream",
          "text": [
            "INFO:evotuning:Calculations for training set:\n",
            "INFO:evotuning:Epoch 0: Estimated average loss: 0.1677255779504776. \n"
          ]
        },
        {
          "data": {
            "application/vnd.jupyter.widget-view+json": {
              "model_id": "00396a7b51764c8ba70bc4f9b6f5c18e",
              "version_major": 2,
              "version_minor": 0
            },
            "text/plain": [
              "  0%|          | 0/572 [00:00<?, ?it/s]"
            ]
          },
          "metadata": {},
          "output_type": "display_data"
        },
        {
          "name": "stderr",
          "output_type": "stream",
          "text": [
            "INFO:evotuning:Split #1\n"
          ]
        },
        {
          "data": {
            "application/vnd.jupyter.widget-view+json": {
              "model_id": "2d9c92650a8f46fe8040e144d2ce41ce",
              "version_major": 2,
              "version_minor": 0
            },
            "text/plain": [
              "right-padding sequences:   0%|          | 0/171927 [00:00<?, ?it/s]"
            ]
          },
          "metadata": {},
          "output_type": "display_data"
        },
        {
          "data": {
            "application/vnd.jupyter.widget-view+json": {
              "model_id": "c89b5d8d9cd84edc82a54f98759145fc",
              "version_major": 2,
              "version_minor": 0
            },
            "text/plain": [
              "  0%|          | 0/1 [00:00<?, ?it/s]"
            ]
          },
          "metadata": {},
          "output_type": "display_data"
        },
        {
          "name": "stderr",
          "output_type": "stream",
          "text": [
            "INFO:evotuning:Random batching done: All sequences padded to max sequence length of 600\n"
          ]
        },
        {
          "data": {
            "application/vnd.jupyter.widget-view+json": {
              "model_id": "65741e50b16d4abbb711b8e78a0fc864",
              "version_major": 2,
              "version_minor": 0
            },
            "text/plain": [
              "Iteration:   0%|          | 0/6877 [00:00<?, ?it/s]"
            ]
          },
          "metadata": {},
          "output_type": "display_data"
        },
        {
          "name": "stderr",
          "output_type": "stream",
          "text": [
            "INFO:evotuning:Calculations for training set:\n",
            "INFO:evotuning:Epoch 0: Estimated average loss: 0.16771169006824493. \n"
          ]
        },
        {
          "data": {
            "application/vnd.jupyter.widget-view+json": {
              "model_id": "25217a52dc8f4fd6aae7183aae973a62",
              "version_major": 2,
              "version_minor": 0
            },
            "text/plain": [
              "  0%|          | 0/575 [00:00<?, ?it/s]"
            ]
          },
          "metadata": {},
          "output_type": "display_data"
        },
        {
          "name": "stderr",
          "output_type": "stream",
          "text": [
            "\u001b[32m[I 2021-10-25 16:44:40,403]\u001b[0m Trial 0 finished with value: 0.15144959092140198 and parameters: {'n_epochs': 1.0, 'learning_rate': 0.00022990855334515935}. Best is trial 0 with value: 0.15144959092140198.\u001b[0m\n",
            "INFO:evotuning:Trying out 1.0 epochs with learning rate 2.057544821566471e-05.\n",
            "INFO:evotuning:Split #0\n"
          ]
        },
        {
          "data": {
            "application/vnd.jupyter.widget-view+json": {
              "model_id": "826ea201ab1d48e7bb9ac2ddbf32401f",
              "version_major": 2,
              "version_minor": 0
            },
            "text/plain": [
              "right-padding sequences:   0%|          | 0/171927 [00:00<?, ?it/s]"
            ]
          },
          "metadata": {},
          "output_type": "display_data"
        },
        {
          "data": {
            "application/vnd.jupyter.widget-view+json": {
              "model_id": "eb1293c5027b4da0ba94064f304caee6",
              "version_major": 2,
              "version_minor": 0
            },
            "text/plain": [
              "  0%|          | 0/1 [00:00<?, ?it/s]"
            ]
          },
          "metadata": {},
          "output_type": "display_data"
        },
        {
          "name": "stderr",
          "output_type": "stream",
          "text": [
            "INFO:evotuning:Random batching done: All sequences padded to max sequence length of 600\n"
          ]
        },
        {
          "data": {
            "application/vnd.jupyter.widget-view+json": {
              "model_id": "049adf26a00e4047932731337b4bf6a4",
              "version_major": 2,
              "version_minor": 0
            },
            "text/plain": [
              "Iteration:   0%|          | 0/6877 [00:00<?, ?it/s]"
            ]
          },
          "metadata": {},
          "output_type": "display_data"
        },
        {
          "name": "stderr",
          "output_type": "stream",
          "text": [
            "INFO:evotuning:Calculations for training set:\n",
            "INFO:evotuning:Epoch 0: Estimated average loss: 0.16772596538066864. \n"
          ]
        },
        {
          "data": {
            "application/vnd.jupyter.widget-view+json": {
              "model_id": "b215a3bcc3724da3be62687022f4b08e",
              "version_major": 2,
              "version_minor": 0
            },
            "text/plain": [
              "  0%|          | 0/574 [00:00<?, ?it/s]"
            ]
          },
          "metadata": {},
          "output_type": "display_data"
        },
        {
          "name": "stderr",
          "output_type": "stream",
          "text": [
            "INFO:evotuning:Split #1\n"
          ]
        },
        {
          "data": {
            "application/vnd.jupyter.widget-view+json": {
              "model_id": "79e3dcde2908447f83cd56e26a22b1ad",
              "version_major": 2,
              "version_minor": 0
            },
            "text/plain": [
              "right-padding sequences:   0%|          | 0/171927 [00:00<?, ?it/s]"
            ]
          },
          "metadata": {},
          "output_type": "display_data"
        },
        {
          "data": {
            "application/vnd.jupyter.widget-view+json": {
              "model_id": "45a3b55477284cfbaf9dd1f63cf31533",
              "version_major": 2,
              "version_minor": 0
            },
            "text/plain": [
              "  0%|          | 0/1 [00:00<?, ?it/s]"
            ]
          },
          "metadata": {},
          "output_type": "display_data"
        },
        {
          "name": "stderr",
          "output_type": "stream",
          "text": [
            "INFO:evotuning:Random batching done: All sequences padded to max sequence length of 600\n"
          ]
        },
        {
          "data": {
            "application/vnd.jupyter.widget-view+json": {
              "model_id": "7d7d471335be45628f303dab86c9aed8",
              "version_major": 2,
              "version_minor": 0
            },
            "text/plain": [
              "Iteration:   0%|          | 0/6877 [00:00<?, ?it/s]"
            ]
          },
          "metadata": {},
          "output_type": "display_data"
        },
        {
          "name": "stderr",
          "output_type": "stream",
          "text": [
            "INFO:evotuning:Calculations for training set:\n",
            "INFO:evotuning:Epoch 0: Estimated average loss: 0.16772451996803284. \n"
          ]
        },
        {
          "data": {
            "application/vnd.jupyter.widget-view+json": {
              "model_id": "c6813b6e1a814d098b4ef56710be7d93",
              "version_major": 2,
              "version_minor": 0
            },
            "text/plain": [
              "  0%|          | 0/574 [00:00<?, ?it/s]"
            ]
          },
          "metadata": {},
          "output_type": "display_data"
        },
        {
          "name": "stderr",
          "output_type": "stream",
          "text": [
            "\u001b[32m[I 2021-10-26 06:42:02,863]\u001b[0m Trial 1 finished with value: 0.15436682105064392 and parameters: {'n_epochs': 1.0, 'learning_rate': 2.057544821566471e-05}. Best is trial 0 with value: 0.15144959092140198.\u001b[0m\n",
            "INFO:evotuning:Optuna done, starting tuning with learning rate=0.00022990855334515935, \n"
          ]
        },
        {
          "data": {
            "application/vnd.jupyter.widget-view+json": {
              "model_id": "28d1323e41fc4bb7974485eddb7daf53",
              "version_major": 2,
              "version_minor": 0
            },
            "text/plain": [
              "right-padding sequences:   0%|          | 0/343854 [00:00<?, ?it/s]"
            ]
          },
          "metadata": {},
          "output_type": "display_data"
        },
        {
          "data": {
            "application/vnd.jupyter.widget-view+json": {
              "model_id": "419113f62bfd44a0a9a47e0740d77409",
              "version_major": 2,
              "version_minor": 0
            },
            "text/plain": [
              "right-padding sequences:   0%|          | 0/38206 [00:00<?, ?it/s]"
            ]
          },
          "metadata": {},
          "output_type": "display_data"
        },
        {
          "data": {
            "application/vnd.jupyter.widget-view+json": {
              "model_id": "99c6832e691e485092f8582c2cd2bb05",
              "version_major": 2,
              "version_minor": 0
            },
            "text/plain": [
              "  0%|          | 0/1 [00:00<?, ?it/s]"
            ]
          },
          "metadata": {},
          "output_type": "display_data"
        },
        {
          "data": {
            "application/vnd.jupyter.widget-view+json": {
              "model_id": "97ea0823a8984cf18e47c0d076873da4",
              "version_major": 2,
              "version_minor": 0
            },
            "text/plain": [
              "  0%|          | 0/1 [00:00<?, ?it/s]"
            ]
          },
          "metadata": {},
          "output_type": "display_data"
        },
        {
          "name": "stderr",
          "output_type": "stream",
          "text": [
            "INFO:evotuning:Random batching done: All sequences padded to max sequence length of 600\n"
          ]
        },
        {
          "data": {
            "application/vnd.jupyter.widget-view+json": {
              "model_id": "ace4484216784c5c96816df74246c448",
              "version_major": 2,
              "version_minor": 0
            },
            "text/plain": [
              "Iteration:   0%|          | 0/13754 [00:00<?, ?it/s]"
            ]
          },
          "metadata": {},
          "output_type": "display_data"
        },
        {
          "name": "stderr",
          "output_type": "stream",
          "text": [
            "INFO:evotuning:Calculations for training set:\n",
            "INFO:evotuning:Epoch 0: Estimated average loss: 0.16773498058319092. \n",
            "INFO:evotuning:Calculations for holdout set:\n",
            "INFO:evotuning:Epoch 0: Estimated average loss: 0.167735755443573. \n"
          ]
        },
        {
          "name": "stdout",
          "output_type": "stream",
          "text": [
            "created directory at results/feature/evotuning_P450_from_randinit\n",
            "Evotuning done! Find output weights in ./results/feature/evotuning_P450_from_randinit\n",
            "   number     value             datetime_start          datetime_complete  \\\n",
            "0       0  0.151450 2021-10-25 03:13:35.205015 2021-10-25 16:44:40.402746   \n",
            "1       1  0.154367 2021-10-25 16:44:40.411932 2021-10-26 06:42:02.862593   \n",
            "\n",
            "                duration  params_learning_rate  params_n_epochs     state  \n",
            "0 0 days 13:31:05.197731              0.000230              1.0  COMPLETE  \n",
            "1 0 days 13:57:22.450661              0.000021              1.0  COMPLETE  \n"
          ]
        }
      ]
    },
    {
      "cell_type": "code",
      "metadata": {
        "id": "-dbRMdUjPAy2",
        "cellView": "form"
      },
      "source": [
        "#@title Top Training w/ fitness data\n",
        "\n",
        "from jax_unirep import get_reps, fit\n",
        "from jax_unirep.utils import load_params\n",
        "from Bio import SeqIO\n",
        "import pandas as pd\n",
        "import glob\n",
        "import os\n",
        "import numpy as np\n",
        "\n",
        "from sklearn.decomposition import PCA, TruncatedSVD\n",
        "from sklearn.manifold import TSNE\n",
        "from sklearn.model_selection import train_test_split, KFold\n",
        "from sklearn.linear_model import RidgeCV, LinearRegression, HuberRegressor\n",
        "from sklearn.pipeline import Pipeline\n",
        "from sklearn.neighbors import KNeighborsRegressor\n",
        "\n",
        "import warnings\n",
        "warnings.filterwarnings('ignore') \n",
        "\n",
        "from sklearn.preprocessing import normalize, StandardScaler\n",
        "import matplotlib.pyplot as plt\n",
        "import seaborn as sns\n",
        "import feather\n",
        "\n",
        "\n",
        "def read_labeled_data(fitness_csv,seq_col,fit_col): \n",
        "  df=pd.read_csv(pathlib.Path(fitness_csv),usecols=[seq_col,fit_col])\n",
        "  data = []\n",
        "  for seq, fitness in zip(df.loc[:, seq_col], df.loc[:, fit_col]):\n",
        "        data.append([str(seq).strip(), fitness])\n",
        "  return data\n",
        "# data=read_labeled_data(\"./P450_experi_data_encoded.csv\",'Seq','11H-Cuol')\n",
        "\n",
        "\n",
        "# save represented dataframe of features as feather\n",
        "def save_reps(df, path):\n",
        "  feather.write_dataframe(df, path + '.feather')\n",
        "  print(path + '.feather', 'saved!')\n",
        "\n",
        "\n",
        "# read represented dataframe of features as feather\n",
        "def read_reps(path):\n",
        "  return feather.read_dataframe(path + '.feather')\n",
        "\n",
        "\n",
        "def _one_hot(x, k, dtype=np.float32):\n",
        "  # return np.array(x[:, None] == np.arange(k), dtype)\n",
        "  return np.array(x[:, None] == np.arange(k))\n",
        "\n",
        "\n",
        "def aa_seq_to_int(s):\n",
        "  \"\"\"Return the int sequence as a list for a given string of amino acids.\"\"\"\n",
        "  # Make sure only valid aa's are passed\n",
        "  if not set(s).issubset(set(aa_to_int.keys())):\n",
        "    raise ValueError(\n",
        "      f\"Unsupported character(s) in sequence found:\"\n",
        "      f\" {set(s).difference(set(aa_to_int.keys()))}\"\n",
        "    )\n",
        "\n",
        "  return [aa_to_int[a] for a in s]\n",
        "\n",
        "\n",
        "def aa_seq_to_onehot(seq):\n",
        "  return 1*np.equal(np.array(aa_seq_to_int(seq))[:,None], np.arange(21)).flatten()\n",
        "  \n",
        "\n",
        "def multi_onehot(seqs):\n",
        "  return np.stack([aa_seq_to_onehot(s) for s in seqs.tolist()])\n",
        "\n",
        "\n",
        "def distance_matrix(N):\n",
        "\t#A is the one who works with the distance_matrix = np.zeros((N,N))\n",
        "\tfor i in range(N):\n",
        "\t\tfor j in range(N):\n",
        "\t\t\t# distance_matrix[i,j]=1- ((abs(i-j)/N)**2)\n",
        "\t\t\tdistance_matrix[i,j]= 1-(abs(i-j)/N)\n",
        "\n",
        "\treturn distance_matrix\n",
        "\n",
        "\n",
        "def confusion_matrix_loss(Y_test,Y_preds_test):\n",
        "\n",
        "  N = len(Y_test)\n",
        "  Y_rank_matrix = np.zeros((N,N))\n",
        "  Y_preds_rank_matrix = np.zeros((N,N))\n",
        "  for i in range(N):\n",
        "    for j in range(N):\n",
        "\n",
        "      if Y_test[i] > Y_test[j]:\n",
        "        Y_rank_matrix[i,j] = 1\n",
        "      elif Y_test[i] <= Y_test[j]:\n",
        "        Y_rank_matrix[i,j] = 0\n",
        "      if Y_preds_test[i] > Y_preds_test[j]:\n",
        "        Y_preds_rank_matrix[i,j] = 1\n",
        "      elif Y_preds_test[i] <= Y_preds_test[j]:\n",
        "        Y_preds_rank_matrix[i,j] = 0\n",
        "  confusion_matrix = ~(Y_preds_rank_matrix == Y_rank_matrix)\n",
        "  # dist_mat = distance_matrix(N)\n",
        "  # confusion_matrix = confusion_matrix*dist_mat\n",
        "  loss = np.sum(confusion_matrix)/confusion_matrix.size\n",
        "\n",
        "  return loss"
      ],
      "execution_count": null,
      "outputs": []
    },
    {
      "cell_type": "code",
      "metadata": {
        "cellView": "form",
        "id": "JH7oDRCagFT4"
      },
      "source": [
        "#@title  load labeled training data\n",
        "col_seq='Seq' #@param {type:\"string\"}\n",
        "col_fitness='11H-Cuol' #@param {type:\"string\"}\n",
        "seqs_df = pd.DataFrame(read_labeled_data(f\"{RES_DIR_FITNESS}/P450_experi_data_encoded.csv\",col_seq,col_fitness), columns = ['sequence', 'fitness'])"
      ],
      "execution_count": null,
      "outputs": []
    },
    {
      "cell_type": "code",
      "metadata": {
        "cellView": "form",
        "id": "W7Ex3rd-CYXN",
        "outputId": "6320d647-6fea-42e0-db3c-d91b51713d7d"
      },
      "source": [
        "#@title read P450 890 sequence\n",
        "target_sequence=read_fasta(target_fasta)[0][1]\n",
        "target_sequence"
      ],
      "execution_count": null,
      "outputs": [
        {
          "data": {
            "text/plain": [
              "'MWTILLGLATLAIAYYIHWVNKWKDSKFNGVLPPGTMGLPLIGETIQLSRPSDSLDVHPFIQRKVKRYGPIFKTCLAGRPVVVSTDAEFNHYIMLQEGRAVEMWYLDTLSKFFGLDTEWLKALGLIHKYIRSITLNHFGAESLRERFLPRIEESARETLHYWSTQTSVEVKESAAAMVFRTSIVKMFSEDSSKLLTEGLTKKFTGLLGGFLTLPLNLPGTTYHKCIKDMKQIQKKLKDILEERLAKGVKIDEDFLGQAIKDKESQQFISEEFIIQLLFSISFASFESISTTLTLILNFLADHPDVVKELEAEHEAIRKARADPDGPITWEEYKSMNFTLNVICETLRLGSVTPALLRKTTKEIQIKGYTIPEGWTVMLVTASRHRDPEVYKDPDTFNPWRWKELDSITIQKNFMPFGGGLRHCAGAEYSKVYLCTFLHILFTKYRWRKLKGGKIARAHILRFEDGLYVNFTPKE'"
            ]
          },
          "execution_count": 11,
          "metadata": {},
          "output_type": "execute_result"
        }
      ]
    },
    {
      "cell_type": "code",
      "metadata": {
        "id": "t15chqAzgTOg",
        "cellView": "form",
        "outputId": "f04ef662-6551-4c53-9f97-a98fb5b0da98"
      },
      "source": [
        "#@title define key params \n",
        "PROJECT_NAME='evotuning_P450_from'\n",
        "\n",
        "gdrive_path=f'{RES_DIR_PICKLE}/'\n",
        "DIR_PATH = f'{RES_DIR_FEATURE}/{PROJECT_NAME}'\n",
        "#os.system(f'mkdir -p {pathlib.Path(DIR_PATH).resolve()}')\n",
        "\n",
        "PARAMS = [ '_global/iter_0','_randinit/iter_0',None, 'one_hot',]\n",
        "\n",
        "# get representations of data for each params:\n",
        "N_seqs = len(seqs_df)\n",
        "print(\"N_seqs:\", N_seqs)\n",
        "\n",
        "# vary batches based on memory available (i.e. if you have less memory run more batches)\n",
        "# this google colab can handle around 1000 seqs per batch for sure\n",
        "N_BATCHES = 6\n",
        "\n",
        "BATCH_LEN = int(np.ceil(N_seqs/N_BATCHES))\n",
        "\n",
        "for param in PARAMS:\n",
        "  # append path to param unless unirep (no param)\n",
        "  if param == 'one_hot':\n",
        "    print('getting reps for one hot')\n",
        "    onehot = multi_onehot(seqs_df.sequence)\n",
        "    feat_cols = [ 'feat' + str(j) for j in range(1, onehot.shape[1] + 1) ]\n",
        "    this_df = pd.DataFrame(onehot, columns=feat_cols)\n",
        "    this_df.insert(0, \"sequence\", seqs_df.sequence)\n",
        "    this_df.insert(1, \"fitness\", seqs_df.fitness)\n",
        "\n",
        "    save_reps(this_df, gdrive_path + 'one_hot')\n",
        "\n",
        "    continue\n",
        "\n",
        "  elif param is None:\n",
        "    name = 'unirep'\n",
        "\n",
        "  else:\n",
        "    name = f'{PROJECT_NAME}-{param}'.replace(\"/\",'_')\n",
        "    # param is the second element of returned tuple\n",
        "    # fixed by Yinying\n",
        "    param = load_params(DIR_PATH + param)[1]\n",
        "\n",
        "  print('getting reps for', name)\n",
        "  #print(param)\n",
        "  # get 1st sequence\n",
        "  reps, _, _ = get_reps(seqs_df.sequence[0], params=param)\n",
        "  feat_cols = [ 'feat' + str(j) for j in range(1, reps.shape[1] + 1) ]\n",
        "  this_df = pd.DataFrame(reps, columns=feat_cols)\n",
        "  this_df.insert(0, \"sequence\", seqs_df.sequence[0])\n",
        "  this_df.insert(1, \"fitness\", seqs_df.fitness[0])\n",
        "\n",
        "  # get the rest in batches\n",
        "  for i in range(N_BATCHES):\n",
        "    this_unirep, _, _ = get_reps(seqs_df.sequence[ (1 + i*BATCH_LEN) : min( 1 + (i+1)*BATCH_LEN, N_seqs ) ] , params=param)\n",
        "    this_unirep_df = pd.DataFrame(this_unirep, columns=feat_cols)\n",
        "    this_unirep_df.insert(0, \"sequence\", seqs_df.sequence[ (1 + i*BATCH_LEN) : min( 1 + (i+1)*BATCH_LEN, N_seqs ) ].reset_index(drop=True))\n",
        "    this_unirep_df.insert(1, \"fitness\", seqs_df.fitness[ (1 + i*BATCH_LEN) : min( 1 + (i+1)*BATCH_LEN, N_seqs ) ].reset_index(drop=True))\n",
        "    this_df = pd.concat([this_df.reset_index(drop=True), this_unirep_df.reset_index(drop=True)]).reset_index(drop=True)\n",
        "\n",
        "  save_reps(this_df, gdrive_path + name)"
      ],
      "execution_count": null,
      "outputs": [
        {
          "name": "stdout",
          "output_type": "stream",
          "text": [
            "N_seqs: 84\n",
            "getting reps for evotuning_P450_from-_global_iter_0\n",
            "./results/pickle/evotuning_P450_from-_global_iter_0.feather saved!\n",
            "getting reps for evotuning_P450_from-_randinit_iter_0\n",
            "./results/pickle/evotuning_P450_from-_randinit_iter_0.feather saved!\n",
            "getting reps for unirep\n",
            "./results/pickle/unirep.feather saved!\n",
            "getting reps for one hot\n",
            "./results/pickle/one_hot.feather saved!\n"
          ]
        }
      ]
    },
    {
      "cell_type": "code",
      "metadata": {
        "cellView": "form",
        "id": "8ZcTq8aoCYXO"
      },
      "source": [
        "#@title load the reps you want into dataframes\n",
        "FEATHER_PATH = gdrive_path \n",
        "\n",
        "unirep_df = read_reps(FEATHER_PATH + 'unirep')\n",
        "eunirep_df = read_reps(FEATHER_PATH + 'evotuning_P450_from-_global_iter_0')\n",
        "rand_eunirep_df=read_reps(FEATHER_PATH + 'evotuning_P450_from-_randinit_iter_0')\n",
        "onehot_df = read_reps(FEATHER_PATH + 'one_hot')\n",
        "\n",
        "dfs = [unirep_df, eunirep_df, onehot_df,rand_eunirep_df]\n",
        "df_names = ['unirep', 'eunirep', 'one hot','rand_eunirep']"
      ],
      "execution_count": null,
      "outputs": []
    },
    {
      "cell_type": "code",
      "metadata": {
        "id": "p71qg-ixVzM2",
        "cellView": "form",
        "outputId": "bee2efd3-4538-4043-e7cf-8d4167bd58ff",
        "colab": {
          "referenced_widgets": [
            "97ea955989894c728987b33a7f676f26"
          ]
        }
      },
      "source": [
        "#@title randomly select subset of sequence as input data\n",
        "np.random.seed(42)\n",
        "rndperm = np.random.permutation(dfs[0].shape[0])\n",
        "\n",
        "BATCH_SIZES = [12,15,24,28,35,48]\n",
        "batch_size_list = (np.array(BATCH_SIZES)/0.8).astype(\"int\")\n",
        "\n",
        "plt.clf()\n",
        "\n",
        "fig = plt.figure(figsize=(10,4*len(dfs)))\n",
        "plt.style.use('seaborn-white')\n",
        "alpha_vals = np.logspace(-6,3,30)\n",
        "\n",
        "total=len(dfs)*len(batch_size_list)\n",
        "pbar=tqdm.notebook.tqdm(total=total, bar_format=TQDM_BAR_FORMAT)\n",
        "\n",
        "for i in range(len(dfs)):\n",
        "    ax1 = fig.add_subplot(len(dfs),2,(2*i+1), title=df_names[i] + \" ridge regression train loss\")\n",
        "    ax2 = fig.add_subplot(len(dfs),2,(2*i+2), title=df_names[i] + \" ridge regression test loss\")\n",
        "    \n",
        "    df = dfs[i]\n",
        "    for batch_size in batch_size_list:\n",
        "        pbar.update(1)\n",
        "        X = df.loc[rndperm[:batch_size], df.columns[2:]]\n",
        "        Y = df.loc[rndperm[:batch_size], \"fitness\"]\n",
        "\n",
        "        \n",
        "        alpha_list = []\n",
        "        train_loss_list = []\n",
        "        test_loss_list = []\n",
        "        \n",
        "        for alpha_i in alpha_vals:\n",
        "            #print(f'df\\t{i}: \\tbatch_size\\t{batch_size}\\talpha_i\\t{alpha_i}')\n",
        "            \n",
        "            # train-test split for both \n",
        "            X_train, X_test, Y_train, Y_test = train_test_split(X, Y, test_size=0.2, random_state=42)\n",
        "\n",
        "            # ridge regression model setup\n",
        "            kfold = KFold(n_splits=10, random_state=42, shuffle=True)\n",
        "\n",
        "            model = RidgeCV(alphas=[alpha_i], cv=kfold)\n",
        "\n",
        "            # fit the model\n",
        "            model.fit(X_train, Y_train)\n",
        "\n",
        "            # predict fitness to get train and test losses\n",
        "            Y_train_preds = model.predict(X_train)\n",
        "            Y_test_preds = model.predict(X_test)\n",
        "\n",
        "            # train_loss = np.linalg.norm(Y_train_preds - Y_train)\n",
        "            # test_loss = np.linalg.norm(Y_test_preds - Y_test)\n",
        "            train_loss = np.mean((Y_train_preds - Y_train)**2)\n",
        "            test_loss = np.mean((Y_test_preds - Y_test)**2)\n",
        "\n",
        "            alpha_list.append(model.alpha_)\n",
        "            train_loss_list.append(train_loss)\n",
        "            test_loss_list.append(test_loss)\n",
        "        '''\n",
        "        print(f'')\n",
        "        print(f'alpha_list={alpha_list}')\n",
        "        print(f'train_loss_list={train_loss_list}')\n",
        "        print(f'test_loss_list={test_loss_list}')\n",
        "        '''\n",
        "        # plot train and test losses\n",
        "        ax1.plot(alpha_list, train_loss_list,linewidth=1)\n",
        "        ax2.plot(alpha_list, test_loss_list,linewidth=1)\n",
        "\n",
        "    ax1.legend(batch_size_list*0.8)\n",
        "    ax1.set_xscale(\"log\")\n",
        "    ax1.set_xlabel(\"regularization strength\")\n",
        "    ax1.set_ylabel(\"MSE\")\n",
        "    ax2.legend(batch_size_list*0.2)\n",
        "    ax2.set_xscale(\"log\")\n",
        "    ax2.set_xlabel(\"regularization strength\")\n",
        "    ax1.set_ylabel(\"MSE\")\n",
        "\n",
        "plt.tight_layout()\n",
        "plt.show()"
      ],
      "execution_count": null,
      "outputs": [
        {
          "data": {
            "application/vnd.jupyter.widget-view+json": {
              "model_id": "97ea955989894c728987b33a7f676f26",
              "version_major": 2,
              "version_minor": 0
            },
            "text/plain": [
              "  0%|          | 0/24 [elapsed: 00:00 remaining: ?]"
            ]
          },
          "metadata": {},
          "output_type": "display_data"
        },
        {
          "data": {
            "text/plain": [
              "<Figure size 432x288 with 0 Axes>"
            ]
          },
          "metadata": {},
          "output_type": "display_data"
        },
        {
          "data": {
            "image/png": "[encoded data removed]",
            "text/plain": [
              "<Figure size 720x1152 with 8 Axes>"
            ]
          },
          "metadata": {},
          "output_type": "display_data"
        }
      ]
    },
    {
      "cell_type": "code",
      "metadata": {
        "cellView": "form",
        "id": "JIRHVsEACYXP",
        "outputId": "268d123c-6aea-406c-eec2-b062e4f63c3d",
        "colab": {
          "referenced_widgets": [
            "064b6f7824a94c38aeed1d51893c5d0b"
          ]
        }
      },
      "source": [
        "#@title test selected hyper-parameters\n",
        "ALPHAS = [ 0.00005, 0.0001,0.15,0.00002]\n",
        "\n",
        "BATCH_SIZES = [1600,2400]\n",
        "SPLIT = 0.6\n",
        "\n",
        "batch_size_list = (np.array(BATCH_SIZES)/SPLIT).astype(\"int\")\n",
        "\n",
        "# randomly select subset of sequence as input data\n",
        "np.random.seed(42)\n",
        "rndperm = np.random.permutation(dfs[0].shape[0])\n",
        "\n",
        "plt.clf()\n",
        "\n",
        "fig = plt.figure(figsize=(10*len(BATCH_SIZES) ,4*len(dfs)))\n",
        "plt.style.use('seaborn-white')\n",
        "\n",
        "total=len(dfs)*len(batch_size_list)\n",
        "pbar=tqdm.notebook.tqdm(total=total, bar_format=TQDM_BAR_FORMAT)\n",
        "for i in range(len(dfs)):\n",
        "\n",
        "  df = dfs[i]\n",
        "  for j in range(len(batch_size_list)):\n",
        "    pbar.update(1)\n",
        "    X = df.loc[rndperm[:batch_size_list[j]], df.columns[2:]]\n",
        "    Y = df.loc[rndperm[:batch_size_list[j]], \"fitness\"]\n",
        "\n",
        "    # train-test split for both \n",
        "    X_train, X_test, Y_train, Y_test = train_test_split(X, Y, test_size=SPLIT, random_state=1717)\n",
        "\n",
        "    # ridge regression model setup\n",
        "    kfold = KFold(n_splits=10, random_state=1717, shuffle=True)\n",
        "\n",
        "    model = RidgeCV(alphas=[ALPHAS[i]], cv=kfold)\n",
        "\n",
        "    # fit the model\n",
        "    model.fit(X_train, Y_train)\n",
        "\n",
        "    # predict fitness to get train and test losses\n",
        "    Y_train_preds = model.predict(X_train)\n",
        "    Y_test_preds = model.predict(X_test)\n",
        "\n",
        "    # train_loss = np.linalg.norm(Y_train_preds - Y_train)\n",
        "    # test_loss = np.linalg.norm(Y_test_preds - Y_test)\n",
        "    train_loss = np.mean((Y_train_preds - Y_train)**2)\n",
        "    test_loss = np.mean((Y_test_preds - Y_test)**2)\n",
        "\n",
        "    ax1 = fig.add_subplot(len(dfs),len(BATCH_SIZES)*2,(4*i+2*j+1), title=df_names[i] + \", batch size: \" + str(batch_size_list[j]*(1-SPLIT)) + \" ridge regression train loss\")\n",
        "    ax1.plot(np.arange(len(Y_train)), np.array(Y_train)[np.argsort(Y_train)])\n",
        "    ax1.plot(np.arange(len(Y_train)), np.array(Y_train_preds)[np.argsort(Y_train)])\n",
        "    ax1.legend(['Y_train','Y_train preds'])\n",
        "\n",
        "    ax2 = fig.add_subplot(len(dfs),len(BATCH_SIZES)*2,(4*i+2*j+2), title=df_names[i] + \", batch size: \" + str(batch_size_list[j]*SPLIT) + \" ridge regression test loss\")\n",
        "    ax2.plot(np.arange(len(Y_test)), np.array(Y_test)[np.argsort(Y_test)])\n",
        "    ax2.plot(np.arange(len(Y_test)), np.array(Y_test_preds)[np.argsort(Y_test)])\n",
        "    ax2.legend(['Y_test','Y_test pred'])\n",
        "\n",
        "plt.tight_layout()\n",
        "plt.show()"
      ],
      "execution_count": null,
      "outputs": [
        {
          "data": {
            "application/vnd.jupyter.widget-view+json": {
              "model_id": "064b6f7824a94c38aeed1d51893c5d0b",
              "version_major": 2,
              "version_minor": 0
            },
            "text/plain": [
              "  0%|          | 0/8 [elapsed: 00:00 remaining: ?]"
            ]
          },
          "metadata": {},
          "output_type": "display_data"
        },
        {
          "data": {
            "text/plain": [
              "<Figure size 432x288 with 0 Axes>"
            ]
          },
          "metadata": {},
          "output_type": "display_data"
        },
        {
          "data": {
            "image/png": "[encoded data removed]",
            "text/plain": [
              "<Figure size 1440x1152 with 16 Axes>"
            ]
          },
          "metadata": {
            "needs_background": "light"
          },
          "output_type": "display_data"
        }
      ]
    },
    {
      "cell_type": "code",
      "metadata": {
        "scrolled": true,
        "cellView": "form",
        "id": "L_rnJsZeCYXQ",
        "outputId": "6cfe9fc6-9117-413d-df20-37ddd8d32d58",
        "colab": {
          "referenced_widgets": [
            "262db95b85404d72971f098b0b30d262",
            "7f8a90f752ce42fba8d169c806c39779",
            "e16ccd4ed030486ea9f13758a9fbb8de"
          ]
        }
      },
      "source": [
        "#@title ridge regression improvement over random sampling\n",
        "'''\n",
        "# number of batches to test\n",
        "N_BATCH = 200\n",
        "\n",
        "# number of sequences per training batch\n",
        "TRAIN_BATCH_SIZES = [10, 15,20]\n",
        "\n",
        "# number of random trials to perform for baseline\n",
        "N_RAND_BATCHES = 100\n",
        "'''\n",
        "\n",
        "\n",
        "# number of batches to test\n",
        "N_BATCH = 20\n",
        "\n",
        "# number of sequences per training batch\n",
        "TRAIN_BATCH_SIZES = [10,15,20,25,30,35] \n",
        "print(TRAIN_BATCH_SIZES)\n",
        "# number of random trials to perform for baseline\n",
        "N_RAND_BATCHES = 20\n",
        "\n",
        "# wild-type fitness\n",
        "WT_FIT = 0.0121563\n",
        "\n",
        "\n",
        "total1=len(TRAIN_BATCH_SIZES)*len(dfs)\n",
        "pbar1=tqdm.notebook.tqdm(total=total1, bar_format=TQDM_BAR_FORMAT)\n",
        "\n",
        "total2=len(TRAIN_BATCH_SIZES)*len(dfs)*N_BATCH\n",
        "pbar2=tqdm.notebook.tqdm(total=total2, bar_format=TQDM_BAR_FORMAT)\n",
        "\n",
        "total3=len(TRAIN_BATCH_SIZES)*len(dfs)*N_BATCH*N_RAND_BATCHES\n",
        "pbar3=tqdm.notebook.tqdm(total=total3, bar_format=TQDM_BAR_FORMAT)\n",
        "\n",
        "batch_level = []\n",
        "for TRAIN_BATCH_SIZE in TRAIN_BATCH_SIZES:\n",
        "\n",
        "  # number of sequences per holdout batch\n",
        "  HOLDOUT_BATCH_SIZE = TRAIN_BATCH_SIZE*10\n",
        "\n",
        "  params_level = []\n",
        "  for j in range(len(dfs)):\n",
        "    pbar1.update(1)\n",
        "    df = dfs[j]\n",
        "\n",
        "    scores_level = []\n",
        "    for i in range(N_BATCH):\n",
        "      pbar2.update(1)\n",
        "      # change random seed for each batch\n",
        "      np.random.seed(42*(i+2))\n",
        "      rndperm = np.random.permutation(df.shape[0])\n",
        "\n",
        "      # data setup\n",
        "      X = df.loc[rndperm[0:TRAIN_BATCH_SIZE], df.columns[2:]]\n",
        "      Y = df.loc[rndperm[0:TRAIN_BATCH_SIZE], \"fitness\"]\n",
        "\n",
        "      X_holdout = df.loc[rndperm[TRAIN_BATCH_SIZE:TRAIN_BATCH_SIZE+HOLDOUT_BATCH_SIZE], df.columns[2:]]\n",
        "      Y_holdout = df.loc[rndperm[TRAIN_BATCH_SIZE:TRAIN_BATCH_SIZE+HOLDOUT_BATCH_SIZE], \"fitness\"]\n",
        "\n",
        "      # ridge regression model setup\n",
        "      kfold = KFold(n_splits=10, shuffle=True)\n",
        "\n",
        "      model = RidgeCV(alphas=[ALPHAS[j]], cv=kfold)\n",
        "\n",
        "      # fit the model\n",
        "      model.fit(X, Y)\n",
        "\n",
        "      # use model to sort holdout set and get top TRAIN_BATCH_SIZE predicted fitness\n",
        "      Y_preds = model.predict(X_holdout)\n",
        "\n",
        "      usorted = np.array(Y_holdout)[np.argsort(Y_preds)][::-1][:int(HOLDOUT_BATCH_SIZE/10)]\n",
        "\n",
        "      # Note: wild-type fitness = WT_FIT (thats the scoring metric)\n",
        "      usorted_count = np.sum([1 if i > WT_FIT else 0 for i in usorted])\n",
        "\n",
        "      # randomly shuffle holdout set RAND_BATCHES time\n",
        "      # and take average of top TRAIN_BATCH_SIZE fitness\n",
        "      avg_rand_count = 0\n",
        "      for k in range(N_RAND_BATCHES):\n",
        "        pbar3.update(1)\n",
        "        np.random.seed(42*(i+2) + (1+k))\n",
        "        rand_Y = np.random.permutation(np.array(Y_holdout))[:int(HOLDOUT_BATCH_SIZE/10)]\n",
        "        avg_rand_count += np.sum([1 if i > WT_FIT else 0 for i in rand_Y])\n",
        "      avg_rand_count /= N_RAND_BATCHES\n",
        "\n",
        "      # final score ratio:\n",
        "      scores_level.append(usorted_count/avg_rand_count)\n",
        "\n",
        "    print(df_names[j], scores_level, \"Mean Score:\", np.mean(scores_level))\n",
        "    params_level.append(scores_level)\n",
        "\n",
        "  batch_level.append(params_level)\n",
        "\n",
        "\n",
        "plt.clf()\n",
        "ax_dict = {}\n",
        "fig, axes = plt.subplots(nrows=1, ncols=len(TRAIN_BATCH_SIZES), sharey=True, figsize=(3*len(TRAIN_BATCH_SIZES),4))\n",
        "\n",
        "for i in range(len(TRAIN_BATCH_SIZES)):\n",
        "  ax_dict[i] = axes[i].boxplot(np.array(batch_level[i]).transpose(), showfliers=False,patch_artist=True)\n",
        "  axes[i].set_title(\"N = \"+str(TRAIN_BATCH_SIZES[i]))\n",
        "  axes[i].set_xticklabels(df_names,rotation=45)\n",
        "  \n",
        "axes[0].set_ylabel(\"Fold improvement \\n over random sampling\",size = 12)\n",
        "\n",
        "color_idx = np.linspace(0, 1, len(df_names))\n",
        "for ax_ind in range(len(ax_dict)):\n",
        "  for patch, i in zip(ax_dict[ax_ind]['boxes'], color_idx):\n",
        "    patch.set_facecolor(plt.cm.cool(i))\n",
        "\n",
        "for ax in axes:\n",
        "    ax.yaxis.grid(True)\n",
        "\n",
        "plt.tight_layout()\n",
        "plt.show()"
      ],
      "execution_count": null,
      "outputs": [
        {
          "name": "stdout",
          "output_type": "stream",
          "text": [
            "[10, 15, 20, 25, 30, 35]\n"
          ]
        },
        {
          "data": {
            "application/vnd.jupyter.widget-view+json": {
              "model_id": "262db95b85404d72971f098b0b30d262",
              "version_major": 2,
              "version_minor": 0
            },
            "text/plain": [
              "  0%|          | 0/24 [elapsed: 00:00 remaining: ?]"
            ]
          },
          "metadata": {},
          "output_type": "display_data"
        },
        {
          "data": {
            "application/vnd.jupyter.widget-view+json": {
              "model_id": "7f8a90f752ce42fba8d169c806c39779",
              "version_major": 2,
              "version_minor": 0
            },
            "text/plain": [
              "  0%|          | 0/480 [elapsed: 00:00 remaining: ?]"
            ]
          },
          "metadata": {},
          "output_type": "display_data"
        },
        {
          "data": {
            "application/vnd.jupyter.widget-view+json": {
              "model_id": "e16ccd4ed030486ea9f13758a9fbb8de",
              "version_major": 2,
              "version_minor": 0
            },
            "text/plain": [
              "  0%|          | 0/9600 [elapsed: 00:00 remaining: ?]"
            ]
          },
          "metadata": {},
          "output_type": "display_data"
        },
        {
          "name": "stdout",
          "output_type": "stream",
          "text": [
            "unirep [0.8928571428571429, 1.2121212121212122, 1.4173228346456694, 1.1940298507462686, 0.9917355371900827, 1.0687022900763359, 1.1940298507462686, 1.2030075187969924, 1.1428571428571428, 1.2307692307692308, 0.7936507936507937, 1.25, 1.4285714285714286, 1.3533834586466165, 1.2030075187969924, 1.1510791366906474, 1.0294117647058825, 1.1267605633802817, 1.5748031496062993, 1.2413793103448276] Mean Score: 1.1849739867600058\n",
            "eunirep [0.5357142857142857, 1.3636363636363638, 1.4173228346456694, 1.1940298507462686, 1.322314049586777, 1.3740458015267176, 1.3432835820895521, 1.2030075187969924, 1.1428571428571428, 1.5384615384615385, 0.6349206349206349, 1.1111111111111112, 1.2857142857142858, 0.9022556390977443, 1.3533834586466165, 1.1510791366906474, 1.1764705882352942, 0.8450704225352114, 1.2598425196850394, 1.2413793103448276] Mean Score: 1.1697950037521363\n",
            "one hot [0.5357142857142857, 1.2121212121212122, 1.4173228346456694, 1.1940298507462686, 1.322314049586777, 1.3740458015267176, 1.3432835820895521, 1.0526315789473684, 1.1428571428571428, 1.3846153846153846, 0.7936507936507937, 1.25, 1.2857142857142858, 1.2030075187969924, 1.2030075187969924, 1.2949640287769784, 1.1764705882352942, 1.267605633802817, 1.4173228346456694, 1.2413793103448276] Mean Score: 1.2056029117807514\n",
            "rand_eunirep [0.8928571428571429, 1.3636363636363638, 1.2598425196850394, 1.1940298507462686, 0.9917355371900827, 0.916030534351145, 1.4925373134328357, 1.2030075187969924, 1.1428571428571428, 0.9230769230769231, 0.7936507936507937, 1.1111111111111112, 1.4285714285714286, 1.2030075187969924, 1.3533834586466165, 1.2949640287769784, 0.8823529411764706, 1.267605633802817, 1.4173228346456694, 1.103448275862069] Mean Score: 1.161751443583544\n",
            "unirep [0.9523809523809524, 1.3043478260869565, 1.3131313131313131, 1.1764705882352942, 1.3756613756613758, 1.3333333333333333, 1.1111111111111112, 0.8121827411167513, 1.218274111675127, 1.3978494623655913, 0.9326424870466321, 0.9852216748768473, 1.2807881773399015, 1.1764705882352942, 1.3259668508287292, 1.2435233160621761, 1.2871287128712872, 1.2935323383084576, 1.2244897959183672, 1.0045662100456623] Mean Score: 1.1874536483315579\n",
            "eunirep [0.8465608465608466, 1.3043478260869565, 1.2121212121212122, 1.1764705882352942, 1.3756613756613758, 1.3333333333333333, 1.2121212121212122, 1.116751269035533, 1.218274111675127, 1.3978494623655913, 0.7253886010362695, 0.8866995073891625, 1.2807881773399015, 0.7486631016042781, 1.3259668508287292, 1.2435233160621761, 1.188118811881188, 1.3930348258706466, 1.3265306122448979, 0.6392694063926941] Mean Score: 1.1475737223923212\n",
            "one hot [0.8465608465608466, 1.4130434782608696, 1.3131313131313131, 1.1764705882352942, 1.3756613756613758, 1.3333333333333333, 1.3131313131313131, 0.8121827411167513, 1.218274111675127, 1.2903225806451613, 0.7253886010362695, 0.8866995073891625, 1.2807881773399015, 0.8556149732620321, 1.3259668508287292, 1.3471502590673574, 1.2871287128712872, 1.2935323383084576, 1.1224489795918366, 0.7305936073059361] Mean Score: 1.1473711844376178\n",
            "rand_eunirep [1.0582010582010584, 1.4130434782608696, 1.3131313131313131, 1.2745098039215688, 1.26984126984127, 1.1282051282051282, 1.3131313131313131, 1.116751269035533, 1.116751269035533, 1.182795698924731, 0.7253886010362695, 0.9852216748768473, 1.1822660098522166, 0.5347593582887701, 1.1049723756906076, 1.3471502590673574, 1.0891089108910892, 1.3930348258706466, 1.3265306122448979, 0.8219178082191781] Mean Score: 1.13483560188631\n",
            "unirep [1.09375, 1.2765957446808511, 1.3076923076923077, 1.2030075187969924, 1.2639405204460967, 1.0408921933085502, 1.0727969348659003, 1.0408921933085502, 1.450381679389313, 1.2639405204460967, 1.0236220472440944, 1.0236220472440944, 1.1450381679389314, 1.129032258064516, 0.9022556390977443, 1.3114754098360657, 1.2403100775193798, 1.103448275862069, 1.3127413127413128, 1.1808118081180812] Mean Score: 1.1693123328300472\n",
            "eunirep [0.859375, 1.1063829787234043, 1.2307692307692308, 1.2030075187969924, 1.338289962825279, 0.966542750929368, 1.1494252873563218, 1.1152416356877324, 1.3740458015267176, 1.1895910780669146, 0.9448818897637796, 0.9448818897637796, 1.297709923664122, 1.2096774193548387, 0.9774436090225563, 1.1475409836065575, 1.317829457364341, 1.103448275862069, 1.3127413127413128, 0.8118081180811808] Mean Score: 1.130031706195325\n",
            "one hot [1.015625, 1.446808510638298, 1.3076923076923077, 1.2030075187969924, 1.338289962825279, 1.338289962825279, 1.3026819923371646, 0.892193308550186, 1.3740458015267176, 1.2639405204460967, 1.0236220472440944, 0.9448818897637796, 1.297709923664122, 1.129032258064516, 0.9774436090225563, 1.3934426229508197, 1.3953488372093024, 1.1724137931034482, 1.3127413127413128, 0.8856088560885609] Mean Score: 1.2007410017745417\n",
            "rand_eunirep [1.171875, 1.2765957446808511, 1.3076923076923077, 1.2781954887218046, 1.1895910780669146, 1.1895910780669146, 1.2260536398467432, 0.892193308550186, 1.297709923664122, 1.338289962825279, 0.9448818897637796, 1.0236220472440944, 1.2213740458015268, 1.2903225806451613, 0.9774436090225563, 1.3934426229508197, 1.0852713178294573, 1.1724137931034482, 1.3127413127413128, 0.959409594095941] Mean Score: 1.177435517265661\n",
            "unirep [0.9937888198757763, 1.111111111111111, 1.2307692307692308, 1.238390092879257, 1.2727272727272727, 1.0526315789473686, 1.148036253776435, 1.0909090909090908, 1.3609467455621302, 1.155015197568389, 1.1042944785276072, 1.157556270096463, 1.0271903323262839, 1.0862619808306708, 1.1411411411411412, 1.3125, 1.165644171779141, 1.0404624277456647, 1.2698412698412698, 1.073446327683616] Mean Score: 1.1516331897048961\n",
            "eunirep [0.9937888198757763, 0.9941520467836257, 1.1692307692307693, 1.0526315789473686, 1.1515151515151516, 1.0526315789473686, 1.0876132930513596, 1.1515151515151516, 1.3017751479289943, 1.21580547112462, 1.0429447852760736, 1.2218649517684887, 0.9667673716012084, 1.0862619808306708, 0.9609609609609611, 1.3125, 1.2269938650306749, 1.1560693641618496, 1.2698412698412698, 0.903954802259887] Mean Score: 1.1159409180325632\n",
            "one hot [1.1801242236024843, 1.3450292397660817, 1.2307692307692308, 1.1764705882352942, 1.393939393939394, 1.1764705882352942, 1.3293051359516617, 1.0303030303030303, 1.3609467455621302, 1.2765957446808511, 1.0429447852760736, 1.2218649517684887, 0.9667673716012084, 1.1501597444089458, 1.1411411411411412, 1.3125, 1.2883435582822085, 1.2716763005780347, 1.2063492063492063, 1.0169491525423728] Mean Score: 1.2059325066496567\n",
            "rand_eunirep [1.1180124223602483, 0.9941520467836257, 1.1692307692307693, 1.3622291021671828, 1.0909090909090908, 1.1764705882352942, 1.2084592145015105, 1.1515151515151516, 1.3017751479289943, 1.2765957446808511, 1.1042944785276072, 1.157556270096463, 1.148036253776435, 1.2140575079872205, 0.9609609609609611, 1.25, 1.165644171779141, 1.0982658959537572, 1.2698412698412698, 0.903954802259887] Mean Score: 1.156098044474773\n",
            "unirep [0.9973753280839894, 1.0796915167095116, 1.2105263157894737, 1.1506849315068493, 1.1764705882352942, 1.0498687664041995, 0.9718670076726342, 1.0025062656641603, 1.2873563218390804, 1.155778894472362, 1.1311053984575836, 1.1224489795918366, 1.0945273631840795, 1.2332439678284184, 1.0874704491725768, 1.3368983957219251, 1.1979166666666667, 0.9324009324009325, 1.1027568922305764, 1.0208816705336428] Mean Score: 1.1170888326082897\n",
            "eunirep [0.9448818897637795, 0.9768637532133676, 1.105263157894737, 1.1506849315068493, 1.0741687979539642, 1.2073490813648293, 1.1764705882352942, 1.0526315789473684, 1.1954022988505748, 1.155778894472362, 0.9768637532133676, 1.0714285714285714, 0.9950248756218905, 1.126005361930295, 0.9929078014184398, 1.2834224598930482, 1.0416666666666667, 0.8857808857808858, 1.0526315789473684, 0.974477958236659] Mean Score: 1.0719852442670161\n",
            "one hot [0.9448818897637795, 1.1311053984575836, 1.263157894736842, 1.2602739726027397, 1.1764705882352942, 1.1023622047244095, 1.278772378516624, 0.9523809523809524, 1.2413793103448276, 1.256281407035176, 1.0796915167095116, 1.1224489795918366, 1.0945273631840795, 1.2332439678284184, 1.1347517730496455, 1.2299465240641712, 1.3541666666666667, 1.0722610722610724, 1.0526315789473684, 1.0208816705336428] Mean Score: 1.1500808554817321\n"
          ]
        },
        {
          "name": "stdout",
          "output_type": "stream",
          "text": [
            "rand_eunirep [1.0498687664041995, 1.1825192802056557, 1.1578947368421053, 1.2054794520547945, 1.1764705882352942, 1.1548556430446193, 1.1253196930946292, 1.0526315789473684, 1.1494252873563218, 1.105527638190955, 1.0282776349614395, 1.1224489795918366, 1.0945273631840795, 1.126005361930295, 1.0401891252955084, 1.3368983957219251, 1.25, 0.9790209790209791, 1.2030075187969924, 1.0208816705336428] Mean Score: 1.1280624846706322\n",
            "unirep [0.9361702127659575, 1.0176991150442478, 1.1566265060240963, 1.1818181818181819, 1.1416490486257929, 1.1320754716981132, 1.0570824524312896, 1.0596026490066226, 1.1553784860557768, 1.2189616252821671, 1.0964912280701753, 1.1037527593818985, 1.0947368421052632, 1.2254901960784315, 1.087866108786611, 1.2315270935960592, 1.1061946902654867, 0.9900990099009901, 1.059322033898305, 1.1020408163265305] Mean Score: 1.1077292263581\n",
            "eunirep [0.9787234042553191, 0.8849557522123893, 1.1566265060240963, 1.0454545454545454, 1.0147991543340382, 0.9905660377358491, 1.0993657505285412, 1.1037527593818985, 1.1155378486055776, 1.1738148984198646, 1.0087719298245614, 1.1479028697571745, 1.0526315789473684, 1.1764705882352942, 1.00418410041841, 1.2315270935960592, 1.0619469026548671, 0.9900990099009901, 1.059322033898305, 1.0612244897959184] Mean Score: 1.0678838626990534\n",
            "one hot [0.9787234042553191, 1.0176991150442478, 1.0602409638554218, 1.2272727272727273, 1.0570824524312896, 1.1320754716981132, 1.1416490486257929, 1.1037527593818985, 1.1553784860557768, 1.2641083521444696, 1.0964912280701753, 1.0596026490066226, 1.0947368421052632, 1.1764705882352942, 1.00418410041841, 1.2315270935960592, 1.1946902654867255, 1.0693069306930694, 1.0169491525423728, 1.1020408163265305] Mean Score: 1.1091991223622792\n",
            "rand_eunirep [1.0212765957446808, 1.0619469026548671, 1.2048192771084338, 1.0909090909090908, 1.0147991543340382, 1.1320754716981132, 1.0570824524312896, 1.0154525386313467, 1.0756972111553784, 1.1738148984198646, 1.0087719298245614, 1.1037527593818985, 1.1789473684210525, 1.323529411764706, 1.0460251046025104, 1.3300492610837438, 1.1061946902654867, 0.9900990099009901, 1.059322033898305, 1.1020408163265305] Mean Score: 1.1048302989278445\n"
          ]
        },
        {
          "data": {
            "text/plain": [
              "<Figure size 432x288 with 0 Axes>"
            ]
          },
          "metadata": {},
          "output_type": "display_data"
        },
        {
          "data": {
            "image/png": "[encoded data removed]",
            "text/plain": [
              "<Figure size 1296x288 with 6 Axes>"
            ]
          },
          "metadata": {},
          "output_type": "display_data"
        }
      ]
    },
    {
      "cell_type": "code",
      "metadata": {
        "id": "2l_ckQxgCYXS"
      },
      "source": [
        ""
      ],
      "execution_count": null,
      "outputs": []
    }
  ]
}